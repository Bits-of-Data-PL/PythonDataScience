{
 "cells": [
  {
   "cell_type": "code",
   "execution_count": null,
   "id": "b39b1694-9547-4361-8254-3d2d9e1a4f98",
   "metadata": {},
   "outputs": [],
   "source": [
    "def zlicz(lista):\n",
    "    ilosc_wystapien = {}\n",
    "    for x in lista:\n",
    "        ilosc = ilosc_wystapien.get(x, 0)\n",
    "        ilosc = ilosc + 1\n",
    "        ilosc_wystapien[x] = ilosc\n",
    "    return ilosc_wystapien"
   ]
  },
  {
   "cell_type": "code",
   "execution_count": null,
   "id": "a03976e2-047e-457b-95d2-4ccd2296dcf6",
   "metadata": {},
   "outputs": [],
   "source": [
    "def choinka(poziom):\n",
    "    S=\" \"\n",
    "    G=\"*\"\n",
    "    for i in range(1,poziom+1):\n",
    "        print ( S*(poziom-i) + G*(2*i-1) )\n",
    "    print( S*(poziom-1) + G )\n",
    "    print( S*(poziom-2) + G*3 )    "
   ]
  },
  {
   "cell_type": "code",
   "execution_count": null,
   "id": "b217c353-8c7d-49a6-ae74-3c2edf02dc4a",
   "metadata": {},
   "outputs": [],
   "source": [
    "\"Dziel i rządź\" - dzielimy problem na podproblemy\n",
    "1. Rozwiążemy problem w zakresie 0-999\n",
    "2. Rozwiążemy problem dodania jednostek\n",
    "3. Połączymy rozwiązania"
   ]
  },
  {
   "cell_type": "code",
   "execution_count": 1,
   "id": "38a8e5b7-c031-43c8-bd62-fe51c28558a0",
   "metadata": {},
   "outputs": [],
   "source": [
    "def do999(n):\n",
    "    nazwy_jednosci = { 0: \"\", 1: \"jeden\", 2: \"dwa\", 3: \"trzy\", 4: \"cztery\", 5: \"pięć\", 6: \"sześć\", 7: \"siedem\", 8: \"osiem\", 9: \"dziewięć\"}\n",
    "    nazwy_nastki = { 11: \"jedenaście\", 12: \"dwanaście\", 13: \"trzynaście\", 14: \"czternaście\", 15: \"piętnaście\", 16: \"szesnaście\", 17: \"siedemnaście\", 18: \"osiemnaście\", 19: \"dziewietnaście\"}\n",
    "    nazwy_dziesiatki = { 0: \"\", 10: \"dziesięć\", 20: \"dwadzieścia\", 30: \"trzydzieści\", 40: \"czterdzieści\", 50: \"pięćdziesiąt\", 60: \"sześćdziesiąt\", 70: \"siedemdziesiąt\", 80: \"osiemdziesiąt\", 90: \"dziewięćdziesiąt\"}\n",
    "    nazwy_setki = { 0: \"\", 100: \"sto\", 200: \"dwieście\", 300: \"trzysta\", 400: \"czterysta\", 500: \"pięćset\", 600: \"sześćset\", 700: \"siedemset\", 800: \"osiemset\", 900: \"dziewięćset\"}\n",
    "    \n",
    "    wynik = [n] \n",
    "    \n",
    "    jednosci = n % 10\n",
    "    wynik =  [ (jednosci,nazwy_jednosci[jednosci]) ]\n",
    "    \n",
    "    n = n - jednosci\n",
    "    dziesiatki = n % 100\n",
    "    \n",
    "    if dziesiatki == 10 and jednosci > 0:\n",
    "        suma = dziesiatki+jednosci\n",
    "        wynik = [ (suma, nazwy_nastki[suma]) ]\n",
    "    else:\n",
    "        wynik = [ (dziesiatki,nazwy_dziesiatki[dziesiatki]) ]  + wynik\n",
    "        \n",
    "    n = n - dziesiatki\n",
    "    setki = n % 1000\n",
    "    wynik= [ (setki,nazwy_setki[setki]) ] + wynik\n",
    "    \n",
    "    return wynik\n",
    "\n"
   ]
  },
  {
   "cell_type": "code",
   "execution_count": 2,
   "id": "ffd13354-bc3a-4ebb-bbcd-cf0d58b5179a",
   "metadata": {},
   "outputs": [],
   "source": [
    "def dodaj_jednostke(lista, formy):\n",
    "    wartosc = 0\n",
    "    for i in lista:\n",
    "        wartosc += i[0] \n",
    "        \n",
    "    if wartosc==0:\n",
    "        return lista\n",
    "\n",
    "    if wartosc==1:\n",
    "        lista = [ (0, formy[0]) ]\n",
    "    elif lista[-1][0] in [2,3,4]:\n",
    "        lista.append( (lista[-1][0], formy[1]))\n",
    "    else:\n",
    "        lista.append( (lista[-1][0], formy[2]))\n",
    "    return lista"
   ]
  },
  {
   "cell_type": "code",
   "execution_count": 3,
   "id": "1bed695f-2305-4233-9769-6a875cbabde3",
   "metadata": {},
   "outputs": [
    {
     "data": {
      "text/plain": [
       "[(100, 'sto'), (12, 'dwanaście'), (12, 'jabłek')]"
      ]
     },
     "execution_count": 3,
     "metadata": {},
     "output_type": "execute_result"
    }
   ],
   "source": [
    "dodaj_jednostke([(100, 'sto'), (12, 'dwanaście')], ['jabłko', 'jabłka', 'jabłek'])"
   ]
  },
  {
   "cell_type": "code",
   "execution_count": 4,
   "id": "3450c870-8a5c-4a96-ad38-636f7ed77c5a",
   "metadata": {},
   "outputs": [],
   "source": [
    "def sklej(lista):\n",
    "    wynik = \"\"\n",
    "    S = \" \"\n",
    "    for i in lista:\n",
    "        if len(i[1])>0:\n",
    "            wynik += S + i[1]\n",
    "    return wynik.strip()"
   ]
  },
  {
   "cell_type": "code",
   "execution_count": 5,
   "id": "54fd39d4-47c5-4373-a9ac-12640455367e",
   "metadata": {},
   "outputs": [],
   "source": [
    "def _slownie(n):\n",
    "    wynik = do999(n%1000)\n",
    "    if n>999:\n",
    "        n=n//1000\n",
    "        wynik = dodaj_jednostke(do999(n%1000), ['tysiąc', 'tysiące', 'tysięcy']) + wynik\n",
    "    if n>999:\n",
    "        n=n//1000\n",
    "        wynik = dodaj_jednostke(do999(n%1000), ['milion', 'miliony', 'milionów']) + wynik\n",
    "    if n>999:\n",
    "        n=n//1000\n",
    "        wynik = dodaj_jednostke(do999(n%1000), ['miliard', 'miliardy', 'miliardów']) + wynik\n",
    "        \n",
    "    return wynik"
   ]
  },
  {
   "cell_type": "code",
   "execution_count": null,
   "id": "babc59c4-fa6e-4fa4-845b-eb3c9932e5d4",
   "metadata": {},
   "outputs": [],
   "source": [
    "_slownie(1984)"
   ]
  },
  {
   "cell_type": "code",
   "execution_count": 6,
   "id": "74dcfb02-e78d-44a7-b55f-f3e7115b6dc7",
   "metadata": {},
   "outputs": [
    {
     "data": {
      "text/plain": [
       "[(300, 'trzysta'),\n",
       " (60, 'sześćdziesiąt'),\n",
       " (9, 'dziewięć'),\n",
       " (9, 'miliardów'),\n",
       " (0, ''),\n",
       " (17, 'siedemnaście'),\n",
       " (17, 'milionów'),\n",
       " (0, ''),\n",
       " (0, ''),\n",
       " (2, 'dwa'),\n",
       " (2, 'tysiące'),\n",
       " (0, ''),\n",
       " (11, 'jedenaście')]"
      ]
     },
     "execution_count": 6,
     "metadata": {},
     "output_type": "execute_result"
    }
   ],
   "source": [
    "_slownie(369_017_002_011)"
   ]
  },
  {
   "cell_type": "code",
   "execution_count": 7,
   "id": "b49aabd0-def5-4262-b1bf-c0fb7d72fe58",
   "metadata": {},
   "outputs": [],
   "source": [
    "def slownie(n):\n",
    "    lista = _slownie(n)\n",
    "    wynik = sklej(lista)\n",
    "    return wynik.strip()"
   ]
  },
  {
   "cell_type": "code",
   "execution_count": null,
   "id": "85cfa0a3-9d8e-4bf7-9b0f-13c825412f2c",
   "metadata": {},
   "outputs": [],
   "source": [
    "slownie(1000000000)"
   ]
  },
  {
   "cell_type": "code",
   "execution_count": 8,
   "id": "d60d7f35-14b3-4277-a28e-5619ead67413",
   "metadata": {},
   "outputs": [
    {
     "data": {
      "text/plain": [
       "'trzysta sześćdziesiąt dziewięć miliardów siedemnaście milionów dwa tysiące jedenaście'"
      ]
     },
     "execution_count": 8,
     "metadata": {},
     "output_type": "execute_result"
    }
   ],
   "source": [
    "slownie(369_017_002_011)"
   ]
  },
  {
   "cell_type": "code",
   "execution_count": null,
   "id": "b54c5ef8-7fb3-450e-8e73-404ad853c59b",
   "metadata": {},
   "outputs": [],
   "source": []
  }
 ],
 "metadata": {
  "kernelspec": {
   "display_name": "Python 3",
   "language": "python",
   "name": "python3"
  },
  "language_info": {
   "codemirror_mode": {
    "name": "ipython",
    "version": 3
   },
   "file_extension": ".py",
   "mimetype": "text/x-python",
   "name": "python",
   "nbconvert_exporter": "python",
   "pygments_lexer": "ipython3",
   "version": "3.9.1"
  }
 },
 "nbformat": 4,
 "nbformat_minor": 5
}
