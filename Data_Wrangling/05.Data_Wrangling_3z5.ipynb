{
 "cells": [
  {
   "cell_type": "markdown",
   "id": "102c2a8a-979f-4ab7-bc3b-f3511e26e7ee",
   "metadata": {},
   "source": [
    "# Data Wrangling 3\n",
    "\n",
    "## Pandas dla Bazodanowców\n",
    "\n",
    "### Łaczenie dwu `DataFrame` z sobą ... i z bazą danych\n",
    "\n",
    "---"
   ]
  },
  {
   "cell_type": "markdown",
   "id": "18cb4ba1-c82c-42b2-87eb-18526e846382",
   "metadata": {},
   "source": [
    "## Tidy Data"
   ]
  },
  {
   "cell_type": "markdown",
   "id": "b26c6ada-1db2-45ca-aae8-da9d131616ac",
   "metadata": {},
   "source": [
    "Wickham, Hadley - _\"Tidy Data\"_\n",
    "https://www.jstatsoft.org/index.php/jss/article/view/v059i10/v59i10.pdf"
   ]
  },
  {
   "cell_type": "markdown",
   "id": "a3323e13-e374-468a-8bf3-93574270b3dd",
   "metadata": {},
   "source": [
    "- Each variable you measure should be in one column.\n",
    "- Each different observation of that variable should be in a different row.\n",
    "- __There should be one table for each \"kind\" of variable.__\n",
    "- __If you have multiple tables, they should include a column in the table that allows them to be linked.__"
   ]
  },
  {
   "cell_type": "markdown",
   "id": "ad5948ca-e2f5-4eba-87b8-8b4c252998ae",
   "metadata": {},
   "source": [
    "---"
   ]
  },
  {
   "cell_type": "code",
   "execution_count": null,
   "id": "b94ca5ae-a0bf-4da1-9f73-c9f40645fce0",
   "metadata": {},
   "outputs": [],
   "source": [
    "import pandas as pd\n",
    "import numpy as np\n",
    "df1 = pd.DataFrame(np.random.randn(10_000, 4), columns=list('ABCD'))\n",
    "\n",
    "df1"
   ]
  },
  {
   "cell_type": "code",
   "execution_count": null,
   "id": "b66563ce-24e8-4c70-bb00-9664e91912be",
   "metadata": {},
   "outputs": [],
   "source": [
    "import pandas as pd\n",
    "import numpy as np\n",
    "df2 = pd.DataFrame(np.random.randn(10_000, 4), columns=list('ABCD'))\n",
    "\n",
    "df2"
   ]
  },
  {
   "cell_type": "code",
   "execution_count": null,
   "id": "7d16f872-b815-425a-9376-446be53500f2",
   "metadata": {},
   "outputs": [],
   "source": [
    "pd.concat([df1, df2])"
   ]
  },
  {
   "cell_type": "code",
   "execution_count": null,
   "id": "4c04640f-b145-497b-a026-ae766c51bf1b",
   "metadata": {},
   "outputs": [],
   "source": [
    "pd.concat([df1, df2]).reset_index()"
   ]
  },
  {
   "cell_type": "code",
   "execution_count": null,
   "id": "a862ddaa-ed72-450b-b8dc-89d2d00b3602",
   "metadata": {},
   "outputs": [],
   "source": [
    "pd.concat([df1, df2], keys=[\"DF1\", \"DF2\"])"
   ]
  },
  {
   "cell_type": "code",
   "execution_count": null,
   "id": "45fe2c4c-b602-45d7-937a-1fb95c2e627d",
   "metadata": {},
   "outputs": [],
   "source": [
    "pd.concat([df1, df2], axis=1)"
   ]
  },
  {
   "cell_type": "code",
   "execution_count": null,
   "id": "9c456413-2564-4557-b7fd-948e0e9bef67",
   "metadata": {},
   "outputs": [],
   "source": [
    "pd.concat([df1, df2], axis=1, keys=[\"DF1\", \"DF2\"])"
   ]
  },
  {
   "cell_type": "code",
   "execution_count": null,
   "id": "0925d12b-8838-4870-87ab-17328aa8a3d6",
   "metadata": {},
   "outputs": [],
   "source": [
    "import pandas as pd\n",
    "import numpy as np\n",
    "\n",
    "df1 = pd.DataFrame(np.random.randn(10_000, 3), columns=list('ABC'))\n",
    "\n",
    "df1"
   ]
  },
  {
   "cell_type": "code",
   "execution_count": null,
   "id": "9775987b-0436-43be-8bec-1a77e8d2b8af",
   "metadata": {},
   "outputs": [],
   "source": [
    "df2 = pd.DataFrame(np.random.randn(1_000, 2), columns=list('EF'))\n",
    "\n",
    "df2"
   ]
  },
  {
   "cell_type": "code",
   "execution_count": null,
   "id": "61fbf7e4-1a2a-4576-98f1-b4d2f96b943d",
   "metadata": {},
   "outputs": [],
   "source": [
    "pd.concat([df1, df2])"
   ]
  },
  {
   "cell_type": "code",
   "execution_count": null,
   "id": "f5e4a93c-27fe-4a5c-83e8-d17ed0645a70",
   "metadata": {},
   "outputs": [],
   "source": [
    "pd.concat([df1, df2], axis=1)"
   ]
  },
  {
   "cell_type": "code",
   "execution_count": null,
   "id": "a2c04e2c-0d5b-4419-afa5-35a6a37b0d99",
   "metadata": {},
   "outputs": [],
   "source": [
    "pd.concat([df1, df2], axis=1, join='inner')"
   ]
  },
  {
   "cell_type": "code",
   "execution_count": null,
   "id": "7cbea902-0f80-49db-993e-72389fe6fdf3",
   "metadata": {},
   "outputs": [],
   "source": [
    "pd.concat([df1, df2], axis=1, join='outer')"
   ]
  },
  {
   "cell_type": "code",
   "execution_count": null,
   "id": "2ef83027-0970-4b57-8054-983d8a5c636a",
   "metadata": {},
   "outputs": [],
   "source": [
    "df0 = df1.drop(range(500)).reset_index()\n",
    "df0"
   ]
  },
  {
   "cell_type": "code",
   "execution_count": null,
   "id": "4f515524-3a53-4d72-bb23-fc3912ea79bd",
   "metadata": {},
   "outputs": [],
   "source": [
    "df3 = df2.reset_index()\n",
    "df3"
   ]
  },
  {
   "cell_type": "code",
   "execution_count": null,
   "id": "39052b5d-f6cb-4358-8875-80112b224baf",
   "metadata": {},
   "outputs": [],
   "source": [
    "pd.merge(df0, df3, on='index')"
   ]
  },
  {
   "cell_type": "markdown",
   "id": "9e55688c-715d-4bea-bff5-bc47375d4a5f",
   "metadata": {},
   "source": [
    "### __how {‘left’, ‘right’, ‘outer’, ‘inner’, ‘cross’}, default ‘left__\n",
    "\n",
    "- ##### __inner__: stwórz przecięcie indeksów; zachowaj porządek z ramki wywołującej\n",
    "\n",
    "- ##### __outer__: połącz indeksy; posortuj je leksykograficznie \n",
    "\n",
    "\n",
    "- ##### __left__: użyj indeksu bieżącej ramki\n",
    "\n",
    "- ##### __right__: użyj indeksu drugiej ramki\n",
    "\n",
    "- ##### __cross__: stwórz iloczyn kartezjański ramek"
   ]
  },
  {
   "cell_type": "code",
   "execution_count": null,
   "id": "b17e3393-fc68-495f-87c0-b5ce3e32a3dd",
   "metadata": {},
   "outputs": [],
   "source": [
    "pd.merge(df0, df3, on='index', how='inner')"
   ]
  },
  {
   "cell_type": "code",
   "execution_count": null,
   "id": "57bcc91c-f8fe-436e-b679-8fb0e0288620",
   "metadata": {},
   "outputs": [],
   "source": [
    "pd.merge(df0, df3, on='index', how=\"outer\")"
   ]
  },
  {
   "cell_type": "code",
   "execution_count": null,
   "id": "21770b79-74b3-4e93-9756-dc52094aefcb",
   "metadata": {},
   "outputs": [],
   "source": [
    "pd.merge(df0, df3, on='index', how=\"left\")"
   ]
  },
  {
   "cell_type": "code",
   "execution_count": null,
   "id": "ad518fe7-54d6-40eb-8cd4-0c497861b722",
   "metadata": {},
   "outputs": [],
   "source": [
    "pd.merge(df0, df3, on='index', how=\"right\")"
   ]
  },
  {
   "cell_type": "code",
   "execution_count": null,
   "id": "6a6c0882-382c-4479-beb5-6e21bc84dbfa",
   "metadata": {},
   "outputs": [],
   "source": [
    "df0.join(df3, lsuffix=\"_left\", rsuffix=\"_right\")"
   ]
  },
  {
   "cell_type": "code",
   "execution_count": null,
   "id": "24a1c9e2-e854-4370-9f6e-5118546c54c3",
   "metadata": {},
   "outputs": [],
   "source": [
    "df0.join(df3, lsuffix=\"_left\", rsuffix=\"_right\", how=\"inner\")"
   ]
  },
  {
   "cell_type": "markdown",
   "id": "cac622f9-1255-4d87-93af-9a469d1025e7",
   "metadata": {},
   "source": [
    "---\n",
    "## Porównanie wydajności"
   ]
  },
  {
   "cell_type": "code",
   "execution_count": null,
   "id": "1cb7f5b3-dfa0-4269-b832-4fb834c1847f",
   "metadata": {},
   "outputs": [],
   "source": [
    "%%timeit\n",
    "pd.merge(df0, df3, on='index', how=\"right\")"
   ]
  },
  {
   "cell_type": "code",
   "execution_count": null,
   "id": "0118585b-8133-4764-be5b-e7b78f5d2aaf",
   "metadata": {},
   "outputs": [],
   "source": [
    "%%timeit\n",
    "df0.join(df3, lsuffix=\"_left\", rsuffix=\"_right\", how=\"inner\")"
   ]
  },
  {
   "cell_type": "markdown",
   "id": "b204da5e-c810-4d88-b481-e12a3dc44511",
   "metadata": {},
   "source": [
    "## <span style=\"color: cyan\">WAŻNE</span>: Tak jak w bazie danych, róbmy `join` przy użyciu <span style=\"color: cyan\">indeksów</span>\n",
    "---"
   ]
  },
  {
   "cell_type": "code",
   "execution_count": null,
   "id": "6fe1738e-338d-483b-87dc-bb7802820224",
   "metadata": {},
   "outputs": [],
   "source": [
    "import os\n",
    "\n",
    "try:\n",
    "    os.remove('data/database.db')  # Czyszczenie starej bazy\n",
    "except:\n",
    "    pass"
   ]
  },
  {
   "cell_type": "code",
   "execution_count": null,
   "id": "aaf616d6-cf2c-41ab-96ce-4664d013cd9e",
   "metadata": {},
   "outputs": [],
   "source": [
    "import sqlite3\n",
    "\n",
    "conn = sqlite3.connect('data/database.db')"
   ]
  },
  {
   "cell_type": "code",
   "execution_count": null,
   "id": "927ae47b-d357-44d0-bc58-4166c998019a",
   "metadata": {},
   "outputs": [],
   "source": [
    "conn.execute('''CREATE TABLE COMPANY\n",
    "         (ID INTEGER PRIMARY KEY     NOT NULL,\n",
    "         NAME           TEXT    NOT NULL,\n",
    "         CREATED DATETIME DEFAULT CURRENT_TIMESTAMP\n",
    "         );'''\n",
    "    );\n"
   ]
  },
  {
   "cell_type": "code",
   "execution_count": null,
   "id": "88703132-b78d-47c8-b6d1-e4a6128c1fa3",
   "metadata": {},
   "outputs": [],
   "source": [
    "conn.execute('''CREATE TABLE EMPLOYEE\n",
    "         (ID INTEGER PRIMARY KEY     AUTOINCREMENT,\n",
    "         NAME           TEXT    NOT NULL,\n",
    "         AGE            INT     NOT NULL,\n",
    "         SALARY         REAL,\n",
    "         COMPANY_ID     INT     NOT NULL,\n",
    "         CREATED DATETIME DEFAULT CURRENT_TIMESTAMP,\n",
    "         FOREIGN KEY(COMPANY_ID) REFERENCES COMPANY(ID)\n",
    "         );'''\n",
    "    );"
   ]
  },
  {
   "cell_type": "code",
   "execution_count": null,
   "id": "1c9c2a96-3abe-4b37-b011-1961d39ee6df",
   "metadata": {},
   "outputs": [],
   "source": [
    "conn.execute(\"INSERT INTO COMPANY (ID,NAME) VALUES (1, 'ACME')\");\n",
    "conn.execute(\"INSERT INTO COMPANY (ID,NAME) VALUES (2, 'COLA')\");\n",
    "conn.execute(\"INSERT INTO COMPANY (ID,NAME) VALUES (3, 'TOYS')\");"
   ]
  },
  {
   "cell_type": "code",
   "execution_count": null,
   "id": "98e4bf6f-f34f-4e7e-94f6-74d8f806d753",
   "metadata": {},
   "outputs": [],
   "source": [
    "conn.execute(\"INSERT INTO EMPLOYEE (NAME,AGE,SALARY,COMPANY_ID) VALUES ('John D.', 40, 5000.0, 1)\");\n",
    "conn.execute(\"INSERT INTO EMPLOYEE (NAME,AGE,SALARY,COMPANY_ID) VALUES ('Bob B.', 35, 4500.0, 1)\");\n",
    "conn.execute(\"INSERT INTO EMPLOYEE (NAME,AGE,SALARY,COMPANY_ID) VALUES ('Alice B.', 50, 6000.0, 1)\");\n",
    "conn.execute(\"INSERT INTO EMPLOYEE (NAME,AGE,SALARY,COMPANY_ID) VALUES ('Jane G.', 35, 5000.0, 2)\");\n",
    "conn.execute(\"INSERT INTO EMPLOYEE (NAME,AGE,SALARY,COMPANY_ID) VALUES ('Alan T.', 50, 6000.0, 2)\");"
   ]
  },
  {
   "cell_type": "code",
   "execution_count": null,
   "id": "9141b682-56c4-42a4-876d-9da925df42be",
   "metadata": {},
   "outputs": [],
   "source": [
    "cursor = conn.execute(\"SELECT id, name from COMPANY\")\n",
    "for row in cursor:\n",
    "    print(row)"
   ]
  },
  {
   "cell_type": "code",
   "execution_count": null,
   "id": "e66be8d4-9fb1-4053-b4ed-d8e764eefd1a",
   "metadata": {},
   "outputs": [],
   "source": [
    "cursor = conn.execute(\"SELECT id, name, age, salary, company_id from EMPLOYEE\")\n",
    "for row in cursor:\n",
    "    print(row)"
   ]
  },
  {
   "cell_type": "code",
   "execution_count": null,
   "id": "8031d7cc-6b5f-4277-a861-f16890dfdac4",
   "metadata": {},
   "outputs": [],
   "source": [
    "cursor = conn.execute('''\n",
    "SELECT \n",
    "    * \n",
    "FROM  \n",
    "    COMPANY \n",
    "LEFT JOIN \n",
    "    EMPLOYEE \n",
    "ON \n",
    "    COMPANY.ID==EMPLOYEE.COMPANY_ID\n",
    "''')\n",
    "for row in cursor:\n",
    "    print(row)"
   ]
  },
  {
   "cell_type": "markdown",
   "id": "2606ad14-5ca0-4699-8dcc-635182c08deb",
   "metadata": {},
   "source": [
    "---\n",
    "## Pandas a relacyjne bazy danych"
   ]
  },
  {
   "cell_type": "code",
   "execution_count": null,
   "id": "5496cf8d-bb82-4aca-a5d1-3c9a87897bcd",
   "metadata": {},
   "outputs": [],
   "source": [
    "import pandas as pd\n",
    "import numpy as np\n",
    "\n",
    "query = '''\n",
    "SELECT \n",
    "   c.id as cid, \n",
    "   c.name as cname, \n",
    "   c.created as ccreated, \n",
    "   e.id as eid, \n",
    "   e.name as ename, \n",
    "   age,\n",
    "   salary, \n",
    "   e.created as ecreated \n",
    "FROM\n",
    "   COMPANY as C \n",
    "LEFT JOIN \n",
    "   EMPLOYEE as E \n",
    "ON \n",
    "   C.ID==E.COMPANY_ID\n",
    "'''\n",
    "\n",
    "df = pd.read_sql(query, conn)\n",
    "df"
   ]
  },
  {
   "cell_type": "code",
   "execution_count": null,
   "id": "03b93835-6269-45ef-bcba-ef531476ac6f",
   "metadata": {},
   "outputs": [],
   "source": [
    "df.dtypes"
   ]
  },
  {
   "cell_type": "code",
   "execution_count": null,
   "id": "303d5982-a787-441e-adc1-159bb367a688",
   "metadata": {},
   "outputs": [],
   "source": [
    "df = pd.read_sql(query, conn, parse_dates=['ccreated', 'ecreated'])\n",
    "df"
   ]
  },
  {
   "cell_type": "code",
   "execution_count": null,
   "id": "de891cab-7ee6-4b4f-96c3-6a43b3b9d60f",
   "metadata": {},
   "outputs": [],
   "source": [
    "df.dtypes"
   ]
  },
  {
   "cell_type": "code",
   "execution_count": null,
   "id": "72b3ea5e-7fc7-4153-9509-51307e755d3b",
   "metadata": {},
   "outputs": [],
   "source": [
    "df = pd.DataFrame({'Student': {0: 'Kowalski J.', 1: 'Nowak A.', 2: 'Korzycki M.'},\n",
    "                   'WuEf': {0: 5, 1: 4, 2: 2},\n",
    "                   'Polski': {0: 4, 1: 4, 2: 2},\n",
    "                   'Matma': {0: 5, 1: 3, 2: 2}})\n",
    "df1 = pd.melt(df, id_vars=['Student'], value_vars=['WuEf', 'Matma', 'Polski'],\n",
    "       var_name='Przedmiot', value_name='Ocena')\n",
    "df1"
   ]
  },
  {
   "cell_type": "code",
   "execution_count": null,
   "id": "9de5fc2b-c7b1-42dd-9ca2-3b5ca1ac0cde",
   "metadata": {},
   "outputs": [],
   "source": [
    "df1.to_sql('oceny', conn)"
   ]
  },
  {
   "cell_type": "code",
   "execution_count": null,
   "id": "eced9f82-4370-4625-a5d4-092bff541f45",
   "metadata": {},
   "outputs": [],
   "source": [
    "cursor = conn.execute(\"SELECT * from oceny\")\n",
    "for row in cursor:\n",
    "    print(row)"
   ]
  },
  {
   "cell_type": "code",
   "execution_count": null,
   "id": "9c2535f2-5875-43ac-bca8-bb87532f91c0",
   "metadata": {},
   "outputs": [],
   "source": [
    "df1.to_sql('oceny', conn, if_exists='append')"
   ]
  },
  {
   "cell_type": "code",
   "execution_count": null,
   "id": "2b3f86fc-5115-4cf1-b0c2-322e56876bef",
   "metadata": {},
   "outputs": [],
   "source": [
    "cursor = conn.execute(\"SELECT * from oceny\")\n",
    "for row in cursor:\n",
    "    print(row)"
   ]
  },
  {
   "cell_type": "code",
   "execution_count": null,
   "id": "6c8ab49d-f366-4e23-810f-e1ee137e78ae",
   "metadata": {},
   "outputs": [],
   "source": [
    "df1.to_sql('oceny', conn, if_exists='replace')\n",
    "cursor = conn.execute(\"SELECT * from oceny\")\n",
    "for row in cursor:\n",
    "    print(row)"
   ]
  },
  {
   "cell_type": "markdown",
   "id": "d662fc97-6eab-45d4-8e16-eda596a69714",
   "metadata": {},
   "source": [
    "---\n",
    "## Odpowiedniki SQL w Pandasie\n",
    "\n",
    "### `SELECT`"
   ]
  },
  {
   "cell_type": "code",
   "execution_count": null,
   "id": "97cbe8a4-aee0-4ed2-938f-57dd76225cf3",
   "metadata": {},
   "outputs": [],
   "source": [
    "employee = pd.read_sql('SELECT id, name, age, salary, company_id FROM EMPLOYEE', conn)\n",
    "employee"
   ]
  },
  {
   "cell_type": "code",
   "execution_count": null,
   "id": "3960f732-9075-4a8a-9a82-3b93086124d2",
   "metadata": {},
   "outputs": [],
   "source": [
    "pd.read_sql('SELECT id, name, age, salary FROM EMPLOYEE', conn)"
   ]
  },
  {
   "cell_type": "code",
   "execution_count": null,
   "id": "ed8a5544-dc3c-462b-9137-4057d235b652",
   "metadata": {},
   "outputs": [],
   "source": [
    "employee[['ID', 'NAME', 'AGE', 'SALARY']]"
   ]
  },
  {
   "cell_type": "markdown",
   "id": "3a3d23d4-98da-4a3d-9761-a5a2eca95ba6",
   "metadata": {},
   "source": [
    "### `WHERE`"
   ]
  },
  {
   "cell_type": "code",
   "execution_count": null,
   "id": "9f904087-d68b-4640-a946-8d409d72bad3",
   "metadata": {},
   "outputs": [],
   "source": [
    "pd.read_sql(\n",
    "'''\n",
    "SELECT \n",
    "   id, name, age, salary, company_id \n",
    "FROM \n",
    "   EMPLOYEE \n",
    "WHERE \n",
    "   AGE>40\n",
    "''', conn)"
   ]
  },
  {
   "cell_type": "code",
   "execution_count": null,
   "id": "c389718c-e14e-4cce-8baa-3b32d0799f4a",
   "metadata": {},
   "outputs": [],
   "source": [
    "employee[employee[\"AGE\"] > 40]"
   ]
  },
  {
   "cell_type": "markdown",
   "id": "3aa95d98-7951-4a6b-8c39-cb515743d24a",
   "metadata": {},
   "source": [
    "### `GROUP BY`"
   ]
  },
  {
   "cell_type": "code",
   "execution_count": null,
   "id": "1d0ed128-bd79-4a82-9584-8cd1cf8fe6c4",
   "metadata": {},
   "outputs": [],
   "source": [
    "pd.read_sql('''\n",
    "SELECT\n",
    "    company_id, count(*) \n",
    "FROM \n",
    "    EMPLOYEE \n",
    "GROUP BY COMPANY_ID\n",
    "''', conn)"
   ]
  },
  {
   "cell_type": "code",
   "execution_count": null,
   "id": "89d19cd2-24f0-4475-8f2c-e37660677295",
   "metadata": {},
   "outputs": [],
   "source": [
    "pd.DataFrame(employee.groupby('COMPANY_ID')[\"NAME\"].count()).reset_index()"
   ]
  },
  {
   "cell_type": "markdown",
   "id": "a1cae279-5201-4fbd-974f-c92b34325e08",
   "metadata": {},
   "source": [
    "### `JOIN`"
   ]
  },
  {
   "cell_type": "code",
   "execution_count": null,
   "id": "0903d74d-3c1f-44cd-924d-b5ae9cfda4b9",
   "metadata": {},
   "outputs": [],
   "source": [
    "company = pd.read_sql('SELECT id, name FROM COMPANY', conn)\n",
    "company"
   ]
  },
  {
   "cell_type": "code",
   "execution_count": null,
   "id": "2ea633da-93c8-4f02-9a74-06c3717d441e",
   "metadata": {},
   "outputs": [],
   "source": [
    "query = '''\n",
    "SELECT \n",
    "   C.id as ID_COMPANY,\n",
    "   c.name as NAME_COMPANY,  \n",
    "   e.id as ID_EMPLOYEE, \n",
    "   e.name as NAME_EMPLOYEE, \n",
    "   age,\n",
    "   salary, \n",
    "   company_id\n",
    "FROM\n",
    "   COMPANY as C \n",
    "LEFT JOIN \n",
    "   EMPLOYEE as E \n",
    "ON \n",
    "   C.ID==E.COMPANY_ID\n",
    "'''\n",
    "pd.read_sql(query, conn)"
   ]
  },
  {
   "cell_type": "code",
   "execution_count": null,
   "id": "8d3b5e05-551b-442f-9da0-a24f535d0c03",
   "metadata": {},
   "outputs": [],
   "source": [
    "company.merge(employee, left_on='ID', right_on='COMPANY_ID', suffixes=(\"_COMPANY\",\"_EMPLOYEE\"))"
   ]
  },
  {
   "cell_type": "markdown",
   "id": "f7262243-a437-47d9-9014-536662e1b4d0",
   "metadata": {},
   "source": [
    "---\n",
    "## Dodatkowa sztuczka\n",
    "\n",
    "### `SQLITE` w pamięci !"
   ]
  },
  {
   "cell_type": "code",
   "execution_count": null,
   "id": "8366cebe-1c85-4be2-8553-6d9da91958c6",
   "metadata": {},
   "outputs": [],
   "source": [
    "import sqlite3\n",
    "\n",
    "conn = sqlite3.connect(':memory:')"
   ]
  },
  {
   "cell_type": "markdown",
   "id": "270686dd-4fb7-4ec8-90d4-1f93aa432fa9",
   "metadata": {},
   "source": [
    "---\n",
    "## Porównanie `SQL` vs `Pandas`"
   ]
  },
  {
   "cell_type": "markdown",
   "id": "cb61d912-e23a-4a60-a540-744cfc9ad891",
   "metadata": {},
   "source": [
    "### Za Pandasem\n",
    "- #### W Pandas można łatwo przechodzic <span style=\"color: cyan\">między kolumnami a wierszami</span>\n",
    "- #### W Pandas możemy mieć <span style=\"color: cyan\">hierarchiczne metadane</span>(`MultiIndex`) w kolumnach i <span style=\"color: cyan\">wierszach</span>\n",
    "- #### W Pandas format wyjścia jest <span style=\"color: cyan\">elastyczny</span>\n",
    "- #### Jest wiele narzędzi/bibliotek do przetwarzania danych w Pythonie z których można korzystać\n",
    "\n",
    "### Za SQL-em\n",
    "- #### Sprawniejszy przy dużych zbiorach danych \n",
    "  - ##### <span style=\"color: cyan\">Dużych</span> - *czyli więcej danych niż mi się mieści w RAM-ie (ang. __Out-of-Core__)*\n",
    "- #### Sformalizowany, <span style=\"color: cyan\">nieelastyczny format</span>\n",
    "\n",
    "---\n",
    "\n",
    "## API `Pandas` dzięki swej popularności stał się pewnego rodzaju standardem który został ponownie użyty w innych bibliotekach. Np.:\n",
    "- ### [`Polars`](https://www.pola.rs/) - *\"szybszy Pandas\"* przepisany w języku `Rust`\n",
    "- ### [`Dask`](https://docs.dask.org/en/stable/dataframe.html) - pandaso-podobna biblioteka do pracy __Out-of-Core__"
   ]
  }
 ],
 "metadata": {
  "kernelspec": {
   "display_name": "Python 3 (ipykernel)",
   "language": "python",
   "name": "python3"
  },
  "language_info": {
   "codemirror_mode": {
    "name": "ipython",
    "version": 3
   },
   "file_extension": ".py",
   "mimetype": "text/x-python",
   "name": "python",
   "nbconvert_exporter": "python",
   "pygments_lexer": "ipython3",
   "version": "3.9.1"
  }
 },
 "nbformat": 4,
 "nbformat_minor": 5
}
