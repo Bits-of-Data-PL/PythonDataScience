{
 "cells": [
  {
   "cell_type": "markdown",
   "id": "dfa481d8-530c-4d66-bfb8-3ac6a45c3ce6",
   "metadata": {},
   "source": [
    "# Warsztaty Python w Data Science\n",
    "\n",
    "---\n",
    "## Inżynieria Cech (__*Feature Engineering*__) - część 1 z 2  \n",
    "\n",
    "- ### Operacje na prostych wartościach\n",
    "  - #### Binaryzacja\n",
    "  - #### \"*Kubełkowanie*\" - Binning \n",
    "\n",
    "- ### Wygładzanie Laplace'a\n",
    "\n",
    "- ### Skalowanie wartości\n",
    "  - #### Logarytmiczne\n",
    "  - #### Skalowanie Min-Max \n",
    "  - #### *Robust scaling*\n",
    "  - #### Standaryzacja \n",
    "\n",
    "- ### Zmienne kategoryczne\n",
    "  - #### Indeksacja\n",
    "  - #### *One-hot encoding*\n",
    "  - #### Porządek w zmiennych kategorycznych\n",
    "\n",
    "- ### Dobór cech (__*Feature Selection*__)\n",
    "\n",
    "---\n",
    "\n",
    "> ## The features you use influence more than everything else the result. \n",
    "> ## No algorithm alone, to my knowledge, can supplement the information gain given by correct feature engineering.\n",
    ">## <div style=\"text-align: right\">— Luca Massaron Autor, Kaggle master</div>"
   ]
  },
  {
   "cell_type": "markdown",
   "id": "b42215ca-dce3-49db-acb2-4ed119599e9f",
   "metadata": {},
   "source": [
    "---\n",
    "\n",
    "> ## Coming up with features is difficult, time-consuming, requires expert knowledge.\n",
    "> ## \"_*Applied machine learning*_\" is basically feature engineering.\n",
    "> ## <div style=\"text-align: right\">— Andrew Ng</div>\n",
    "\n",
    "---"
   ]
  },
  {
   "cell_type": "markdown",
   "id": "14a312cc-73da-4047-ba07-58f075f5000c",
   "metadata": {},
   "source": [
    "# Proste wartości<a id=\"simple\"></a>\n",
    "\n",
    "## Uzasadnienie dla binaryzacji"
   ]
  },
  {
   "cell_type": "code",
   "execution_count": null,
   "id": "b8acb19e-7957-4a58-987c-bf1c5560d703",
   "metadata": {},
   "outputs": [],
   "source": [
    "import pickle\n",
    "import numpy as np\n",
    "import seaborn as sns\n",
    "import matplotlib.pyplot as plt\n",
    "import matplotlib.dates as mdates\n",
    "from pandas.plotting import register_matplotlib_converters\n",
    "register_matplotlib_converters()\n",
    "import matplotlib.dates as mdates\n",
    "\n",
    "count_df = pickle.load( open( \"data/count.p\", \"rb\" ) )\n",
    "\n",
    "plt.figure(figsize=(24,12))\n",
    "plt.style.use(\"dark_background\")\n",
    "\n",
    "chart = sns.scatterplot(data=count_df)\n",
    "\n",
    "pickle.dump( count_df, open( \"data/count.p\", \"wb\" ) )\n",
    "\n"
   ]
  },
  {
   "cell_type": "markdown",
   "id": "1eec466a-9f39-4ddb-a638-168e44f8881b",
   "metadata": {},
   "source": [
    "---\n",
    "## \"*Kubełkowanie*\" - Binning "
   ]
  },
  {
   "cell_type": "markdown",
   "id": "3fc22ebc-74d3-4205-88f0-a0bcf1a90d9a",
   "metadata": {},
   "source": [
    "\n",
    "### Histogram o stałej szerokości "
   ]
  },
  {
   "cell_type": "code",
   "execution_count": null,
   "id": "d5490bde-2d1f-4a58-9983-adc4245f5957",
   "metadata": {},
   "outputs": [],
   "source": [
    "import numpy as np\n",
    "import pandas as pd\n",
    "\n",
    "df = pd.DataFrame({'value': np.random.randint(0, 100, 20)})\n",
    "df"
   ]
  },
  {
   "cell_type": "code",
   "execution_count": null,
   "id": "8647a9f3-a11e-4dbb-899e-57dbd6761d6e",
   "metadata": {},
   "outputs": [],
   "source": [
    "df.shape"
   ]
  },
  {
   "cell_type": "code",
   "execution_count": null,
   "id": "ba8a970e-2368-4e0c-9ce4-c44c348700a5",
   "metadata": {},
   "outputs": [],
   "source": [
    "pd.cut(df.value, range(0, 105, 10), right=False)"
   ]
  },
  {
   "cell_type": "code",
   "execution_count": null,
   "id": "101c3c96-fac0-42b8-9800-c2e9be80bcae",
   "metadata": {},
   "outputs": [],
   "source": [
    "labels = [\"{0} - {1}\".format(i, i + 9) for i in range(0, 100, 10)]\n",
    "labels"
   ]
  },
  {
   "cell_type": "code",
   "execution_count": null,
   "id": "40a735e0-99b0-4ca2-8b47-5801f4d17866",
   "metadata": {},
   "outputs": [],
   "source": [
    "pd.cut(df.value, range(0, 105, 10), right=False, labels=labels)"
   ]
  },
  {
   "cell_type": "code",
   "execution_count": null,
   "id": "02cd3439-3383-45a6-ad04-68a71a45795e",
   "metadata": {},
   "outputs": [],
   "source": [
    "df['Group'] = pd.cut(df.value, range(0, 105, 10), right=False, labels=labels)\n",
    "df"
   ]
  },
  {
   "cell_type": "code",
   "execution_count": null,
   "id": "8fa60db8-6f94-4f45-8fff-8ce3e0c299b4",
   "metadata": {},
   "outputs": [],
   "source": [
    "df.groupby('Group').count()"
   ]
  },
  {
   "cell_type": "code",
   "execution_count": null,
   "id": "3cd78ea9-ecf5-42a5-9b49-d9538a7f6864",
   "metadata": {},
   "outputs": [],
   "source": [
    "df = pd.DataFrame({'value': np.random.randint(0, 100, 20)})\n",
    "df"
   ]
  },
  {
   "cell_type": "code",
   "execution_count": null,
   "id": "11c818a5-67cb-4e84-86f9-502d1f4cbbfa",
   "metadata": {},
   "outputs": [],
   "source": [
    "[ df.quantile(q) for q in [.25, .5, .75] ] "
   ]
  },
  {
   "cell_type": "code",
   "execution_count": null,
   "id": "19e03db2-dc23-40cb-9246-02f4f0313209",
   "metadata": {},
   "outputs": [],
   "source": [
    "pd.qcut(df['value'], q=4)"
   ]
  },
  {
   "cell_type": "code",
   "execution_count": null,
   "id": "dda86927-2877-4f9d-a6a5-62c346c79677",
   "metadata": {},
   "outputs": [],
   "source": [
    "df['quartile']=pd.qcut(df['value'], q=4)\n",
    "df"
   ]
  },
  {
   "cell_type": "code",
   "execution_count": null,
   "id": "39f246dd-18b4-45b8-9841-ae2cab3d3034",
   "metadata": {},
   "outputs": [],
   "source": [
    "df['quartile']=pd.qcut(df['value'], q=4, labels=range(1,5))\n",
    "df"
   ]
  },
  {
   "cell_type": "markdown",
   "id": "9c9d3928-a88e-4afe-bec0-5b6deabb5582",
   "metadata": {},
   "source": [
    "---\n",
    "# Skalowanie <a id=\"scale\"></a>\n",
    "\n",
    "- ## Logarytmiczne"
   ]
  },
  {
   "cell_type": "code",
   "execution_count": null,
   "id": "c86ed7ad-60c5-400b-bbe0-70534c28ced1",
   "metadata": {},
   "outputs": [],
   "source": [
    "import pandas as pd\n",
    "import numpy as np\n",
    "import warnings\n",
    "warnings.filterwarnings(\"ignore\")"
   ]
  },
  {
   "cell_type": "code",
   "execution_count": null,
   "id": "2f67108a-2b03-44e1-91ad-93cfc270b5be",
   "metadata": {},
   "outputs": [],
   "source": [
    "data = pd.read_csv('data/adverts_29_04.csv', sep=';')\n",
    "data"
   ]
  },
  {
   "cell_type": "code",
   "execution_count": null,
   "id": "5cc952e8-def0-4735-868c-926074a2ac46",
   "metadata": {},
   "outputs": [],
   "source": [
    "data['Price per m2'] = data['Price'] / data['Size (m2)']\n",
    "data = data.dropna(subset=['Price per m2'])\n",
    "data['Price per m2'] = data['Price per m2'].map('{:.0f}'.format)\n",
    "data[\"day\"] = data['Date'].str[0:2]\n",
    "data[\"month\"] = data['Date'].str[3:5]\n",
    "data[\"year\"] = data['Date'].str[6:]\n",
    "df = data.drop(['Price', 'Date'], axis=1)\n",
    "df"
   ]
  },
  {
   "cell_type": "code",
   "execution_count": null,
   "id": "d777e0be-f895-4e73-8230-ab5394b9d59e",
   "metadata": {},
   "outputs": [],
   "source": [
    "import pandas as pd\n",
    "from numpy import log2\n",
    "\n",
    "data = pd.read_csv('data/adverts_29_04.csv', sep=';')\n",
    "data['Price per m2'] = data['Price'] / data['Size (m2)']\n",
    "data['Price per m2'] = data['Price per m2'].map('{:.0f}'.format)\n",
    "data = data.dropna(subset=['Price per m2'])\n",
    "df = data.drop(['Price', 'Date'], axis=1)\n",
    "data[\"Price log\"] = data['Size (m2)'].apply(lambda x: log2(x)).map('{:.2f}'.format)\n",
    "data[\"day\"] = data['Date'].str[0:2]\n",
    "data[\"month\"] = data['Date'].str[3:5]\n",
    "data[\"year\"] = data['Date'].str[6:]\n",
    "data = data.dropna(subset=['Price per m2'])\n",
    "df = data.drop(['Price', 'Date'], axis=1)\n",
    "df"
   ]
  },
  {
   "cell_type": "markdown",
   "id": "e8bbb7bf-9008-4022-97ca-032175c1d27d",
   "metadata": {},
   "source": [
    "---\n",
    "- ## Min-Max Scaling\n",
    "\n",
    "#### Skaluje i przesuwa dane tak, by się mieściły między `0` a `1`\n",
    "\n",
    "### $$x_{minmax}^i = \\frac{x^i-min(x)}{max(x)-min(x)}$$\n",
    "\n"
   ]
  },
  {
   "cell_type": "code",
   "execution_count": null,
   "id": "77f277f2-d3d3-4579-86ce-fa90fb7ca59d",
   "metadata": {},
   "outputs": [],
   "source": [
    "df[[\"Price per m2\", \"Size (m2)\"]]"
   ]
  },
  {
   "cell_type": "code",
   "execution_count": null,
   "id": "a7d1d740-6fdc-46ff-ab3a-643e46e57f12",
   "metadata": {},
   "outputs": [],
   "source": [
    "from sklearn.preprocessing import MinMaxScaler\n",
    "scaler = MinMaxScaler()\n",
    "\n",
    "scaler.fit(df[[\"Price per m2\", \"Size (m2)\"]])"
   ]
  },
  {
   "cell_type": "code",
   "execution_count": null,
   "id": "83ee6ab9-eac3-49b2-b320-f0be8fa5b5bc",
   "metadata": {},
   "outputs": [],
   "source": [
    "scaler.data_max_"
   ]
  },
  {
   "cell_type": "code",
   "execution_count": null,
   "id": "6c5614a5-9180-43ef-841c-4688d6d05a3c",
   "metadata": {},
   "outputs": [],
   "source": [
    "pd.DataFrame(scaler.transform(df[[\"Price per m2\", \"Size (m2)\"]]))"
   ]
  },
  {
   "cell_type": "code",
   "execution_count": null,
   "id": "430460b3-a07b-49a2-af6d-2d9fdb124232",
   "metadata": {},
   "outputs": [],
   "source": [
    "pd.DataFrame(scaler.fit_transform(df[[\"Price per m2\", \"Size (m2)\"]]))"
   ]
  },
  {
   "cell_type": "markdown",
   "id": "70c69693-4d3b-41f8-82bf-29ab62b0d51a",
   "metadata": {},
   "source": [
    "\n",
    "- ## Robust scaling\n",
    "#### Podobny to skalowania min-max tylko odejmuje medianę i skaluję odległością miedzy 1szym a 3cim kwartylem\n"
   ]
  },
  {
   "cell_type": "code",
   "execution_count": null,
   "id": "3ab40bfc-0dc1-4767-a1a1-5205d7b9f533",
   "metadata": {},
   "outputs": [],
   "source": [
    "from sklearn.preprocessing import RobustScaler\n",
    "scaler = RobustScaler()\n",
    "\n",
    "pd.DataFrame(scaler.fit_transform(df[[\"Price per m2\", \"Size (m2)\"]]))"
   ]
  },
  {
   "cell_type": "markdown",
   "id": "7ee9e8bb-9fae-4299-bfb0-d09c72a70c6a",
   "metadata": {},
   "source": [
    "\n",
    "- ## Standaryzacja\n",
    "\n",
    "#### Standaryzacja polega na sprowadzeniu dowolnego rozkładu normalnego do rozkładu standaryzowanego o wartości oczekiwanej `0` i odchyleniu standardowym `1`.\n"
   ]
  },
  {
   "cell_type": "code",
   "execution_count": null,
   "id": "d4ef8256-4e4b-4b64-a44e-530973f39c8a",
   "metadata": {},
   "outputs": [],
   "source": [
    "from sklearn.preprocessing import StandardScaler\n",
    "scaler = StandardScaler()\n",
    "\n",
    "pd.DataFrame(scaler.fit_transform(df[[\"Price per m2\", \"Size (m2)\"]]))"
   ]
  },
  {
   "cell_type": "markdown",
   "id": "50d782dd-7f76-488e-95d4-0413edab40d8",
   "metadata": {},
   "source": [
    "---\n",
    "\n",
    "# UWAGA\n",
    "\n",
    "##  <span style=\"color: red\">NIE</span> zamieniać danych <span style=\"color: cyan\">RZADKICH (dużo zer)</span> w <span style=\"color: cyan\">GĘSTE (mało zer)</span>\n",
    "\n",
    "---"
   ]
  },
  {
   "cell_type": "markdown",
   "id": "cd8f789f-1e2f-46d6-91a6-e0acb2243baa",
   "metadata": {},
   "source": [
    "\n",
    "## Wygładzanie Laplace'a\n",
    "\n",
    "\n",
    "- ### Dodaj `1` do liczników (zaczynaj od `1` a nie `0`)\n",
    "- ### Uodparnia model na pomijanie całkowite mało prawdopodobnych zdarzeń\n",
    "- ### Dobrze radzi sobie z liczeniem __*względnych*__ wartości \n",
    "\n",
    "## Przykład: rzut monetą asymetryczną\n",
    "\n",
    "### $n_0$ - ile razy wypadła  \"reszka\"\n",
    "### $n_1$ - ile razy wypadł \"orzeł\"\n",
    "\n",
    "### Estymator: \n",
    "### $\\hat{p} = \\frac{n_0+1}{n_0 + n_1 + 2}$\n",
    "### jest lepszy (mniejszy błąd średnio-kwadratowy) od\n",
    "### Estymator: $\\hat{p} = \\frac{n_0}{n_0 + n_1}$\n"
   ]
  },
  {
   "cell_type": "markdown",
   "id": "8170b786-4570-40c8-93be-ebd0d22358a6",
   "metadata": {},
   "source": [
    "---\n",
    "# Zmienne kategoryczne <a id=\"cat\"></a>\n",
    "\n",
    "##  Indeksacja"
   ]
  },
  {
   "cell_type": "code",
   "execution_count": null,
   "id": "b4cb4422-15ca-4f33-9cc7-e83a034f7014",
   "metadata": {},
   "outputs": [],
   "source": [
    "from sklearn.preprocessing import LabelEncoder\n",
    "labelencoder = LabelEncoder()\n",
    "\n",
    "label_encoded = df\n",
    "\n",
    "label_encoded['Location_Cat'] = labelencoder.fit_transform(label_encoded['Location'])\n",
    "label_encoded"
   ]
  },
  {
   "cell_type": "markdown",
   "id": "d7e253fa-8bf7-422c-aa60-5d400af9be6e",
   "metadata": {},
   "source": [
    "---\n",
    "## __*One-hot encoding*__ "
   ]
  },
  {
   "cell_type": "code",
   "execution_count": null,
   "id": "15af59ea-70f0-48a8-8544-28e60e5992c7",
   "metadata": {},
   "outputs": [],
   "source": [
    "from sklearn.preprocessing import OneHotEncoder\n",
    "\n",
    "enc = OneHotEncoder(handle_unknown='ignore')\n",
    "\n",
    "enc_df = pd.DataFrame(enc.fit_transform(label_encoded[['Location_Cat']]).toarray())\n",
    "\n",
    "one_hot_data = label_encoded.join(enc_df)\n",
    "one_hot_data"
   ]
  },
  {
   "cell_type": "code",
   "execution_count": null,
   "id": "24fcbd1a-34b9-42b7-96a7-927ca29970b8",
   "metadata": {},
   "outputs": [],
   "source": [
    "dum_df = pd.get_dummies(df, columns=['Location'])\n",
    "dum_df"
   ]
  },
  {
   "cell_type": "code",
   "execution_count": null,
   "id": "855347c6-0b28-4281-9cf7-6894d21404bf",
   "metadata": {},
   "outputs": [],
   "source": [
    "dum_df = pd.get_dummies(data, columns=['Location', 'Sold by', 'Type', 'Rooms no.', 'Bathroom no.', 'Parking'])\n",
    "dum_df"
   ]
  },
  {
   "cell_type": "code",
   "execution_count": null,
   "id": "43705494-1d7f-482c-b911-61f30eccb8ce",
   "metadata": {},
   "outputs": [],
   "source": [
    "dum_df.columns"
   ]
  },
  {
   "cell_type": "markdown",
   "id": "36706f56-183a-4631-9985-b0a83f7cd3a9",
   "metadata": {},
   "source": [
    "---\n",
    "## Porządek zmiennych kategorycznych\n",
    "\n",
    "![Clockface](img/clock.png)\n",
    "\n",
    "### zmieniamy na współrzędne \"wskazówek\"\n",
    "\n",
    "### $ m \\to ( \\sin{(\\frac{2\\Pi\\:m}{12})}, \\cos{(\\frac{2\\Pi\\:m}{12})} )$"
   ]
  },
  {
   "cell_type": "code",
   "execution_count": null,
   "id": "092289cb-fb0e-4481-beee-dc82cee16b7e",
   "metadata": {},
   "outputs": [],
   "source": [
    "df"
   ]
  },
  {
   "cell_type": "code",
   "execution_count": null,
   "id": "d065dc1f-a001-4c64-90db-e2667d8c64ee",
   "metadata": {},
   "outputs": [],
   "source": [
    "import numpy as np\n",
    "\n",
    "df['month_x'] = df['month'].apply(lambda x: np.sin(np.pi*int(x)/12))\n",
    "df['month_y'] = df['month'].apply(lambda x: np.cos(np.pi*int(x)/12))\n",
    "df"
   ]
  },
  {
   "cell_type": "markdown",
   "id": "9b13b9ab-01a5-4486-b536-d4441998f0d2",
   "metadata": {},
   "source": [
    "---\n",
    "# Dobór cech"
   ]
  },
  {
   "cell_type": "code",
   "execution_count": null,
   "id": "0b4a13a4-ab62-490b-bda3-933029e66ec3",
   "metadata": {},
   "outputs": [],
   "source": [
    "import pandas as pd\n",
    "import numpy as np\n",
    "import seaborn as sns\n",
    "import matplotlib.pyplot as plt\n",
    "from sklearn.datasets import load_wine\n",
    "\n",
    "wine_data = load_wine()\n",
    "wine_df = pd.DataFrame(\n",
    "    data=wine_data.data, \n",
    "    columns=wine_data.feature_names)\n",
    "wine_df['target'] = wine_data.target"
   ]
  },
  {
   "cell_type": "code",
   "execution_count": null,
   "id": "b7923ecf-d370-4868-846b-23fc7adbcab8",
   "metadata": {},
   "outputs": [],
   "source": [
    "wine_df"
   ]
  },
  {
   "cell_type": "code",
   "execution_count": null,
   "id": "817acbaa-a210-49dc-be12-b7ec386b38a7",
   "metadata": {},
   "outputs": [],
   "source": [
    "from sklearn.model_selection import train_test_split\n",
    "\n",
    "X = wine_df.drop(['target'], axis=1)\n",
    "y = wine_df['target']\n",
    "X_train, X_test, y_train, y_test = train_test_split(X, \n",
    "                                                    y, \n",
    "                                                    test_size=0.3, \n",
    "                                                    shuffle=True, \n",
    "                                                    stratify=y)\n"
   ]
  },
  {
   "cell_type": "markdown",
   "id": "14fb1a11-a543-4e94-8c51-f43a899563ba",
   "metadata": {},
   "source": [
    "### - `shuffle` - dane mają być losowo \"potasowane\"\n",
    "### - `stratify`  - poszczególne klasy mają być reprezentowane proporcjonalnie w zbiorze testowym\n"
   ]
  },
  {
   "cell_type": "code",
   "execution_count": null,
   "id": "97128328-4a29-47d5-ad62-4c3bd53049dc",
   "metadata": {},
   "outputs": [],
   "source": [
    "X_train.var(axis=0)"
   ]
  },
  {
   "cell_type": "code",
   "execution_count": null,
   "id": "b69276c2-ccac-4477-ac6e-aeb842422345",
   "metadata": {},
   "outputs": [],
   "source": [
    "from sklearn.preprocessing import Normalizer\n",
    "norm = Normalizer().fit(X_train)\n",
    "norm_X_train = norm.transform(X_train)\n",
    "norm_X_train.var(axis=0)"
   ]
  },
  {
   "cell_type": "markdown",
   "id": "ccad2257-9ac7-49a9-8f8f-de4573eb4020",
   "metadata": {},
   "source": [
    "## \"Ręczne\" zrzucanie kolumn"
   ]
  },
  {
   "cell_type": "code",
   "execution_count": null,
   "id": "e33aaa0d-6c51-44d1-9cac-dceffb9a63de",
   "metadata": {},
   "outputs": [],
   "source": [
    "from sklearn.tree import DecisionTreeClassifier\n",
    "from sklearn.metrics import f1_score\n",
    "\n",
    "dt = DecisionTreeClassifier(random_state=42)\n",
    "\n",
    "dt.fit(X_train, y_train)\n",
    "\n",
    "preds = dt.predict(X_test)\n",
    "f1_score_all = round(f1_score(y_test, preds, average='weighted'),3)\n",
    "f1_score_all\n",
    "\n"
   ]
  },
  {
   "cell_type": "code",
   "execution_count": null,
   "id": "9aa505dd-f482-4df0-b2c7-9a2d0afdb4dc",
   "metadata": {},
   "outputs": [],
   "source": [
    "X_train_sel = X_train.drop(['hue', 'nonflavanoid_phenols'], axis=1)\n",
    "X_test_sel = X_test.drop(['hue', 'nonflavanoid_phenols'], axis=1)\n",
    "dt.fit(X_train_sel, y_train)\n",
    "preds_sel = dt.predict(X_test_sel)\n",
    "f1_score_sel = round(f1_score(y_test, preds_sel, average='weighted'), 3)\n",
    "f1_score_sel"
   ]
  },
  {
   "cell_type": "markdown",
   "id": "c9a83c10-6c6b-4c35-a547-ecd3be308729",
   "metadata": {},
   "source": [
    "### Eliminacja kolumn o niskiej zmienności"
   ]
  },
  {
   "cell_type": "code",
   "execution_count": null,
   "id": "7aa85277-b775-4e37-bc1c-7980ca2ca418",
   "metadata": {},
   "outputs": [],
   "source": [
    "from sklearn.feature_selection import VarianceThreshold\n",
    "selector = VarianceThreshold(threshold = 1e-7)\n",
    "selected_features = selector.fit_transform(norm_X_train)\n",
    "selected_features.shape"
   ]
  },
  {
   "cell_type": "markdown",
   "id": "4cd02093-f2c0-4cf8-ab6f-d168a4df9ee4",
   "metadata": {},
   "source": [
    "## Zrzucanie kolumn testem $\\chi^2$"
   ]
  },
  {
   "cell_type": "code",
   "execution_count": null,
   "id": "01fafd95-cbd3-47e2-9cba-c63a5b9d5595",
   "metadata": {},
   "outputs": [],
   "source": [
    "from sklearn.feature_selection import SelectKBest\n",
    "from sklearn.feature_selection import chi2\n",
    "\n",
    "X_train_v2, X_test_v2, y_train_v2, y_test_v2 = X_train.copy(), X_test.copy(), y_train.copy(), y_test.copy()\n",
    "f1_score_list = []\n",
    "for k in range(1, 14):\n",
    "    selector = SelectKBest(chi2, k=k)\n",
    "    selector.fit(X_train_v2, y_train_v2)\n",
    "    \n",
    "    sel_X_train_v2 = selector.transform(X_train_v2)\n",
    "    sel_X_test_v2 = selector.transform(X_test_v2)\n",
    "    \n",
    "    dt.fit(sel_X_train_v2, y_train_v2)\n",
    "    kbest_preds = dt.predict(sel_X_test_v2)\n",
    "    f1_score_kbest = round(f1_score(y_test, kbest_preds, average='weighted'), 3)\n",
    "    f1_score_list.append(f1_score_kbest)\n",
    "\n",
    "print(f1_score_list)"
   ]
  },
  {
   "cell_type": "code",
   "execution_count": null,
   "id": "184dd194-a45e-4d07-919d-3baa9d24870f",
   "metadata": {},
   "outputs": [],
   "source": [
    "import warnings\n",
    "warnings.filterwarnings(\"ignore\")\n",
    "import matplotlib.pyplot as plt\n",
    "import numpy as np\n",
    "plt.style.use(\"dark_background\")\n",
    "\n",
    "fig, ax = plt.subplots(figsize=(12, 6))\n",
    "x = list(range(1,14))\n",
    "y = f1_score_list\n",
    "ax.bar(x, y, width=0.4)\n",
    "ax.set_xlabel('Ilość wymiarów wybranych testem chi2')\n",
    "ax.set_ylabel('F1-Score (weighted)')\n",
    "ax.set_ylim(0, 1.2)\n",
    "for index, value in enumerate(y):\n",
    "    plt.text(x=index+1, y=value + 0.05, s=str(value), ha='center')\n",
    "    \n",
    "plt.tight_layout()"
   ]
  },
  {
   "cell_type": "markdown",
   "id": "d7fb0ca3-5c46-49a6-a8f0-4cd119615688",
   "metadata": {},
   "source": [
    "## Recursive Feature Elimination\n",
    "\n",
    "### - korzystając z osobnego estymatora posiadającego `coef_` lub `feature_importance_` iteracyjnie odrzucane są kolejne wagi"
   ]
  },
  {
   "cell_type": "code",
   "execution_count": null,
   "id": "c0c146c4-2243-4b9e-8f3f-e83da49fe2a8",
   "metadata": {},
   "outputs": [],
   "source": [
    "from sklearn.feature_selection import RFE\n",
    "\n",
    "X_train_v3, X_test_v3, y_train_v3, y_test_v3 = X_train.copy(), X_test.copy(), y_train.copy(), y_test.copy()\n",
    "RFE_selector = RFE(estimator=dt, n_features_to_select=4, step=1)\n",
    "RFE_selector.fit(X_train_v3, y_train_v3)"
   ]
  },
  {
   "cell_type": "code",
   "execution_count": null,
   "id": "d731f555-50c0-4875-88f6-94a6930b4991",
   "metadata": {},
   "outputs": [],
   "source": [
    "X_train_v3.columns[RFE_selector.support_]"
   ]
  },
  {
   "cell_type": "code",
   "execution_count": null,
   "id": "9ebff9c5-b76f-4d81-a67b-8b0ce8e4bb2a",
   "metadata": {},
   "outputs": [],
   "source": [
    "sel_X_train_v3 = RFE_selector.transform(X_train_v3)\n",
    "sel_X_test_v3 = RFE_selector.transform(X_test_v3)\n",
    "dt.fit(sel_X_train_v3, y_train_v3)\n",
    "RFE_preds = dt.predict(sel_X_test_v3)\n",
    "rfe_f1_score = round(f1_score(y_test_v3, RFE_preds, average='weighted'),3)\n",
    "print(rfe_f1_score)"
   ]
  },
  {
   "cell_type": "markdown",
   "id": "99946b5f-c12e-406d-a745-d062e3208c15",
   "metadata": {},
   "source": [
    "## Select from model\n",
    "\n",
    "### - korzystając z osobnego estymatora posiadającego `coef_` lub `feature_importance_` "
   ]
  },
  {
   "cell_type": "code",
   "execution_count": null,
   "id": "b34cbcd2-d3ce-4603-9422-4879ce04a882",
   "metadata": {},
   "outputs": [],
   "source": [
    "from sklearn.feature_selection import SelectFromModel\n",
    "\n",
    "X_train_v4, X_test_v4, y_train_v4, y_test_v4 = X_train.copy(), X_test.copy(), y_train.copy(), y_test.copy()\n",
    "\n",
    "sfm_selector = SelectFromModel(estimator=DecisionTreeClassifier())\n",
    "sfm_selector.fit(X_train_v4,  y_train_v4)"
   ]
  },
  {
   "cell_type": "code",
   "execution_count": null,
   "id": "2beb42b9-4a28-4c68-b79a-236833eeea0a",
   "metadata": {},
   "outputs": [],
   "source": [
    "X_train_v4.columns[sfm_selector.get_support()]"
   ]
  },
  {
   "cell_type": "code",
   "execution_count": null,
   "id": "da23a643-c94d-4f7a-b64b-7d5d561386e5",
   "metadata": {},
   "outputs": [],
   "source": [
    "sel_X_train_v4 = sfm_selector.transform(X_train_v4)\n",
    "sel_X_test_v4 = sfm_selector.transform(X_test_v4)\n",
    "\n",
    "dt.fit(sel_X_train_v4, y_train_v4)\n",
    "sfm_preds = dt.predict(sel_X_test_v4)\n",
    "sfm_f1_score = round(f1_score(y_test_v4, sfm_preds, average='weighted'),3)\n",
    "print(rfe_f1_score)"
   ]
  }
 ],
 "metadata": {
  "kernelspec": {
   "display_name": "Python 3 (ipykernel)",
   "language": "python",
   "name": "python3"
  },
  "language_info": {
   "codemirror_mode": {
    "name": "ipython",
    "version": 3
   },
   "file_extension": ".py",
   "mimetype": "text/x-python",
   "name": "python",
   "nbconvert_exporter": "python",
   "pygments_lexer": "ipython3",
   "version": "3.9.1"
  }
 },
 "nbformat": 4,
 "nbformat_minor": 5
}
