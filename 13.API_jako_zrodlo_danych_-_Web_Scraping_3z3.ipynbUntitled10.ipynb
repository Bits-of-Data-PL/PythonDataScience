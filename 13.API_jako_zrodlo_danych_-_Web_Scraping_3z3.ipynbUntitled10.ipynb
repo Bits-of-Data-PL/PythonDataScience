{
 "cells": [
  {
   "cell_type": "markdown",
   "id": "a527366c-51c6-4484-b57b-269a7016be94",
   "metadata": {},
   "source": [
    "# Warsztaty Python w Data Science\n",
    "\n",
    "## API jako źródło danych\n",
    "## Web Scraping 3 z 3\n",
    "---\n",
    "\n",
    "### - JSON\n",
    "### - REST - co to jest\n",
    "### - New York Time API\n",
    "### - Dane w języku naturalnym: analiza\n",
    "---\n",
    "\n",
    "## JSON"
   ]
  },
  {
   "cell_type": "code",
   "execution_count": null,
   "id": "f4b36bf9-d203-47b5-bfd3-c00a7f38c20f",
   "metadata": {},
   "outputs": [],
   "source": [
    "import json\n",
    "\n",
    "data = {'year': [2010, 2011, 2012, 2011, 2012, 2010, 2011, 2012],\n",
    "        'team': ['Bears', 'Bears', 'Bears', 'Packers', 'Packers', 'Lions',\n",
    "                 'Lions', 'Lions'],\n",
    "        'wins': [11, 8, 10, 15, 11, 6, 10, 4],\n",
    "        'losses': [5, 8, 6, 1, 5, 10, 6, 12]}\n"
   ]
  },
  {
   "cell_type": "code",
   "execution_count": null,
   "id": "e833a1aa-a157-4bf0-aedb-accda0c34161",
   "metadata": {},
   "outputs": [],
   "source": [
    "s = json.dumps(data)\n",
    "s"
   ]
  },
  {
   "cell_type": "code",
   "execution_count": null,
   "id": "563b57c6-60a6-45c9-a669-1ea2c296ce35",
   "metadata": {},
   "outputs": [],
   "source": [
    "json.loads(s)"
   ]
  },
  {
   "cell_type": "code",
   "execution_count": null,
   "id": "e3489f3c-e069-49c5-bf23-da92dbe991ea",
   "metadata": {},
   "outputs": [],
   "source": [
    "data == json.loads(s)"
   ]
  },
  {
   "cell_type": "markdown",
   "id": "4a0d1230-d8cd-4a10-bb93-dc30c9d0a332",
   "metadata": {},
   "source": [
    "---\n",
    "## REST"
   ]
  },
  {
   "cell_type": "code",
   "execution_count": null,
   "id": "ac0acb95-5559-4832-a8fa-e11db0a641c1",
   "metadata": {
    "tags": []
   },
   "outputs": [],
   "source": [
    "API_KEY = \"tu wpisz swoj klucz\""
   ]
  },
  {
   "cell_type": "markdown",
   "id": "4dfbd765-7e45-4a35-998a-b28a846bde29",
   "metadata": {},
   "source": [
    "https://developer.nytimes.com/get-started"
   ]
  },
  {
   "cell_type": "code",
   "execution_count": null,
   "id": "26adb62a-4b86-4639-80f6-b6c40968deae",
   "metadata": {},
   "outputs": [],
   "source": [
    "url = 'https://api.nytimes.com/svc/books/v3/lists/names.json?api-key=' + API_KEY"
   ]
  },
  {
   "cell_type": "code",
   "execution_count": null,
   "id": "58b495c4-50b5-45f5-acaf-3cc5c365778d",
   "metadata": {},
   "outputs": [],
   "source": [
    "response = requests.get(url).json()\n",
    "response"
   ]
  },
  {
   "cell_type": "markdown",
   "id": "33e7950f-e6f4-40fb-b050-2bb684e78f22",
   "metadata": {},
   "source": [
    "\n",
    "---\n",
    "## New York Time API\n",
    "\n",
    "https://developer.nytimes.com/get-started\n"
   ]
  },
  {
   "cell_type": "code",
   "execution_count": null,
   "id": "44e36bf3-f348-4319-964d-917fddb8b6a4",
   "metadata": {},
   "outputs": [],
   "source": [
    "url = 'https://api.nytimes.com/svc/books/v3/lists/names.json?api-key=' + API_KEY"
   ]
  },
  {
   "cell_type": "code",
   "execution_count": null,
   "id": "602da172-880e-4498-8bc2-18efe2d948a5",
   "metadata": {},
   "outputs": [],
   "source": [
    "response = requests.get(url).json()"
   ]
  },
  {
   "cell_type": "code",
   "execution_count": null,
   "id": "4056d222-45ab-44dd-8cbf-902f4c490bc5",
   "metadata": {},
   "outputs": [],
   "source": [
    "response.keys()"
   ]
  },
  {
   "cell_type": "code",
   "execution_count": null,
   "id": "e9a5fa3b-95df-4491-bfdb-22f0803aaad1",
   "metadata": {},
   "outputs": [],
   "source": [
    "response['results'][:3]"
   ]
  },
  {
   "cell_type": "code",
   "execution_count": null,
   "id": "abb52fc3-ca13-4a3f-895b-ca552e96de49",
   "metadata": {},
   "outputs": [],
   "source": [
    "[l['list_name'] for l in response['results']]"
   ]
  },
  {
   "cell_type": "code",
   "execution_count": null,
   "id": "9f05bbed-63ff-47c1-afff-d073867d0351",
   "metadata": {},
   "outputs": [],
   "source": [
    "url = 'https://api.nytimes.com/svc/books/v3/lists/current/hardcover-fiction.json?api-key=' + API_KEY"
   ]
  },
  {
   "cell_type": "code",
   "execution_count": null,
   "id": "63ea88e6-4c0c-44c8-82bb-47e871367197",
   "metadata": {},
   "outputs": [],
   "source": [
    "response = requests.get(url).json()\n",
    "response.keys()"
   ]
  },
  {
   "cell_type": "code",
   "execution_count": null,
   "id": "31c2e969-428d-47d2-8cf2-62f2fda4b284",
   "metadata": {},
   "outputs": [],
   "source": [
    "response['results'].keys()"
   ]
  },
  {
   "cell_type": "code",
   "execution_count": null,
   "id": "01086b35-9d4c-4b30-8a90-28ee386b1626",
   "metadata": {},
   "outputs": [],
   "source": [
    "response['results']['books'][0].keys()"
   ]
  },
  {
   "cell_type": "code",
   "execution_count": null,
   "id": "b6fbcf9e-7ed4-4f22-810a-01017e2da705",
   "metadata": {},
   "outputs": [],
   "source": [
    "[ book['title'] for book in response['results']['books'][:15]]"
   ]
  },
  {
   "cell_type": "code",
   "execution_count": null,
   "id": "ce41cef8-50fe-434b-b2ad-9129447cf8ac",
   "metadata": {},
   "outputs": [],
   "source": [
    "url = 'https://api.nytimes.com/svc/books/v3/lists/2023-01-31/hardcover-fiction.json?api-key=' + API_KEY"
   ]
  },
  {
   "cell_type": "code",
   "execution_count": null,
   "id": "82eae2c0-b6a2-461d-a257-0746645c4715",
   "metadata": {},
   "outputs": [],
   "source": [
    "response = requests.get(url).json()\n",
    "[ book['title'] for book in response['results']['books'][:15 ]]"
   ]
  },
  {
   "cell_type": "code",
   "execution_count": null,
   "id": "be9bbbf7-9fe0-4ad7-9cd0-212a6e1ea531",
   "metadata": {},
   "outputs": [],
   "source": [
    "url = 'https://api.nytimes.com/svc/books/v3/reviews.json?author=Stephen+King&api-key=' + API_KEY"
   ]
  },
  {
   "cell_type": "code",
   "execution_count": null,
   "id": "53672116-64ba-4ed8-892e-0b97cf59eadc",
   "metadata": {},
   "outputs": [],
   "source": [
    "response = requests.get(url).json()"
   ]
  },
  {
   "cell_type": "code",
   "execution_count": null,
   "id": "6ded3f12-20a9-4ec7-b6a0-21dca921f4f0",
   "metadata": {},
   "outputs": [],
   "source": [
    "response.keys()"
   ]
  },
  {
   "cell_type": "code",
   "execution_count": null,
   "id": "b4d14cbd-939b-44d4-937b-9dd2d5f5794a",
   "metadata": {},
   "outputs": [],
   "source": [
    "response['results'][:3]"
   ]
  },
  {
   "cell_type": "code",
   "execution_count": null,
   "id": "7bcb3300-2488-4fd2-b936-fa8d95d611da",
   "metadata": {},
   "outputs": [],
   "source": [
    "[ (book['book_title'], book['summary']) for book in response['results'][:30] if len(book['summary']) > 0]"
   ]
  },
  {
   "cell_type": "markdown",
   "id": "8819f88a-2263-46fe-aecc-4ca28f35e07b",
   "metadata": {},
   "source": [
    "---\n"
   ]
  },
  {
   "cell_type": "code",
   "execution_count": null,
   "id": "f974a1a4-4128-4b17-8815-8379631e1af7",
   "metadata": {},
   "outputs": [],
   "source": [
    "import os\n",
    "import json\n",
    "import time\n",
    "import requests\n",
    "import datetime\n",
    "import dateutil\n",
    "import pandas as pd\n",
    "from dateutil.relativedelta import relativedelta"
   ]
  },
  {
   "cell_type": "code",
   "execution_count": null,
   "id": "04a4034b-ad51-465f-962d-351746c49f55",
   "metadata": {},
   "outputs": [],
   "source": [
    "base_url = 'https://api.nytimes.com/svc/archive/v1/'\n",
    "url = base_url + '/' + '2023' + '/' + \"3\" + '.json?api-key=' + YOUR_API_KEY\n",
    "response = requests.get(url).json()\n"
   ]
  },
  {
   "cell_type": "code",
   "execution_count": null,
   "id": "470a1190-5c2b-4c10-b638-8e6a8768909a",
   "metadata": {},
   "outputs": [],
   "source": [
    "response.keys()"
   ]
  },
  {
   "cell_type": "code",
   "execution_count": null,
   "id": "157890aa-ac6c-444e-83be-0768d96d9bad",
   "metadata": {},
   "outputs": [],
   "source": [
    "response['response'].keys()"
   ]
  },
  {
   "cell_type": "code",
   "execution_count": null,
   "id": "c2257d38-f421-48a2-a032-6c77b66aed18",
   "metadata": {},
   "outputs": [],
   "source": [
    "len(response['response']['docs'])"
   ]
  },
  {
   "cell_type": "code",
   "execution_count": null,
   "id": "0721c8b0-5638-4939-bd5e-241fad3fbf46",
   "metadata": {},
   "outputs": [],
   "source": [
    "response['response']['docs'][0]"
   ]
  },
  {
   "cell_type": "code",
   "execution_count": null,
   "id": "58cc50bc-8c78-4628-9752-45eed08b068f",
   "metadata": {},
   "outputs": [],
   "source": [
    "from porter import PorterStemmer"
   ]
  },
  {
   "cell_type": "code",
   "execution_count": null,
   "id": "d2b3846a-34b6-4f7c-9205-dab3b9357979",
   "metadata": {},
   "outputs": [],
   "source": [
    "stemmer = PorterStemmer()"
   ]
  },
  {
   "cell_type": "code",
   "execution_count": null,
   "id": "edf9bdf5-7181-4300-b7f2-108c5e6b1926",
   "metadata": {},
   "outputs": [],
   "source": [
    "stemmer.stem('programming')"
   ]
  },
  {
   "cell_type": "code",
   "execution_count": null,
   "id": "2cf5fe3b-01ff-4b3c-a45d-3ea7fa6d72a1",
   "metadata": {},
   "outputs": [],
   "source": [
    "stemmer.stem('errors')"
   ]
  },
  {
   "cell_type": "code",
   "execution_count": null,
   "id": "95a0fe8b-c0f7-4be3-9119-fe1632d789ad",
   "metadata": {},
   "outputs": [],
   "source": [
    "def is_valid(article):\n",
    "    has_headline = type(article['headline']) == dict and 'main' in article['headline'].keys()\n",
    "    return has_headline\n",
    "\n",
    "\n",
    "def parse(response):\n",
    "    data = {'headline': [],  \n",
    "        'date': [], \n",
    "        'doc_type': [],\n",
    "        'material_type': [],\n",
    "        'section': [],\n",
    "        'keywords': []}\n",
    "    \n",
    "    articles = response['response']['docs'] \n",
    "    for article in articles: # For each article, make sure it falls within our date range\n",
    "        date = dateutil.parser.parse(article['pub_date']).date()\n",
    "        if is_valid(article):\n",
    "            data['date'].append(date)\n",
    "            data['headline'].append(article['headline']['main']) \n",
    "            if 'section' in article:\n",
    "                data['section'].append(article['section_name'])\n",
    "            else:\n",
    "                data['section'].append(None)\n",
    "            data['doc_type'].append(article['document_type'])\n",
    "            if 'type_of_material' in article: \n",
    "                data['material_type'].append(article['type_of_material'])\n",
    "            else:\n",
    "                data['material_type'].append(None)\n",
    "            keywords = [keyword['value'] for keyword in article['keywords'] if keyword['name'] == 'subject']\n",
    "            data['keywords'].append(keywords)\n",
    "    return pd.DataFrame(data) "
   ]
  },
  {
   "cell_type": "code",
   "execution_count": null,
   "id": "99db27fa-06b6-4765-9cdc-43d79aa26809",
   "metadata": {},
   "outputs": [],
   "source": [
    "df = parse(response)"
   ]
  },
  {
   "cell_type": "code",
   "execution_count": null,
   "id": "8df87ae2-2b64-4e3a-b1c3-1355c4a377d3",
   "metadata": {},
   "outputs": [],
   "source": [
    "df"
   ]
  },
  {
   "cell_type": "markdown",
   "id": "4489f3c3-9bff-4387-8cf3-a5a059756b4c",
   "metadata": {},
   "source": [
    "---\n",
    "## Dane w języku naturalnym: analiza"
   ]
  },
  {
   "cell_type": "code",
   "execution_count": null,
   "id": "2063a108-174e-4513-bea0-774cbbb6465b",
   "metadata": {},
   "outputs": [],
   "source": [
    "headlines = [ doc['headline']['main'] for doc in response['response']['docs']]"
   ]
  },
  {
   "cell_type": "code",
   "execution_count": null,
   "id": "e13b396b-1725-48ea-8df9-b357edae7337",
   "metadata": {},
   "outputs": [],
   "source": [
    "headlines[:15]"
   ]
  },
  {
   "cell_type": "code",
   "execution_count": null,
   "id": "298c65ca-44c0-4c2d-aa50-02ed8ef6224b",
   "metadata": {},
   "outputs": [],
   "source": [
    "all_headlines = ' '.join(headlines)"
   ]
  },
  {
   "cell_type": "code",
   "execution_count": null,
   "id": "51ee43f3-60dd-4ec8-836e-fed63e9f3a50",
   "metadata": {},
   "outputs": [],
   "source": [
    "## Tokenizer"
   ]
  },
  {
   "cell_type": "code",
   "execution_count": null,
   "id": "efd1df28-1dc8-48a9-9ea8-252b1ba7f94d",
   "metadata": {},
   "outputs": [],
   "source": [
    "import re\n",
    "\n",
    "tokenizer = re.compile(r'[\\W]+')\n",
    "tokenized = tokenizer.split(all_headlines)\n",
    "str(tokenized[:15])"
   ]
  },
  {
   "cell_type": "code",
   "execution_count": null,
   "id": "f39a410c-56a8-4b9b-8221-9ee61c0b00d7",
   "metadata": {},
   "outputs": [],
   "source": [
    "tokenized = [ word.lower() for word in tokenized]\n",
    "print(f\"Mamy {len(tokenized)} wyrazów\")"
   ]
  },
  {
   "cell_type": "code",
   "execution_count": null,
   "id": "873cde6e-4367-476f-bb73-3dfca7fb0ba3",
   "metadata": {},
   "outputs": [],
   "source": [
    "counter = {}\n",
    "\n",
    "for w in tokenized:\n",
    "    counter[w] = counter.get(w,0)+1\n",
    "\n",
    "print(f\"Mamy {len(counter.keys())} RÓŻNYCH wyrazów\")"
   ]
  },
  {
   "cell_type": "code",
   "execution_count": null,
   "id": "a63c6dd2-7bb9-4efa-bb5c-3372dc03d6cc",
   "metadata": {},
   "outputs": [],
   "source": [
    "counted_words= [ (word,cnt) for word,cnt in counter.items() ]\n",
    "counted_words[:4]"
   ]
  },
  {
   "cell_type": "code",
   "execution_count": null,
   "id": "d24201d2-cc4f-4be4-9db5-960d331bbf61",
   "metadata": {},
   "outputs": [],
   "source": [
    "from operator import itemgetter\n",
    "\n",
    "counted_words.sort(key=itemgetter(1), reverse=True)\n",
    "counted_words[:20]"
   ]
  },
  {
   "cell_type": "code",
   "execution_count": null,
   "id": "37355f89-fed5-4eac-9b14-656f2c10c82d",
   "metadata": {},
   "outputs": [],
   "source": [
    "counted_words[-20:]"
   ]
  },
  {
   "cell_type": "code",
   "execution_count": null,
   "id": "1823dfcd-48f3-4d2a-aac2-7c303a4bf005",
   "metadata": {},
   "outputs": [],
   "source": [
    "counts = [ x[1] for x in counted_words ]\n",
    "len(counts)"
   ]
  },
  {
   "cell_type": "code",
   "execution_count": null,
   "id": "db347921-66b7-4b50-adc9-8757fc527a81",
   "metadata": {},
   "outputs": [],
   "source": [
    "sum(counts)"
   ]
  },
  {
   "cell_type": "code",
   "execution_count": null,
   "id": "702557ef-cafc-4f4e-b7bf-7c3dc92ce838",
   "metadata": {},
   "outputs": [],
   "source": [
    "sum(counts[:107])"
   ]
  },
  {
   "cell_type": "code",
   "execution_count": null,
   "id": "86d492bf-009f-4997-a4ad-eca307b6269e",
   "metadata": {},
   "outputs": [],
   "source": [
    "counted_words[97:117]"
   ]
  },
  {
   "cell_type": "code",
   "execution_count": null,
   "id": "33be1239-f30f-41c3-b1c5-5251309e08a5",
   "metadata": {},
   "outputs": [],
   "source": [
    "count_df = pd.DataFrame(counts[:120]).reset_index()\n",
    "columns = list(count_df.columns)\n",
    "columns[1] = 'count'\n",
    "count_df.columns = columns\n",
    "count_df"
   ]
  },
  {
   "cell_type": "code",
   "execution_count": null,
   "id": "05538d16-4035-47d6-85af-b4d2e057bf7e",
   "metadata": {},
   "outputs": [],
   "source": [
    "columns = list(count_df.columns)\n",
    "columns[1] = 'count'\n",
    "count_df.columns = columns\n",
    "count_df"
   ]
  },
  {
   "cell_type": "code",
   "execution_count": null,
   "id": "495007d1-faa8-4aa3-afd2-1ae9ddd04037",
   "metadata": {},
   "outputs": [],
   "source": [
    "plt.figure(figsize=(20,10))\n",
    "plt.style.use(\"dark_background\")\n",
    "\n",
    "chart = sns.lineplot(x='index',\n",
    "                     y='count',\n",
    "                     linestyle='-', marker='o',\n",
    "                     palette='bright',  markeredgecolor=\"black\",   \n",
    "                     data=count_df\n",
    "                    )\n",
    "chart.set_ylabel('Ilość wystąpień')\n",
    "chart.set_xlabel('Rank wyrazu')\n",
    "chart.ticklabel_format(useOffset=False, style='plain')\n",
    "chart.set_title('Wyrazy w artykułach NYT')\n",
    "plt.show();"
   ]
  },
  {
   "cell_type": "code",
   "execution_count": null,
   "id": "dbd109d9-41d1-495b-a0f2-7eb587340b5d",
   "metadata": {},
   "outputs": [],
   "source": [
    "plt.figure(figsize=(20,10))\n",
    "plt.style.use(\"dark_background\")\n",
    "\n",
    "chart = sns.lineplot(x='index',\n",
    "                     y='count',\n",
    "                     linestyle='-', marker='o',\n",
    "                     palette='bright',  markeredgecolor=\"black\",   \n",
    "                     data=count_df\n",
    "                    )\n",
    "chart.set(yscale='log')\n",
    "chart.set_ylabel('Ilość wystąpień (logarytmicznie)')\n",
    "chart.set_xlabel('Rank wyrazu')\n",
    "chart.set_title('Wyrazy w artykułach NYT')\n",
    "plt.show();"
   ]
  },
  {
   "cell_type": "code",
   "execution_count": null,
   "id": "f4576319-4db2-4815-ab33-fa0d0fa67312",
   "metadata": {},
   "outputs": [],
   "source": []
  }
 ],
 "metadata": {
  "kernelspec": {
   "display_name": "Python 3 (ipykernel)",
   "language": "python",
   "name": "python3"
  },
  "language_info": {
   "codemirror_mode": {
    "name": "ipython",
    "version": 3
   },
   "file_extension": ".py",
   "mimetype": "text/x-python",
   "name": "python",
   "nbconvert_exporter": "python",
   "pygments_lexer": "ipython3",
   "version": "3.9.1"
  }
 },
 "nbformat": 4,
 "nbformat_minor": 5
}
