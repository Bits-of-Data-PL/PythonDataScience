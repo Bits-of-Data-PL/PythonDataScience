{
 "cells": [
  {
   "cell_type": "markdown",
   "id": "dc1f28c3-4f83-40e1-99ff-77b8bf0d8c4f",
   "metadata": {},
   "source": [
    "# Pandas 2\n",
    "---\n",
    "- ### Grupowanie\n",
    "- ### Kubełkowanie (ang. *Binning*)\n",
    "  - #### Równych rozmiarów\n",
    "  - #### Oparty o kwantyle\n",
    "- ### Tidy Data\n",
    "- ### Zmiana kształtów Dataframe\n",
    "  - #### Szeroki w długi (*Wide to Long*)\n",
    "    - ##### `melt`\n",
    "  - #### Długi w szeroki (*Long to Wide*)\n",
    "    - ##### `pivot`\n",
    "    - ##### `transpose`\n",
    "    "
   ]
  },
  {
   "cell_type": "code",
   "execution_count": null,
   "id": "082265f3-3477-4f11-bb00-7f65c69fe2da",
   "metadata": {},
   "outputs": [],
   "source": [
    "import numpy as np\n",
    "import pandas as pd\n",
    "df = pd.DataFrame({'value': np.random.randint(0, 100, 20)})\n",
    "df"
   ]
  },
  {
   "cell_type": "code",
   "execution_count": null,
   "id": "42abc02a-a7fd-42ee-a243-e5ec94ee1bd0",
   "metadata": {},
   "outputs": [],
   "source": [
    "list(range(0, 105, 10))"
   ]
  },
  {
   "cell_type": "code",
   "execution_count": null,
   "id": "215f282a-f3ef-4273-90b3-145aff3b186a",
   "metadata": {},
   "outputs": [],
   "source": [
    "pd.cut(df.value, range(0, 105, 10), right=False)"
   ]
  },
  {
   "cell_type": "code",
   "execution_count": null,
   "id": "d32034b7-ddd3-4429-af3a-535b22ce91df",
   "metadata": {},
   "outputs": [],
   "source": [
    "pd.cut(df.value, range(0, 105, 10), right=True)"
   ]
  },
  {
   "cell_type": "code",
   "execution_count": null,
   "id": "a7a2ba3b-1c2e-4e81-a71a-6b0c99ffb671",
   "metadata": {},
   "outputs": [],
   "source": [
    "labels = [\"{0} - {1}\".format(i, i + 9) for i in range(0, 100, 10)]\n",
    "labels"
   ]
  },
  {
   "cell_type": "code",
   "execution_count": null,
   "id": "4ef1eb29-3f60-4b2e-ab87-51fc6cde6868",
   "metadata": {},
   "outputs": [],
   "source": [
    "pd.cut(df.value, range(0, 105, 10), right=False, labels=labels)"
   ]
  },
  {
   "cell_type": "code",
   "execution_count": null,
   "id": "d7c4baea-1d1e-4ae7-8b0c-44156ed67670",
   "metadata": {},
   "outputs": [],
   "source": [
    "df['Group'] = pd.cut(df.value, range(0, 105, 10), right=False, labels=labels)\n",
    "df"
   ]
  },
  {
   "cell_type": "code",
   "execution_count": null,
   "id": "be38af6c-c328-44c2-b7f5-a1ee7d27430d",
   "metadata": {},
   "outputs": [],
   "source": [
    "df.groupby('Group').count()"
   ]
  },
  {
   "cell_type": "code",
   "execution_count": null,
   "id": "22b3dcb1-d6d2-4965-9b67-c8b0d1a5fd1a",
   "metadata": {},
   "outputs": [],
   "source": [
    "df.groupby('Group').sum()"
   ]
  },
  {
   "cell_type": "code",
   "execution_count": null,
   "id": "9600aece-8f50-411c-8f79-5624bacc210e",
   "metadata": {},
   "outputs": [],
   "source": [
    "df.groupby('Group').agg({'value': ['count', sum]})"
   ]
  },
  {
   "cell_type": "code",
   "execution_count": null,
   "id": "ab8a45ba-580b-4b4f-bbcf-108646d76653",
   "metadata": {},
   "outputs": [],
   "source": [
    "def line(series):\n",
    "    return '#'*len(series)"
   ]
  },
  {
   "cell_type": "code",
   "execution_count": null,
   "id": "cc33154e-00f5-4855-8e5a-81bb35251bd1",
   "metadata": {},
   "outputs": [],
   "source": [
    "df.groupby('Group').agg({'value': ['count', line]})"
   ]
  },
  {
   "cell_type": "code",
   "execution_count": null,
   "id": "008d22d6-30ee-4dd8-b22d-95b698156ec7",
   "metadata": {},
   "outputs": [],
   "source": [
    "grouped = df.groupby('Group' ).agg({'value': ['count', line]}).fillna(value=np.nan).replace(to_replace=np.nan, value='')\n",
    "grouped"
   ]
  },
  {
   "cell_type": "code",
   "execution_count": null,
   "id": "08fb94bf-6d1c-4f9e-a5b9-ce36ac06a90d",
   "metadata": {},
   "outputs": [],
   "source": [
    "[ df.quantile(q) for q in [.25, .5, .75] ] "
   ]
  },
  {
   "cell_type": "code",
   "execution_count": null,
   "id": "7344884a-a0c8-47de-bdde-a00c4b6a52c9",
   "metadata": {},
   "outputs": [],
   "source": [
    "pd.qcut(df['value'], q=4)"
   ]
  },
  {
   "cell_type": "code",
   "execution_count": null,
   "id": "ed35d19b-aa2a-4be4-a155-1a21523e72d2",
   "metadata": {},
   "outputs": [],
   "source": [
    "pd.qcut(df['value'], q=4, labels=range(1,5))"
   ]
  },
  {
   "cell_type": "code",
   "execution_count": null,
   "id": "869664b0-4551-4fa1-9e47-87209a21db62",
   "metadata": {},
   "outputs": [],
   "source": [
    "labels = ['1st Quartile', '2nd Quartile', '3rd Quartile', '4th Quartile']"
   ]
  },
  {
   "cell_type": "code",
   "execution_count": null,
   "id": "a910c77b-28c1-4687-bf19-941d46a44c83",
   "metadata": {},
   "outputs": [],
   "source": [
    "df['quartile']=pd.qcut(df['value'], q=4, labels=labels)\n",
    "df"
   ]
  },
  {
   "cell_type": "code",
   "execution_count": null,
   "id": "925c17e1-a9d8-4ffa-ae3c-8aa4e9a5d228",
   "metadata": {},
   "outputs": [],
   "source": [
    "df.groupby('quartile').agg({\"value\": [\"count\", \"mean\", \"sum\"]})"
   ]
  },
  {
   "cell_type": "markdown",
   "id": "0db718eb-9178-4e7d-943f-770a7be3eb53",
   "metadata": {},
   "source": [
    "---"
   ]
  },
  {
   "cell_type": "markdown",
   "id": "6d15fcc6-0b86-438c-8b62-645c10dbb756",
   "metadata": {},
   "source": [
    "## Tidy Data"
   ]
  },
  {
   "cell_type": "markdown",
   "id": "444b8cac-6c81-4d7b-b894-33443bc02121",
   "metadata": {},
   "source": [
    "Wickham, Hadley - _\"Tidy Data\"_\n",
    "https://www.jstatsoft.org/index.php/jss/article/view/v059i10/v59i10.pdf"
   ]
  },
  {
   "cell_type": "markdown",
   "id": "1e215882-7d56-4237-9491-b67af31abc21",
   "metadata": {},
   "source": [
    "- __Each variable you measure should be in one column.__\n",
    "- __Each different observation of that variable should be in a different row.__\n",
    "- There should be one table for each \"kind\" of variable.\n",
    "- If you have multiple tables, they should include a column in the table that allows them to be linked."
   ]
  },
  {
   "cell_type": "markdown",
   "id": "4ed3dbda-b66c-4893-ab45-5a3cc4c43e29",
   "metadata": {},
   "source": [
    "---\n",
    "## Zmiana kształtów Dataframe\n",
    "###  <span style=\"color: cyan\">Wide to long</span>\n",
    "---\n",
    "- __Each variable you measure should be in one column.__\n",
    "- __Each different observation of that variable should be in a different row.__"
   ]
  },
  {
   "cell_type": "code",
   "execution_count": null,
   "id": "5eeb36fb-c4dd-4298-aa47-169afc633b64",
   "metadata": {},
   "outputs": [],
   "source": [
    "df = pd.DataFrame({'Student': {0: 'Nowak A.', 1: 'Kowalski J.', 2: 'Korzycki M.'},\n",
    "                   'WF': {0: 5, 1: 4, 2: 2},\n",
    "                   'J.Polski': {0: 4, 1: 4, 2: 2},\n",
    "                   'Matematyka': {0: 5, 1: 3, 2: 2}})\n",
    "df"
   ]
  },
  {
   "cell_type": "code",
   "execution_count": null,
   "id": "9b2cb6f0-01b7-495a-a373-a934b4f46d2f",
   "metadata": {},
   "outputs": [],
   "source": [
    "df.melt(id_vars=['Student'], value_vars=['WF', 'Matematyka', 'J.Polski'])"
   ]
  },
  {
   "cell_type": "code",
   "execution_count": null,
   "id": "bf3bf797-a1ab-4feb-8b27-5369172bc12f",
   "metadata": {},
   "outputs": [],
   "source": [
    "grades = pd.melt(df, id_vars=['Student'], value_vars=['WF', 'Matematyka', 'J.Polski'],\n",
    "       var_name='Przedmiot', value_name='Ocena')\n",
    "grades"
   ]
  },
  {
   "cell_type": "code",
   "execution_count": null,
   "id": "2352c6fe-1657-4184-b6d0-539ea3a31e50",
   "metadata": {},
   "outputs": [],
   "source": [
    "grades.sort_values('Student')"
   ]
  },
  {
   "cell_type": "code",
   "execution_count": null,
   "id": "f36e84b1-225f-4866-8494-2057254533be",
   "metadata": {},
   "outputs": [],
   "source": [
    "df_sorted = grades.sort_values(['Student', 'Przedmiot'])\n",
    "df_sorted"
   ]
  },
  {
   "cell_type": "code",
   "execution_count": null,
   "id": "86a181ff-d75c-41ed-b0db-9c60bd9fff4f",
   "metadata": {},
   "outputs": [],
   "source": [
    "df_sorted.sort_index()"
   ]
  },
  {
   "cell_type": "code",
   "execution_count": null,
   "id": "91e039e9-a6a8-4d97-9bac-9590a34e2db8",
   "metadata": {},
   "outputs": [],
   "source": [
    "grades.sort_values(['Student', 'Przedmiot']).reset_index()"
   ]
  },
  {
   "cell_type": "markdown",
   "id": "be24a40e-d345-4b32-89f4-c708f028db0c",
   "metadata": {},
   "source": [
    "---\n",
    "### Większy przykład"
   ]
  },
  {
   "cell_type": "code",
   "execution_count": null,
   "id": "b8d65688-ac54-416d-a706-db7c5bed7768",
   "metadata": {},
   "outputs": [],
   "source": [
    "url = 'data/Indicator_BMImale.csv'\n",
    "\n",
    "df_demographics = pd.read_csv(url, sep = ',')"
   ]
  },
  {
   "cell_type": "markdown",
   "id": "f555a48c-3d56-4533-8555-356ebfa66e7f",
   "metadata": {},
   "source": [
    "#### Jakie zasady nie spełniają załadowane tabele?"
   ]
  },
  {
   "cell_type": "code",
   "execution_count": null,
   "id": "afe85574-5f4e-4664-86f8-86088de3542d",
   "metadata": {},
   "outputs": [],
   "source": [
    "df_demographics"
   ]
  },
  {
   "cell_type": "markdown",
   "id": "39329e7d-89af-47a8-9aca-29d2d69f360f",
   "metadata": {},
   "source": [
    "\n"
   ]
  },
  {
   "cell_type": "markdown",
   "id": "27f71146-091b-4049-b1e3-e84a797df53e",
   "metadata": {},
   "source": [
    "#### *Melting* czyni te dane *'tidy'*"
   ]
  },
  {
   "cell_type": "code",
   "execution_count": null,
   "id": "b98827b7-d15d-470a-8f5e-37cf056688c2",
   "metadata": {},
   "outputs": [],
   "source": [
    "melted_demographics = pd.melt(df_demographics, id_vars=['Country'])\n",
    "melted_demographics"
   ]
  },
  {
   "cell_type": "code",
   "execution_count": null,
   "id": "d44f214f-b945-48e4-95c1-e72e123bb713",
   "metadata": {},
   "outputs": [],
   "source": [
    "melted_demographics.rename(columns = {'variable': 'Year', 'value': 'BMI'}, inplace=True)\n",
    "melted_demographics"
   ]
  },
  {
   "cell_type": "markdown",
   "id": "9a5045a6-03d6-48e2-9ab1-5b41e8b70ef6",
   "metadata": {},
   "source": [
    "#### Formatowanie"
   ]
  },
  {
   "cell_type": "code",
   "execution_count": null,
   "id": "bbd16f31-5a2a-45f3-bb4e-08f713781fe9",
   "metadata": {
    "scrolled": true
   },
   "outputs": [],
   "source": [
    "melted_demographics.dtypes"
   ]
  },
  {
   "cell_type": "code",
   "execution_count": null,
   "id": "6fa9aa9e-6dc4-49ff-8504-56dacfe8535f",
   "metadata": {},
   "outputs": [],
   "source": [
    "melted_demographics['Year'].apply(pd.to_numeric)"
   ]
  },
  {
   "cell_type": "code",
   "execution_count": null,
   "id": "bba03666-15f5-4067-90fd-decd7bc83f99",
   "metadata": {},
   "outputs": [],
   "source": [
    "melted_demographics['Year'].astype('int64')\n",
    "melted_demographics"
   ]
  },
  {
   "cell_type": "markdown",
   "id": "8a6d883f-5228-447e-9783-3d697bd02c9f",
   "metadata": {},
   "source": [
    "---\n",
    "# Long to Wide\n",
    "\n",
    "### Pivot i Transpose"
   ]
  },
  {
   "cell_type": "code",
   "execution_count": null,
   "id": "d945ae96-a058-4421-ba89-375fc215d3be",
   "metadata": {},
   "outputs": [],
   "source": [
    "import numpy as np\n",
    "\n",
    "messy = pd.DataFrame({'First' : ['John', 'Jane', 'Mary'], \n",
    "                      'Last' : ['Smith', 'Doe', 'Johnson'], \n",
    "                      'Treatment A' : [np.nan, 16, 3], \n",
    "                      'Treatment B' : [2, 11, 1]})\n",
    "messy"
   ]
  },
  {
   "cell_type": "code",
   "execution_count": null,
   "id": "133ccc97-2283-4262-99e0-6896362a577b",
   "metadata": {},
   "outputs": [],
   "source": [
    "messy.transpose()"
   ]
  },
  {
   "cell_type": "code",
   "execution_count": null,
   "id": "8e6ee94b-ef21-4b81-9bef-f7502e911d63",
   "metadata": {},
   "outputs": [],
   "source": [
    "messy.T"
   ]
  },
  {
   "cell_type": "code",
   "execution_count": null,
   "id": "49878ae6-a7e5-45d1-b914-cf11134d28d0",
   "metadata": {},
   "outputs": [],
   "source": [
    "tidy = pd.melt(messy, \n",
    "               id_vars=['First','Last'], \n",
    "               var_name='treatment', \n",
    "               value_name='result')\n",
    "tidy"
   ]
  },
  {
   "cell_type": "code",
   "execution_count": null,
   "id": "31eaa0b5-f3b0-4bd1-a348-73b51ca0804e",
   "metadata": {},
   "outputs": [],
   "source": [
    "tidy['Name'] = tidy['First'] + ' ' + tidy['Last']"
   ]
  },
  {
   "cell_type": "code",
   "execution_count": null,
   "id": "e30810cd-110d-4096-b0b9-705423db9a3c",
   "metadata": {},
   "outputs": [],
   "source": [
    "messy1 = tidy.pivot(index='Name',columns='treatment',values='result')\n",
    "messy1"
   ]
  },
  {
   "cell_type": "code",
   "execution_count": null,
   "id": "91f77df1-f8d0-41c1-a83a-e04084693f9a",
   "metadata": {},
   "outputs": [],
   "source": [
    "messy1.index"
   ]
  },
  {
   "cell_type": "code",
   "execution_count": null,
   "id": "fe2d23bf-a877-4cdf-980c-d2e2a98c2810",
   "metadata": {},
   "outputs": [],
   "source": [
    "messy1.reset_index(inplace=True)\n",
    "messy1"
   ]
  },
  {
   "cell_type": "code",
   "execution_count": null,
   "id": "6e6b9808-0496-4007-a5f1-8e409dea84b6",
   "metadata": {},
   "outputs": [],
   "source": [
    "melted_demographics"
   ]
  },
  {
   "cell_type": "code",
   "execution_count": null,
   "id": "c67dd085-0d3c-4338-b9fe-ea4863a25acc",
   "metadata": {},
   "outputs": [],
   "source": [
    "melted_demographics.pivot(index='Country',columns='Year',values='BMI')"
   ]
  },
  {
   "cell_type": "code",
   "execution_count": null,
   "id": "5afd33c1-3f0e-4f60-b28b-c46acc34c7db",
   "metadata": {},
   "outputs": [],
   "source": [
    "grades.pivot(index='Student',columns='Przedmiot',values='Ocena')"
   ]
  }
 ],
 "metadata": {
  "kernelspec": {
   "display_name": "Python 3",
   "language": "python",
   "name": "python3"
  },
  "language_info": {
   "codemirror_mode": {
    "name": "ipython",
    "version": 3
   },
   "file_extension": ".py",
   "mimetype": "text/x-python",
   "name": "python",
   "nbconvert_exporter": "python",
   "pygments_lexer": "ipython3",
   "version": "3.9.1"
  }
 },
 "nbformat": 4,
 "nbformat_minor": 5
}
