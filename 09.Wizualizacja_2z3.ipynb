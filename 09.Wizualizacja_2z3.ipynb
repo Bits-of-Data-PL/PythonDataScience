{
 "cells": [
  {
   "cell_type": "markdown",
   "id": "e8a43b92-6103-40e1-b195-50ad775c414a",
   "metadata": {},
   "source": [
    "# Financial Times Visual Vocabulary"
   ]
  },
  {
   "cell_type": "markdown",
   "id": "92272292-03ed-46f0-9e33-22695e2f793a",
   "metadata": {},
   "source": [
    "![Financial Times Visual Vocabulary](img/poster.png)"
   ]
  },
  {
   "cell_type": "markdown",
   "id": "ed37c5d8-f3bf-4093-a42b-5ee22dd14fcb",
   "metadata": {},
   "source": [
    "---\n",
    "# Deviation\n",
    "\n",
    "Opisuje odchylenie od punktu odniesienia. Typowo tym punktem jest `0` ale może też być cel albo długofalowa średnia.  \n",
    "\n",
    "![Deviation](img/ft_deviation.png)"
   ]
  },
  {
   "cell_type": "markdown",
   "id": "e272e464-b770-4c6c-a38c-82a5d4af2aed",
   "metadata": {},
   "source": [
    "# Diverging bar\n",
    "\n",
    "Standardowy wykres słupkowy ukazujący wielkości zarówno dodatnie jak i ujemne."
   ]
  },
  {
   "cell_type": "code",
   "execution_count": null,
   "id": "b4f9e689-7149-4702-aee5-ba2970d45ba8",
   "metadata": {},
   "outputs": [],
   "source": [
    "import matplotlib.pyplot as plt\n",
    "import warnings\n",
    "warnings.filterwarnings(\"ignore\")\n",
    "plt.style.use(\"dark_background\")"
   ]
  },
  {
   "cell_type": "code",
   "execution_count": null,
   "id": "19f6e7c0-5fe6-41a4-9804-7ec162ff081d",
   "metadata": {},
   "outputs": [],
   "source": [
    "import pandas as pd\n",
    "import numpy as np\n",
    "\n",
    "np.random.seed(seed=5)\n",
    "drange = pd.date_range(start='2015-07-01', end='2015-07-10', freq='D')\n",
    "df = pd.DataFrame(data=np.random.random_sample((10, 1)), index=drange, columns=['col1']).reset_index()\n",
    "df.col1 = df.col1 -0.5\n",
    "df[\"color\"] = 'blue'\n",
    "columns = list(df.columns)\n",
    "columns[0] = \"date\"\n",
    "\n",
    "df.columns= columns\n",
    "\n",
    "df.loc[df['col1'] > 0, 'color'] = 'cyan'  \n",
    "df.head()"
   ]
  },
  {
   "cell_type": "code",
   "execution_count": null,
   "id": "96e5e48e-3ffe-46f9-96fd-3f884bc15231",
   "metadata": {},
   "outputs": [],
   "source": [
    "plt.figure(figsize=(14, 10))\n",
    "plt.hlines(y=df.date, xmin=-0, xmax=df.col1,\n",
    "           color=df.color, alpha=0.8, linewidth=35)\n",
    "plt.grid(linestyle='--', alpha=0.5)\n",
    "plt.show()"
   ]
  },
  {
   "cell_type": "markdown",
   "id": "a4cef37c-f51b-498e-adee-439ef5018b69",
   "metadata": {},
   "source": [
    "---\n",
    "# Diverging stacked bar"
   ]
  },
  {
   "cell_type": "code",
   "execution_count": null,
   "id": "1ce385ec-312b-4a3e-929a-aa07e2de2b93",
   "metadata": {},
   "outputs": [],
   "source": [
    "import numpy as np\n",
    "import matplotlib.pyplot as plt\n",
    "\n",
    "\n",
    "category_names = ['Strongly disagree', 'Disagree',\n",
    "                  'Neither agree nor disagree', 'Agree', 'Strongly agree']\n",
    "results = {\n",
    "    'Question 1': [10, 15, 17, 32, 26],\n",
    "    'Question 2': [26, 22, 29, 10, 13],\n",
    "    'Question 3': [35, 37, 7, 2, 19],\n",
    "    'Question 4': [32, 11, 9, 15, 33],\n",
    "    'Question 5': [21, 29, 5, 5, 40],\n",
    "    'Question 6': [8, 19, 5, 30, 38]\n",
    "}\n",
    "\n",
    "\n",
    "def survey(results, category_names):\n",
    "    labels = list(results.keys())\n",
    "    data = np.array(list(results.values()))\n",
    "    data_cum = data.cumsum(axis=1)\n",
    "    category_colors = plt.get_cmap('GnBu')(\n",
    "        np.linspace(0.15, 0.85, data.shape[1]))\n",
    "\n",
    "    fig, ax = plt.subplots(figsize=(9.2, 5))\n",
    "    ax.invert_yaxis()\n",
    "    ax.xaxis.set_visible(False)\n",
    "    ax.set_xlim(0, np.sum(data, axis=1).max())\n",
    "\n",
    "    for i, (colname, color) in enumerate(zip(category_names, category_colors)):\n",
    "        widths = data[:, i]\n",
    "        starts = data_cum[:, i] - widths\n",
    "        ax.barh(labels, widths, left=starts, height=0.5,\n",
    "                label=colname, color=color)\n",
    "        xcenters = starts + widths / 2\n",
    "\n",
    "        r, g, b, _ = color\n",
    "        text_color = 'white' if r * g * b < 0.5 else 'darkgrey'\n",
    "        for y, (x, c) in enumerate(zip(xcenters, widths)):\n",
    "            ax.text(x, y, str(int(c)), ha='center', va='center',\n",
    "                    color=text_color)\n",
    "    ax.legend(ncol=len(category_names), bbox_to_anchor=(0, 1),\n",
    "              loc='lower left', fontsize='small')\n",
    "\n",
    "    return fig, ax\n",
    "\n",
    "\n",
    "plt.show();"
   ]
  },
  {
   "cell_type": "code",
   "execution_count": null,
   "id": "61012452-c372-41a5-a102-3f2aeea840d5",
   "metadata": {},
   "outputs": [],
   "source": [
    "survey(results, category_names);"
   ]
  },
  {
   "cell_type": "code",
   "execution_count": null,
   "id": "e13befff-1c6f-4907-a8c2-8d95c2bfd4c7",
   "metadata": {},
   "outputs": [],
   "source": [
    "likert_colors = ['white', 'firebrick','lightcoral','gainsboro','cornflowerblue', 'darkblue']\n",
    "likert_colors =  plt.get_cmap('GnBu')(\n",
    "        np.linspace(0.15, 0.85, 6))\n",
    "dummy = pd.DataFrame([[1,2,3,4, 5], [5,6,7,8, 5], [10, 4, 2, 10, 5]],\n",
    "                     columns=[\"SD\", \"D\", \"N\", \"A\", \"SA\"],\n",
    "                    index=[\"Key 1\", \"Key B\", \"Key III\"])\n",
    "middles = dummy[[\"SD\", \"D\"]].sum(axis=1)+dummy[\"N\"]*.5\n",
    "longest = middles.max()\n",
    "complete_longest = dummy.sum(axis=1).max()\n",
    "dummy.insert(0, '', (middles - longest).abs())\n",
    "\n",
    "dummy.plot.barh(stacked=True, color=likert_colors, edgecolor='none', legend=False)\n",
    "z = plt.axvline(longest, linestyle='--', color='black', alpha=.5)\n",
    "z.set_zorder(-1)\n",
    "\n",
    "plt.xlim(0, complete_longest)\n",
    "xvalues = range(0,complete_longest,10)\n",
    "xlabels = [str(x-longest) for x in xvalues]\n",
    "plt.xticks(xvalues, xlabels)\n",
    "plt.show()"
   ]
  },
  {
   "cell_type": "markdown",
   "id": "a406cdce-4017-42e3-96bb-711e89d6d753",
   "metadata": {},
   "source": [
    "---\n",
    "# Spine\n",
    "\n",
    "Rozdziela pojedynczą wartość na dwie odrębne składowe"
   ]
  },
  {
   "cell_type": "code",
   "execution_count": null,
   "id": "30973c2f-405a-4b1f-ac51-0f60aed3d451",
   "metadata": {},
   "outputs": [],
   "source": [
    "import pandas as pd\n",
    "import numpy as np\n",
    "\n",
    "np.random.seed(seed=5)\n",
    "drange = pd.date_range(start='2015-07-01', end='2015-07-10', freq='D')\n",
    "df = pd.DataFrame(data=np.random.random_sample((10, 2)), index=drange, columns=['Male', 'Female']).reset_index()\n",
    "columns = list(df.columns)\n",
    "df.Male *= -1\n",
    "columns[0] = \"date\"\n",
    "df.columns= columns\n",
    "\n",
    "df.head()"
   ]
  },
  {
   "cell_type": "code",
   "execution_count": null,
   "id": "8afb137b-8e8d-447b-9bd8-553a7153edb4",
   "metadata": {},
   "outputs": [],
   "source": [
    "plt.figure(figsize=(14, 10))\n",
    "plt.hlines(y=df.date, xmin=-0, xmax=df.Male,\n",
    "           color=\"cyan\", alpha=0.8, linewidth=35)\n",
    "plt.hlines(y=df.date, xmin=-0, xmax=df.Female,\n",
    "           color=\"blue\", alpha=0.8, linewidth=35)\n",
    "plt.show()"
   ]
  },
  {
   "cell_type": "markdown",
   "id": "c7435c2f-4d77-41ca-ba2e-d22f8516a0a8",
   "metadata": {},
   "source": [
    "---\n",
    "# Surplus/deficit filled line\n",
    "\n",
    "Zacieniowany obszar pokazuje różnice w stosunku poziomu odniesienia (bądź innej serii)"
   ]
  },
  {
   "cell_type": "code",
   "execution_count": null,
   "id": "5c9b5e78-9732-428c-9e85-eb372af0393c",
   "metadata": {},
   "outputs": [],
   "source": [
    "drange = pd.date_range(start='2023-01-01', end='2023-02-27', freq='D')\n",
    "np.random.seed(seed=10)\n",
    "df = pd.DataFrame(data=np.random.random_sample((58, 1)), index=drange, columns=['col1'])\n",
    "df.col1 = df.col1 -0.5\n",
    "df[\"zero\"] = 0\n",
    "df = df.cumsum().reset_index()\n",
    "\n",
    "\n",
    "columns = list(df.columns)\n",
    "columns[0] = \"date\"\n",
    "\n",
    "df.columns= columns\n",
    "df.head()"
   ]
  },
  {
   "cell_type": "code",
   "execution_count": null,
   "id": "bb4dd37f-c423-430a-8649-88b00e1fe06e",
   "metadata": {},
   "outputs": [],
   "source": [
    "fig = plt.figure(figsize=(14, 10))\n",
    "ax = fig.add_axes([0,0,2,1])\n",
    "plt.plot(df.date, df.col1, df.date, df.zero, color='blue', linewidth=0)\n",
    "plt.fill_between(df.date, df.col1, df.zero, where=df.zero < df.col1, facecolor='cyan', interpolate=True)\n",
    "plt.fill_between(df.date, df.col1, df.zero, where=df.zero >= df.col1, facecolor='blue', interpolate=True)\n",
    "plt.show()"
   ]
  },
  {
   "cell_type": "markdown",
   "id": "dc758dc5-14d8-45bc-913d-2f3f651a3776",
   "metadata": {},
   "source": [
    "---\n",
    "\n",
    "![Correlation](img/ft_correlation.png)"
   ]
  },
  {
   "cell_type": "markdown",
   "id": "0c1deb56-24c9-426a-8343-9f91a730ae74",
   "metadata": {},
   "source": [
    "# Scatterplot\n",
    "\n",
    "Standardowy sposób pokazania relacji pomiędzy dwoma zmiennymi - każde ze swoją osią"
   ]
  },
  {
   "cell_type": "code",
   "execution_count": null,
   "id": "0a40907e-aaf7-40c4-bbc7-211f9052ce67",
   "metadata": {},
   "outputs": [],
   "source": [
    "import numpy as np\n",
    "import pandas as pd\n",
    "import matplotlib.pyplot as plt\n",
    "\n",
    "np.random.seed(seed=3)\n",
    "df = pd.DataFrame(data=np.random.random_sample((16, 2)), columns=['x', 'y'])\n",
    "\n",
    "x = df['x'].values\n",
    "y = df['y'].values\n",
    "\n",
    "u = np.diff(x)\n",
    "v = np.diff(y)\n",
    "pos_x = x[:-1] + u/2\n",
    "pos_y = y[:-1] + v/2\n",
    "norm = np.sqrt(u**2+v**2) \n",
    "\n",
    "fig, ax = plt.subplots();\n",
    "\n",
    "ax.scatter(x,y, marker=\"o\", color=\"cyan\");\n"
   ]
  },
  {
   "cell_type": "markdown",
   "id": "b1c41743-24c9-458b-a6c2-4565951327bb",
   "metadata": {},
   "source": [
    "---\n",
    "# Column + Line Timeline\n",
    "\n",
    "Pokazuje relację pomiędzy ilością (słupki) a pewną zmienną (linia)"
   ]
  },
  {
   "cell_type": "code",
   "execution_count": null,
   "id": "e91e2421-a2a8-4703-bcce-c84a98a1e59f",
   "metadata": {},
   "outputs": [],
   "source": [
    "import matplotlib.pyplot as plt\n",
    "\n",
    "fig = plt.figure()\n",
    "ax = fig.add_axes([0,0,2,1])\n",
    "months = ['Jan', 'Feb', 'Mar', 'Apr', 'May']\n",
    "amount = [2300,1700,1400,900,600]\n",
    "rates = [ 17.2, 15.1, 13.1, 14.2, 10.0]\n",
    "ax.bar(months,amount, alpha=.3)\n",
    "a2 = ax.twinx()\n",
    "a2.plot(rates)\n",
    "plt.show()"
   ]
  },
  {
   "cell_type": "markdown",
   "id": "551240dc-3546-4786-93a8-0bb5c0501f46",
   "metadata": {},
   "source": [
    "# Connected Scatterplot\n",
    "\n",
    "Pokazuje relację dwu wartości i ich ewolucję w czasie"
   ]
  },
  {
   "cell_type": "code",
   "execution_count": null,
   "id": "ab11f6cb-3ab2-4b9d-83cf-56baebc5108d",
   "metadata": {},
   "outputs": [],
   "source": [
    "import numpy as np\n",
    "import pandas as pd\n",
    "import matplotlib.pyplot as plt\n",
    "\n",
    "np.random.seed(seed=1)\n",
    "df = pd.DataFrame(data=np.random.random_sample((6, 2)), columns=['x', 'y'])\n",
    "\n",
    "x = df['x'].values\n",
    "y = df['y'].values\n",
    "\n",
    "u = np.diff(x)\n",
    "v = np.diff(y)\n",
    "pos_x = x[:-1] + u/2\n",
    "pos_y = y[:-1] + v/2\n",
    "norm = np.sqrt(u**2+v**2) \n",
    "\n",
    "fig, ax = plt.subplots()\n",
    "ax.plot(x,y, marker=\"o\", color=\"cyan\", linewidth=1)\n",
    "ax.quiver(pos_x, pos_y, u/norm, v/norm, angles=\"xy\", zorder=5, pivot=\"mid\", color=\"cyan\")\n",
    "plt.show()"
   ]
  },
  {
   "cell_type": "markdown",
   "id": "6a51df99-8545-4ab4-97c0-8df1234d68d5",
   "metadata": {},
   "source": [
    "# Bubble\n",
    "\n",
    "Podony do __*Scatterplot*__ ale pozwala na dodanie szczegółów poprzez wielkość znacznika i jego kolor"
   ]
  },
  {
   "cell_type": "code",
   "execution_count": null,
   "id": "938993c2-e747-4527-b5b5-51582b0bd087",
   "metadata": {},
   "outputs": [],
   "source": [
    "import numpy as np\n",
    "import pandas as pd\n",
    "import matplotlib.pyplot as plt\n",
    "\n",
    "np.random.seed(seed=1113)\n",
    "df = pd.DataFrame(data=np.random.random_sample((9, 3)), columns=['x', 'y', 's'])\n",
    "df.reset_index()\n",
    "\n",
    "\n",
    "fig, ax = plt.subplots()\n",
    "ax.scatter(df.x,df.y, s=df.s*df.s*5000, marker=\"o\", c=df.index);\n"
   ]
  },
  {
   "cell_type": "markdown",
   "id": "4ae1cade-1496-4a87-b6d8-d52bc60d8c95",
   "metadata": {},
   "source": [
    "# Heatmap\n",
    "\n",
    "Przydatny do pokazania pewnych wzorców danych. Mało przydatny przy drobnych różnicach"
   ]
  },
  {
   "cell_type": "code",
   "execution_count": null,
   "id": "c4c9eaf7-44e4-4622-8e86-0461135ebfcb",
   "metadata": {},
   "outputs": [],
   "source": [
    "import numpy as np\n",
    "import matplotlib\n",
    "import matplotlib as mpl\n",
    "import matplotlib.pyplot as plt\n",
    "\n",
    "vegetables = [\"cucumber\", \"tomato\", \"lettuce\", \"asparagus\",\n",
    "              \"potato\", \"wheat\", \"barley\"]\n",
    "farmers = [ \"Farmer Joe\", \"Upland Bros.\", \"Smith Gardening\",\n",
    "           \"Agrifun\", \"Organiculture\", \"BioGoods Ltd.\", \"Cornylee Corp.\"]\n",
    "\n",
    "harvest = np.array([[0.8, 2.4, 2.5, 3.9, 0.0, 4.0, 0.0],\n",
    "                    [2.4, 0.0, 4.0, 1.0, 2.7, 0.0, 0.0],\n",
    "                    [1.1, 2.4, 0.8, 4.3, 1.9, 4.4, 0.0],\n",
    "                    [0.6, 0.0, 0.3, 0.0, 3.1, 0.0, 0.0],\n",
    "                    [0.7, 1.7, 0.6, 2.6, 2.2, 6.2, 0.0],\n",
    "                    [1.3, 1.2, 0.0, 0.0, 0.0, 3.2, 5.1],\n",
    "                    [0.1, 2.0, 0.0, 1.4, 0.0, 1.9, 6.3]])\n",
    "fig, ax = plt.subplots()\n",
    "im = ax.imshow(harvest)\n",
    "\n",
    "ax.set_xticks(np.arange(len(farmers))) # WAŻNE\n",
    "ax.set_yticks(np.arange(len(vegetables))) # WAŻNE\n",
    "ax.set_xticklabels(farmers)\n",
    "ax.set_yticklabels(vegetables)\n",
    "\n",
    "\n",
    "plt.setp(ax.get_xticklabels(), rotation=45, ha=\"right\",\n",
    "         rotation_mode=\"anchor\")\n",
    "\n",
    "for i in range(len(vegetables)):\n",
    "    for j in range(len(farmers)):\n",
    "        text = ax.text(j, i, harvest[i, j],\n",
    "                       ha=\"center\", va=\"center\", color=\"w\")\n",
    "\n",
    "ax.set_title(\"Harvest of local farmers (in tons/year)\")\n",
    "plt.show();"
   ]
  },
  {
   "cell_type": "markdown",
   "id": "0b7c8b63-95a8-436e-8119-0e51ec8839a8",
   "metadata": {},
   "source": [
    "---\n",
    "![Ranking](img/ft_ranking.png)"
   ]
  },
  {
   "cell_type": "markdown",
   "id": "7dec64c4-3e1a-4cad-a421-751ce8ddc1c7",
   "metadata": {},
   "source": [
    "# Ordered columns"
   ]
  },
  {
   "cell_type": "code",
   "execution_count": null,
   "id": "59d13181-5fd7-41b8-8df3-3b6636ca54ed",
   "metadata": {},
   "outputs": [],
   "source": [
    "import matplotlib.pyplot as plt\n",
    "\n",
    "fig = plt.figure()\n",
    "ax = fig.add_axes([0,0,2,1])\n",
    "df = pd.DataFrame({\n",
    "'months' : ['Jan', 'Feb', 'Mar', 'Apr', 'May'],\n",
    "'amount'  : [2300,1700,1400,900,600],\n",
    "'color'  : ['cyan', 'blue', 'cyan', 'cyan', 'cyan' ],\n",
    "})\n",
    "ax.bar(df.months, df.amount, alpha=0.3, color=df.color)\n",
    "plt.show()"
   ]
  },
  {
   "cell_type": "markdown",
   "id": "081bd1ea-4ff6-4d5d-b55a-bf1218ae1765",
   "metadata": {},
   "source": [
    "# Ordered bar\n",
    "\n"
   ]
  },
  {
   "cell_type": "code",
   "execution_count": null,
   "id": "1a73d291-666a-4062-8377-11d60013dd19",
   "metadata": {},
   "outputs": [],
   "source": [
    "import matplotlib.pyplot as plt\n",
    "\n",
    "fig = plt.figure()\n",
    "ax = fig.add_axes([0,0,2,1])\n",
    "df = pd.DataFrame({\n",
    "'months' : ['Jan', 'Feb', 'Mar', 'Apr', 'May'][::-1],\n",
    "'amount'  : [2300,1700,1400,900,600][::-1],\n",
    "'color'  : ['cyan', 'blue', 'cyan', 'cyan', 'cyan' ][::-1],\n",
    "})\n",
    "ax.hlines(xmin=0, xmax= df.amount, y=df.months, alpha=0.3, color=df.color, linewidth=50)\n",
    "plt.show()"
   ]
  },
  {
   "cell_type": "markdown",
   "id": "dc227a5d-1c89-422c-8461-0f35f65a2620",
   "metadata": {},
   "source": [
    "# Ordered proportional symbol"
   ]
  },
  {
   "cell_type": "code",
   "execution_count": null,
   "id": "d48303e8-81b0-454b-89ae-0ef56d27cd8f",
   "metadata": {},
   "outputs": [],
   "source": [
    "import numpy as np\n",
    "import pandas as pd\n",
    "import matplotlib.pyplot as plt\n",
    "\n",
    "np.random.seed(seed=1113)\n",
    "df = pd.DataFrame(data=\n",
    "                  \n",
    "                  {\n",
    "'months' : ['', 'Jan', 'Feb', 'Mar', 'Apr', 'May'][::-1],\n",
    "'amount'  : [3000, 2300,1700,1400,900,600][::-1],\n",
    "'color'  : ['black', 'cyan', 'blue', 'cyan', 'cyan', 'cyan' ][::-1],\n",
    "'s': range(1,7)                      \n",
    "})\n",
    "\n",
    "df.reset_index()\n",
    "\n",
    "\n",
    "fig, ax = plt.subplots()\n",
    "ax.scatter(df.months,df.amount, s=df.s*df.s*100, marker=\"o\", c= df.color);"
   ]
  },
  {
   "cell_type": "markdown",
   "id": "58d72e2d-bd70-4a3a-8697-26ed55fcef44",
   "metadata": {},
   "source": [
    "---\n",
    "# Dot strip plot"
   ]
  },
  {
   "cell_type": "code",
   "execution_count": null,
   "id": "c004eecd-a06f-4756-a134-e981755a4b1d",
   "metadata": {},
   "outputs": [],
   "source": [
    "import seaborn\n",
    "import matplotlib.pyplot as plt\n",
    "\n",
    "tips = seaborn.load_dataset(\"tips\")\n",
    "tips.head()"
   ]
  },
  {
   "cell_type": "code",
   "execution_count": null,
   "id": "3c2c1107-f074-4038-8fd3-e34ba7b38107",
   "metadata": {},
   "outputs": [],
   "source": [
    "plt.figure(figsize=(10,10))\n",
    "seaborn.stripplot(y=\"sex\", x=\"total_bill\", data=tips)\n",
    "plt.show()"
   ]
  },
  {
   "cell_type": "markdown",
   "id": "a12af072-d4e1-49bb-821a-2f8f1ec298c5",
   "metadata": {},
   "source": [
    "---\n",
    "# Slope"
   ]
  },
  {
   "cell_type": "code",
   "execution_count": null,
   "id": "73bc5f2f-cab7-4bef-89aa-982199ee49b3",
   "metadata": {},
   "outputs": [],
   "source": [
    "import matplotlib.pyplot as plt\n",
    "import numpy as np\n",
    "\n",
    "fig = plt.figure()\n",
    "a1 = fig.add_axes([0,0,2,1])\n",
    "x = [1,2]\n",
    "y= [4.5, 1.1]\n",
    "y2=[0.9, 0.3]\n",
    "\n",
    "a1.plot(x,y)\n",
    "\n",
    "plt.grid(False)\n",
    "\n",
    "\n",
    "a1.plot(x, y, \n",
    "        linestyle='-', \n",
    "        marker='o', \n",
    "        color='cyan',\n",
    "        linewidth=2,\n",
    "        markersize=18,\n",
    "        markeredgewidth=2,\n",
    "        markeredgecolor='black');\n",
    "\n",
    "a1.plot(x, y2, \n",
    "        linestyle='-', \n",
    "        marker='o', \n",
    "        color='blue',\n",
    "        linewidth=2,\n",
    "        markersize=18,\n",
    "        markeredgewidth=2,\n",
    "        markeredgecolor='black');\n"
   ]
  },
  {
   "cell_type": "markdown",
   "id": "17b85acd-5de8-41c3-8766-d6331fbbb280",
   "metadata": {},
   "source": [
    "# Lollipop"
   ]
  },
  {
   "cell_type": "code",
   "execution_count": null,
   "id": "5e3ac78a-6e24-4559-a77c-d9e548b35365",
   "metadata": {},
   "outputs": [],
   "source": [
    "import pandas as pd\n",
    "df = pd.DataFrame({'group':list(map(chr, range(65, 85))), 'values':np.random.uniform(size=20) })\n",
    "\n",
    "ordered_df = df.sort_values(by='values')\n",
    "my_range=range(1,len(df.index)+1)\n",
    "\n",
    "plt.stem(ordered_df['values']);\n",
    "plt.xticks( my_range, ordered_df['group']);"
   ]
  },
  {
   "cell_type": "code",
   "execution_count": null,
   "id": "7d822a9c-5f87-4401-864c-2f24229b5abc",
   "metadata": {},
   "outputs": [],
   "source": [
    "import pandas as pd\n",
    "import matplotlib.pyplot as plt\n",
    "import numpy as np\n",
    " \n",
    "df = pd.DataFrame({'group':list(map(chr, range(65, 85))), 'values':np.random.uniform(size=20) })\n",
    " \n",
    "ordered_df = df.sort_values(by='values')\n",
    "my_range=range(1,len(df.index)+1)\n",
    " \n",
    "plt.hlines(y=my_range, xmin=0, xmax=ordered_df['values'], color='skyblue')\n",
    "plt.plot(ordered_df['values'], my_range, \"o\")\n",
    " \n",
    "plt.yticks(my_range, ordered_df['group'])\n",
    "\n",
    "plt.show();"
   ]
  },
  {
   "cell_type": "markdown",
   "id": "f8f646c4-bbbf-438b-84ea-ccf16e653bf7",
   "metadata": {},
   "source": [
    "---\n",
    "# Bump"
   ]
  },
  {
   "cell_type": "code",
   "execution_count": null,
   "id": "08078620-ba0d-4125-b7bd-b73450fc0584",
   "metadata": {},
   "outputs": [],
   "source": [
    "import matplotlib.pyplot as plt\n",
    "import numpy as np\n",
    "\n",
    "fig = plt.figure()\n",
    "a1 = fig.add_axes([0,0,2,1])\n",
    "x = range(10)\n",
    "y= [0, 0, 0, 1, 1, 4,4, 3, 3, 3]\n",
    "\n",
    "a1.set_yticks(range(6))\n",
    "a1.grid(axis=\"y\", linestyle=\"--\", alpha=0.4)\n",
    "\n",
    "\n",
    "a1.plot(x, y, \n",
    "        linestyle='-', \n",
    "        marker='o', \n",
    "        color='cyan',\n",
    "        linewidth=2,\n",
    "        markersize=12,\n",
    "        markeredgewidth=2,\n",
    "        markeredgecolor='black');\n"
   ]
  },
  {
   "cell_type": "markdown",
   "id": "52e49542-bb67-48e8-8cc8-48b55dcea846",
   "metadata": {},
   "source": [
    "---\n",
    "![Distribution](img/ft_distribution.png)"
   ]
  },
  {
   "cell_type": "markdown",
   "id": "d1865b0b-b49a-4641-939e-20440bc9603d",
   "metadata": {},
   "source": [
    "---\n",
    "# Histogram"
   ]
  },
  {
   "cell_type": "code",
   "execution_count": null,
   "id": "d69695d5-ede7-4ad2-9a65-dff679a47618",
   "metadata": {},
   "outputs": [],
   "source": [
    "import numpy as np\n",
    "import matplotlib.pyplot as plt\n",
    "\n",
    "data = [10, 12, 22, 25, 14, 13, 10, 8]\n",
    "\n",
    "X = np.arange(len(data))\n",
    "fig = plt.figure()\n",
    "ax = fig.add_axes([0,0,2,1])\n",
    "ax.bar(X,data, color = 'b', width = 0.95);\n"
   ]
  },
  {
   "cell_type": "markdown",
   "id": "63d370ec-5a7e-420e-8076-b862006d451e",
   "metadata": {},
   "source": [
    "# Dot plot"
   ]
  },
  {
   "cell_type": "code",
   "execution_count": null,
   "id": "161eb71f-b37e-4f0a-99d8-38c601183c52",
   "metadata": {},
   "outputs": [],
   "source": [
    "import matplotlib.pyplot as plt\n",
    "import numpy as np\n",
    "\n",
    "fig = plt.figure()\n",
    "a1 = fig.add_axes([0,0,2,1])\n",
    "x = [1,2]\n",
    "y= [4.5, 4.5]\n",
    "x2= [2,3]\n",
    "y2=[0.9, 0.9]\n",
    "\n",
    "a1.plot(x,y)\n",
    "\n",
    "plt.grid(False)\n",
    "\n",
    "\n",
    "a1.plot(x, y, \n",
    "        linestyle='-', \n",
    "        marker='o', \n",
    "        color='cyan',\n",
    "        linewidth=2,\n",
    "        markersize=18,\n",
    "        markeredgewidth=2,\n",
    "        markeredgecolor='black');\n",
    "\n",
    "a1.plot(x2, y2, \n",
    "        linestyle='-', \n",
    "        marker='o', \n",
    "        color='blue',\n",
    "        linewidth=2,\n",
    "        markersize=18,\n",
    "        markeredgewidth=2,\n",
    "        markeredgecolor='black');"
   ]
  },
  {
   "cell_type": "markdown",
   "id": "930097d9-2187-45c1-a096-197604a8b082",
   "metadata": {},
   "source": [
    "---\n",
    "# Dot strip plot"
   ]
  },
  {
   "cell_type": "code",
   "execution_count": null,
   "id": "d852e9d6-d0c1-439e-a165-863d95f852fe",
   "metadata": {},
   "outputs": [],
   "source": [
    "import seaborn\n",
    "import matplotlib.pyplot as plt\n",
    "\n",
    "tips = seaborn.load_dataset(\"tips\")\n",
    "tips.head()"
   ]
  },
  {
   "cell_type": "code",
   "execution_count": null,
   "id": "60323f7c-f89e-46aa-9406-cc92707215be",
   "metadata": {},
   "outputs": [],
   "source": [
    "plt.figure(figsize=(10,10))\n",
    "seaborn.stripplot(y=\"sex\", x=\"total_bill\", data=tips)\n",
    "plt.show()"
   ]
  },
  {
   "cell_type": "code",
   "execution_count": null,
   "id": "801ec9ed-8599-460e-8631-1d3cce88c587",
   "metadata": {},
   "outputs": [],
   "source": [
    "import matplotlib.pyplot as plt\n",
    "import numpy as np\n",
    "\n",
    "\n",
    "code = np.array([\n",
    "    1, 0, 1, 0, 1, 1, 1, 0, 1, 1, 0, 0, 0, 1, 0, 0, 1, 0, 1, 0, 0, 1, 1, 1,\n",
    "    0, 0, 0, 1, 0, 1, 1, 0, 0, 0, 0, 1, 0, 1, 0, 0, 1, 1, 0, 0, 1, 0, 1, 0,\n",
    "    1, 0, 1, 0, 0, 0, 0, 1, 0, 1, 1, 1, 0, 1, 0, 0, 1, 1, 0, 1, 1, 0, 0, 1,\n",
    "    1, 0, 0, 1, 1, 0, 1, 0, 1, 1, 1, 0, 0, 1, 0, 0, 0, 1, 0, 0, 1, 0, 1])\n",
    "\n",
    "pixel_per_bar = 4\n",
    "dpi = 100\n",
    "\n",
    "fig = plt.figure(figsize=(len(code) * pixel_per_bar / dpi, 2), dpi=dpi)\n",
    "ax = fig.add_axes([0, 0, 1, 1])  # span the whole figure\n",
    "ax.set_axis_off()\n",
    "ax.imshow(code.reshape(1, -1), cmap='Blues', aspect='auto',\n",
    "          interpolation='nearest')\n",
    "plt.show()"
   ]
  },
  {
   "cell_type": "markdown",
   "id": "0d5e307a-10ef-4eef-b9b6-c100c206b1e8",
   "metadata": {},
   "source": [
    "---\n",
    "# Boxplot"
   ]
  },
  {
   "cell_type": "code",
   "execution_count": null,
   "id": "2ebfd3e8-e5a3-4148-b95b-b35f1c15d3b2",
   "metadata": {},
   "outputs": [],
   "source": [
    "import matplotlib.pyplot as plt\n",
    "import pandas as pd\n",
    "x = [[1.2, 2.3, 3.0, 4.5],\n",
    "     [1.1, 2.2, 2.9, 5.0]]\n",
    "df = pd.DataFrame(x)\n",
    "\n",
    "bplot = df.T.boxplot(vert=False, patch_artist=True)\n",
    "plt.subplots_adjust(left=0.25)\n",
    "plt.grid(False)\n",
    "plt.show()"
   ]
  },
  {
   "cell_type": "markdown",
   "id": "e6adab29-2b8d-4dea-ba17-79db3f16b025",
   "metadata": {},
   "source": [
    "---\n",
    "# Violinplot\n",
    "\n"
   ]
  },
  {
   "cell_type": "code",
   "execution_count": null,
   "id": "8a27d395-b02c-4e78-88fa-644cdb193a82",
   "metadata": {},
   "outputs": [],
   "source": [
    "plt.violinplot(df.T);\n"
   ]
  },
  {
   "cell_type": "markdown",
   "id": "49555f55-3349-4b44-9afb-c60fa235289a",
   "metadata": {},
   "source": [
    "---\n",
    "# Population pyramid"
   ]
  },
  {
   "cell_type": "code",
   "execution_count": null,
   "id": "e0efcd24-5cbf-4caa-9bb7-8bd00743c076",
   "metadata": {},
   "outputs": [],
   "source": [
    "import pandas as pd\n",
    "import numpy as np\n",
    "\n",
    "np.random.seed(seed=5)\n",
    "df = pd.DataFrame(data=np.random.random_sample((10, 2)),columns=['Male', 'Female']).reset_index()\n",
    "columns = list(df.columns)\n",
    "df.Male *= -1\n",
    "df.columns= columns\n",
    "df=df.cumsum()\n",
    "df.head()"
   ]
  },
  {
   "cell_type": "code",
   "execution_count": null,
   "id": "760081fc-5be8-4987-a245-d349b5816266",
   "metadata": {},
   "outputs": [],
   "source": [
    "plt.figure(figsize=(14, 10))\n",
    "plt.hlines(y=range(10), xmin=-0, xmax=df.Male[::-1],\n",
    "           color=\"cyan\", alpha=0.8, linewidth=35)\n",
    "plt.hlines(y=range(10), xmin=-0, xmax=df.Female[::-1],\n",
    "           color=\"blue\", alpha=0.8, linewidth=35)\n",
    "plt.show()"
   ]
  },
  {
   "cell_type": "markdown",
   "id": "b080691f-b85b-467b-879a-8e9d9586c155",
   "metadata": {},
   "source": [
    "---\n",
    "# Cumulative curve"
   ]
  },
  {
   "cell_type": "code",
   "execution_count": null,
   "id": "5d23f6dd-a415-4bb3-8d0e-368b8a68df85",
   "metadata": {},
   "outputs": [],
   "source": [
    "import pandas as pd\n",
    "import numpy as np\n",
    "\n",
    "np.random.seed(seed=5)\n",
    "df = pd.DataFrame(data=np.random.random_sample((100, 1)),columns=['x']).reset_index()\n",
    "df.x = df.x*df.index*df.index*df.index*df.index\n",
    "columns = list(df.columns)\n",
    "df=df.cumsum()\n",
    "df.head()"
   ]
  },
  {
   "cell_type": "code",
   "execution_count": null,
   "id": "92aeda6f-8845-4c53-8329-143af78276c4",
   "metadata": {},
   "outputs": [],
   "source": [
    "import matplotlib.pyplot as plt\n",
    "import numpy as np\n",
    "\n",
    "fig = plt.figure()\n",
    "a1 = fig.add_axes([0,0,2,1])\n",
    "\n",
    "plt.grid(False)\n",
    "\n",
    "a1.plot(range(100), df.x, \n",
    "        linestyle='-', \n",
    "        color='cyan',\n",
    "        linewidth=2,\n",
    "        );"
   ]
  },
  {
   "cell_type": "markdown",
   "id": "64c5ea2b-2254-4657-a1ab-0ab9ab4bbd38",
   "metadata": {},
   "source": [
    "---\n",
    "# Frequency polygons\n"
   ]
  },
  {
   "cell_type": "code",
   "execution_count": null,
   "id": "571bd01e-b427-4ccd-b758-ed82133e17b3",
   "metadata": {},
   "outputs": [],
   "source": [
    "import pandas as pd\n",
    "ts = pd.Series(np.random.randn(20), index=pd.date_range('1/1/2000', periods=20))\n",
    "df = pd.DataFrame(np.random.randn(20, 2), index=ts.index, columns=list('AB'))\n",
    "df = df.cumsum()"
   ]
  },
  {
   "cell_type": "code",
   "execution_count": null,
   "id": "70bcc128-61d8-453d-9382-5c334eaace15",
   "metadata": {},
   "outputs": [],
   "source": [
    "import matplotlib.pyplot as plt\n",
    "import numpy as np\n",
    "\n",
    "fig = plt.figure()\n",
    "a1 = fig.add_axes([0,0,2,1])\n",
    "\n",
    "plt.grid(False)\n",
    "\n",
    "a1.plot(range(20), df, \n",
    "        linestyle='-', \n",
    "        color='cyan',\n",
    "        linewidth=2,\n",
    "        marker=\"o\",\n",
    "        markersize=10,\n",
    "        markeredgewidth=2,\n",
    "        markeredgecolor='black'\n",
    "        );"
   ]
  },
  {
   "cell_type": "markdown",
   "id": "5ae25bf3-92b3-4558-b0a0-e42186d97f99",
   "metadata": {},
   "source": [
    "---\n",
    "# Beeswarm\n",
    "\n",
    "__*Histogram*__ który pokazuje realną wartość punktu"
   ]
  },
  {
   "cell_type": "code",
   "execution_count": null,
   "id": "c70a8543-7f61-49c8-bb87-316d9b8e6e6f",
   "metadata": {},
   "outputs": [],
   "source": [
    "import matplotlib.pyplot as plt\n",
    "import numpy as np\n",
    "\n",
    "# https://stackoverflow.com/questions/36153410/how-to-create-a-swarm-plot-with-matplotlib\n",
    "def simple_beeswarm(y, nbins=None):\n",
    "    \"\"\"\n",
    "    Returns x coordinates for the points in ``y``, so that plotting ``x`` and\n",
    "    ``y`` results in a bee swarm plot.\n",
    "    \"\"\"\n",
    "    y = np.asarray(y)\n",
    "    if nbins is None:\n",
    "        nbins = len(y) // 6\n",
    "\n",
    "    # Get upper bounds of bins\n",
    "    x = np.zeros(len(y))\n",
    "    ylo = np.min(y)\n",
    "    yhi = np.max(y)\n",
    "    dy = (yhi - ylo) / nbins\n",
    "    ybins = np.linspace(ylo + dy, yhi - dy, nbins - 1)\n",
    "\n",
    "    # Divide indices into bins\n",
    "    i = np.arange(len(y))\n",
    "    ibs = [0] * nbins\n",
    "    ybs = [0] * nbins\n",
    "    nmax = 0\n",
    "    for j, ybin in enumerate(ybins):\n",
    "        f = y <= ybin\n",
    "        ibs[j], ybs[j] = i[f], y[f]\n",
    "        nmax = max(nmax, len(ibs[j]))\n",
    "        f = ~f\n",
    "        i, y = i[f], y[f]\n",
    "    ibs[-1], ybs[-1] = i, y\n",
    "    nmax = max(nmax, len(ibs[-1]))\n",
    "\n",
    "    # Assign x indices\n",
    "    dx = 1 / (nmax // 2)\n",
    "    for i, y in zip(ibs, ybs):\n",
    "        if len(i) > 1:\n",
    "            j = len(i) % 2\n",
    "            i = i[np.argsort(y)]\n",
    "            a = i[j::2]\n",
    "            b = i[j+1::2]\n",
    "            x[a] = (0.5 + j / 3 + np.arange(len(b))) * dx\n",
    "            x[b] = (0.5 + j / 3 + np.arange(len(b))) * -dx\n",
    "\n",
    "    return x\n",
    "\n",
    "\n",
    "fig = plt.figure(figsize=(2, 4))\n",
    "fig.subplots_adjust(0.2, 0.1, 0.98, 0.99)\n",
    "ax = fig.add_subplot(1, 1, 1)\n",
    "y = np.random.gamma(20, 10, 100)\n",
    "x = simple_beeswarm(y)\n",
    "ax.plot(x, y, 'o')\n"
   ]
  },
  {
   "cell_type": "markdown",
   "id": "8595e561-ad6d-4a47-816c-393f50a82daa",
   "metadata": {},
   "source": [
    "---\n",
    "![Change over time](img/ft_change.png)"
   ]
  },
  {
   "cell_type": "markdown",
   "id": "18d8717b-c502-4e2f-99ab-38df3e8d906e",
   "metadata": {},
   "source": [
    "---\n",
    "# Area chart + Streamgraph\n"
   ]
  },
  {
   "cell_type": "code",
   "execution_count": null,
   "id": "5d8086b2-924d-4435-b138-46d28b2675d4",
   "metadata": {},
   "outputs": [],
   "source": [
    "drange = pd.date_range(start='2023-01-01', end='2023-02-27', freq='D')\n",
    "np.random.seed(seed=10)\n",
    "df = pd.DataFrame(data=np.random.random_sample((58, 2)), index=drange, columns=['col1', 'col2'])\n",
    "df.col2 = df.col1 + df.col2\n",
    "df['zero'] = 0\n",
    "df.head()"
   ]
  },
  {
   "cell_type": "code",
   "execution_count": null,
   "id": "58c9b8bf-e5c1-438a-9095-e496fd1b8639",
   "metadata": {},
   "outputs": [],
   "source": [
    "fig = plt.figure(figsize=(14, 10))\n",
    "ax = fig.add_axes([0,0,2,1])\n",
    "plt.plot(df.index, df.col1, df.index, df.col2, color='w', linewidth=5)\n",
    "plt.fill_between(df.index, df.col1, df.col2, where=df.col1 < df.col2, facecolor='cyan', interpolate=True)\n",
    "plt.fill_between(df.index, df.zero, df.col1, where=df.zero < df.col2, facecolor='blue', interpolate=True)\n",
    "plt.show()"
   ]
  },
  {
   "cell_type": "markdown",
   "id": "886f91c8-4783-4f61-8951-17e646289d06",
   "metadata": {},
   "source": [
    "---\n",
    "# Fan chart (projections)\n",
    "\n",
    "Ukazanie danych wraz z niepewnością ich wartości"
   ]
  },
  {
   "cell_type": "code",
   "execution_count": null,
   "id": "dc6ebe14-38d1-4560-b537-ee89c01dadc0",
   "metadata": {},
   "outputs": [],
   "source": [
    "# https://stackoverflow.com/questions/28807169/making-a-python-fan-chart-fan-plot\n",
    "\n",
    "import matplotlib.pyplot as plt\n",
    "import numpy as np\n",
    "\n",
    "N = 1000\n",
    "x = np.linspace(0, 10, N)\n",
    "y = x**2\n",
    "ones = np.ones(N)\n",
    "\n",
    "vals = [30, 20, 10] # Values to iterate over and add/subtract from y.\n",
    "\n",
    "fig, ax = plt.subplots()\n",
    "\n",
    "for i, val in enumerate(vals):\n",
    "    alpha = 0.5*(i+1)/len(vals) # Modify the alpha value for each iteration.\n",
    "    ax.fill_between(x, y+ones*val, y-ones*val, color='cyan', alpha=alpha)\n",
    "\n",
    "ax.plot(x, y, color='cyan') # Plot the original signal\n",
    "\n",
    "plt.show()"
   ]
  },
  {
   "cell_type": "markdown",
   "id": "169b5fb9-e823-4398-8e20-3f0a0cd95763",
   "metadata": {},
   "source": [
    "# Candlestick\n",
    "\n",
    "Zwany też __*Japanese Candlestick*__. Stosowany przy wyświetlaniu notowań dzień po dniu. Zawiera cenę otwarcia, cenę zamknięcia, minimum, maksimum."
   ]
  },
  {
   "cell_type": "code",
   "execution_count": null,
   "id": "46cc84c7-11d4-4e28-9afe-3ed0b51502a6",
   "metadata": {},
   "outputs": [],
   "source": [
    "# https://www.geeksforgeeks.org/how-to-create-a-candlestick-chart-in-matplotlib/\n",
    "\n",
    "import pandas as pd\n",
    "import matplotlib.pyplot as plt\n",
    "  \n",
    "# DataFrame to represent opening , closing, high \n",
    "# and low prices of a stock for a week\n",
    "stock_prices = pd.DataFrame({'open': [36, 56, 45, 29, 65, 66, 67],\n",
    "                             'close': [29, 72, 11, 4, 23, 68, 45],\n",
    "                             'high': [42, 73, 61, 62, 73, 56, 55],\n",
    "                             'low': [22, 11, 10, 2, 13, 24, 25]},\n",
    "                            index=pd.date_range(\n",
    "                              \"2021-11-10\", periods=7, freq=\"d\"))\n",
    "  \n",
    "  \n",
    "plt.figure()\n",
    "  \n",
    "# \"up\" dataframe will store the stock_prices \n",
    "# when the closing stock price is greater\n",
    "# than or equal to the opening stock prices\n",
    "up = stock_prices[stock_prices.close >= stock_prices.open]\n",
    "  \n",
    "# \"down\" dataframe will store the stock_prices\n",
    "# when the closing stock price is\n",
    "# lesser than the opening stock prices\n",
    "down = stock_prices[stock_prices.close < stock_prices.open]\n",
    "  \n",
    "# When the stock prices have decreased, then it\n",
    "# will be represented by blue color candlestick\n",
    "col1 = 'blue'\n",
    "  \n",
    "# When the stock prices have increased, then it \n",
    "# will be represented by cyan color candlestick\n",
    "col2 = 'cyan'\n",
    "  \n",
    "# Setting width of candlestick elements\n",
    "width = .3\n",
    "width2 = .03\n",
    "  \n",
    "# Plotting up prices of the stock\n",
    "plt.bar(up.index, up.close-up.open, width, bottom=up.open, color=col1)\n",
    "plt.bar(up.index, up.high-up.close, width2, bottom=up.close, color=col1)\n",
    "plt.bar(up.index, up.low-up.open, width2, bottom=up.open, color=col1)\n",
    "  \n",
    "# Plotting down prices of the stock\n",
    "plt.bar(down.index, down.close-down.open, width, bottom=down.open, color=col2)\n",
    "plt.bar(down.index, down.high-down.open, width2, bottom=down.open, color=col2)\n",
    "plt.bar(down.index, down.low-down.close, width2, bottom=down.close, color=col2)\n",
    "  \n",
    "# rotating the x-axis tick labels at 30degree \n",
    "# towards right\n",
    "plt.xticks(rotation=30, ha='right')\n",
    "  \n",
    "# displaying candlestick chart of stock data \n",
    "# of a week\n",
    "plt.show()"
   ]
  },
  {
   "cell_type": "markdown",
   "id": "9d313fb4-b0cc-4a9a-aae9-a49a771c95cb",
   "metadata": {},
   "source": [
    "---\n",
    "# Seismogram"
   ]
  },
  {
   "cell_type": "code",
   "execution_count": null,
   "id": "7bfb7fea-2e30-45e5-bbe9-f5d83452a80a",
   "metadata": {},
   "outputs": [],
   "source": [
    "import pandas as pd\n",
    "import numpy as np\n",
    "\n",
    "np.random.seed(seed=5)\n",
    "df = pd.DataFrame(data=np.random.random_sample((100, 1)),columns=['x']).reset_index()\n",
    "df['y'] = -df.x\n",
    "plt.figure(figsize=(14, 10))\n",
    "plt.hlines(y=range(100), xmin=-0, xmax=df.x[::-1],\n",
    "           color=\"cyan\", alpha=0.8, linewidth=2)\n",
    "plt.hlines(y=range(100), xmin=-0, xmax=df.y[::-1],\n",
    "           color=\"cyan\", alpha=0.8, linewidth=2)\n",
    "plt.show()"
   ]
  },
  {
   "cell_type": "markdown",
   "id": "ea5f4366-cae4-4423-b7b3-08f9f04d5298",
   "metadata": {},
   "source": [
    "---\n",
    "![Magnitude](img/ft_magnitude.png)"
   ]
  },
  {
   "cell_type": "markdown",
   "id": "bb02a200-f7d6-460a-b108-3636df782a4c",
   "metadata": {},
   "source": [
    "# Paired columns"
   ]
  },
  {
   "cell_type": "code",
   "execution_count": null,
   "id": "dc91fb5b-14d5-414b-a137-2cfd709af1a3",
   "metadata": {},
   "outputs": [],
   "source": [
    "import numpy as np\n",
    "import matplotlib.pyplot as plt\n",
    "\n",
    "data = [[30, 25, 50, 20],\n",
    "        [35, 22, 45, 19]]\n",
    "\n",
    "X = np.arange(4)\n",
    "fig = plt.figure();\n",
    "ax = fig.add_axes([0,0,2,1]);\n",
    "ax.bar(X + 0.00, data[0], color = 'b', width = 0.25);\n",
    "ax.bar(X + 0.25, data[1], color = 'c', width = 0.25);\n"
   ]
  },
  {
   "cell_type": "markdown",
   "id": "f760ce30-a16d-47a0-ab2c-9f0e5565b965",
   "metadata": {},
   "source": [
    "# Paired bars"
   ]
  },
  {
   "cell_type": "code",
   "execution_count": null,
   "id": "be8a39e6-7e87-4872-b8f2-fa7510de1ef1",
   "metadata": {},
   "outputs": [],
   "source": [
    "import numpy as np\n",
    "import matplotlib.pyplot as plt\n",
    "\n",
    "data = [[30, 25, 50, 20],\n",
    "        [35, 22, 45, 19]]\n",
    "\n",
    "X = np.arange(4)\n",
    "fig = plt.figure();\n",
    "ax = fig.add_axes([0,0,2,1]);\n",
    "plt.hlines(y=range(4), xmin=0, xmax=data[0], colors=None, linestyles='solid', linewidth=10, color='b')\n",
    "plt.hlines(y=[ x-0.2 for x in range(4)], xmin=0, xmax=data[1], colors=None, linestyles='solid', linewidth=10, color='c')\n",
    "plt.yticks(range(-1,5));"
   ]
  },
  {
   "cell_type": "markdown",
   "id": "043fb36a-521d-4c04-9830-a22f735389f5",
   "metadata": {},
   "source": [
    "---\n",
    "# Bullet"
   ]
  },
  {
   "cell_type": "code",
   "execution_count": null,
   "id": "89cb086b-c2f6-48a8-adf5-375e75830354",
   "metadata": {},
   "outputs": [],
   "source": [
    "import numpy as np\n",
    "import matplotlib.pyplot as plt\n",
    "\n",
    "data = [[30, 25, 50, 20],\n",
    "        [35, 29, 60, 30],\n",
    "        [35, 20, 30, 15]]\n",
    "\n",
    "X = np.arange(4)\n",
    "fig = plt.figure();\n",
    "ax = fig.add_axes([0,0,2,1]);\n",
    "ax.hlines(xmin=0, xmax=data[1], y=range(4), alpha=0.9, color=\"c\", linewidth=50);\n",
    "ax.hlines(xmin=0, xmax=data[0], y=range(4), alpha=0.9, color=\"b\", linewidth=50);\n",
    "ax.hlines(xmin=0, xmax=data[2], y=range(4), alpha=0.9, color=\"y\", linewidth=20);\n",
    "plt.yticks(range(-1,5));\n"
   ]
  },
  {
   "cell_type": "markdown",
   "id": "74da5fe9-fe1d-478b-ac6b-9d7bb56d3628",
   "metadata": {},
   "source": [
    "# Radar"
   ]
  },
  {
   "cell_type": "code",
   "execution_count": null,
   "id": "59fff9fc-9896-4ae8-84c8-09fe702631b3",
   "metadata": {},
   "outputs": [],
   "source": [
    "# https://matplotlib.org/stable/gallery/specialty_plots/radar_chart.html\n",
    "    \n",
    "    \n",
    "import numpy as np\n",
    "\n",
    "import matplotlib.pyplot as plt\n",
    "from matplotlib.patches import Circle, RegularPolygon\n",
    "from matplotlib.path import Path\n",
    "from matplotlib.projections.polar import PolarAxes\n",
    "from matplotlib.projections import register_projection\n",
    "from matplotlib.spines import Spine\n",
    "from matplotlib.transforms import Affine2D\n",
    "\n",
    "\n",
    "def radar_factory(num_vars, frame='circle'):\n",
    "    \"\"\"\n",
    "    Create a radar chart with `num_vars` axes.\n",
    "\n",
    "    This function creates a RadarAxes projection and registers it.\n",
    "\n",
    "    Parameters\n",
    "    ----------\n",
    "    num_vars : int\n",
    "        Number of variables for radar chart.\n",
    "    frame : {'circle', 'polygon'}\n",
    "        Shape of frame surrounding axes.\n",
    "\n",
    "    \"\"\"\n",
    "    # calculate evenly-spaced axis angles\n",
    "    theta = np.linspace(0, 2*np.pi, num_vars, endpoint=False)\n",
    "\n",
    "    class RadarTransform(PolarAxes.PolarTransform):\n",
    "\n",
    "        def transform_path_non_affine(self, path):\n",
    "            # Paths with non-unit interpolation steps correspond to gridlines,\n",
    "            # in which case we force interpolation (to defeat PolarTransform's\n",
    "            # autoconversion to circular arcs).\n",
    "            if path._interpolation_steps > 1:\n",
    "                path = path.interpolated(num_vars)\n",
    "            return Path(self.transform(path.vertices), path.codes)\n",
    "\n",
    "    class RadarAxes(PolarAxes):\n",
    "\n",
    "        name = 'radar'\n",
    "        PolarTransform = RadarTransform\n",
    "\n",
    "        def __init__(self, *args, **kwargs):\n",
    "            super().__init__(*args, **kwargs)\n",
    "            # rotate plot such that the first axis is at the top\n",
    "            self.set_theta_zero_location('N')\n",
    "\n",
    "        def fill(self, *args, closed=True, **kwargs):\n",
    "            \"\"\"Override fill so that line is closed by default\"\"\"\n",
    "            return super().fill(closed=closed, *args, **kwargs)\n",
    "\n",
    "        def plot(self, *args, **kwargs):\n",
    "            \"\"\"Override plot so that line is closed by default\"\"\"\n",
    "            lines = super().plot(*args, **kwargs)\n",
    "            for line in lines:\n",
    "                self._close_line(line)\n",
    "\n",
    "        def _close_line(self, line):\n",
    "            x, y = line.get_data()\n",
    "            # FIXME: markers at x[0], y[0] get doubled-up\n",
    "            if x[0] != x[-1]:\n",
    "                x = np.append(x, x[0])\n",
    "                y = np.append(y, y[0])\n",
    "                line.set_data(x, y)\n",
    "\n",
    "        def set_varlabels(self, labels):\n",
    "            self.set_thetagrids(np.degrees(theta), labels)\n",
    "\n",
    "        def _gen_axes_patch(self):\n",
    "            # The Axes patch must be centered at (0.5, 0.5) and of radius 0.5\n",
    "            # in axes coordinates.\n",
    "            if frame == 'circle':\n",
    "                return Circle((0.5, 0.5), 0.5)\n",
    "            elif frame == 'polygon':\n",
    "                return RegularPolygon((0.5, 0.5), num_vars,\n",
    "                                      radius=.5, edgecolor=\"k\")\n",
    "            else:\n",
    "                raise ValueError(\"Unknown value for 'frame': %s\" % frame)\n",
    "\n",
    "        def _gen_axes_spines(self):\n",
    "            if frame == 'circle':\n",
    "                return super()._gen_axes_spines()\n",
    "            elif frame == 'polygon':\n",
    "                # spine_type must be 'left'/'right'/'top'/'bottom'/'circle'.\n",
    "                spine = Spine(axes=self,\n",
    "                              spine_type='circle',\n",
    "                              path=Path.unit_regular_polygon(num_vars))\n",
    "                # unit_regular_polygon gives a polygon of radius 1 centered at\n",
    "                # (0, 0) but we want a polygon of radius 0.5 centered at (0.5,\n",
    "                # 0.5) in axes coordinates.\n",
    "                spine.set_transform(Affine2D().scale(.5).translate(.5, .5)\n",
    "                                    + self.transAxes)\n",
    "                return {'polar': spine}\n",
    "            else:\n",
    "                raise ValueError(\"Unknown value for 'frame': %s\" % frame)\n",
    "\n",
    "    register_projection(RadarAxes)\n",
    "    return theta\n",
    "\n",
    "\n",
    "def example_data():\n",
    "    # The following data is from the Denver Aerosol Sources and Health study.\n",
    "    # See doi:10.1016/j.atmosenv.2008.12.017\n",
    "    #\n",
    "    # The data are pollution source profile estimates for five modeled\n",
    "    # pollution sources (e.g., cars, wood-burning, etc) that emit 7-9 chemical\n",
    "    # species. The radar charts are experimented with here to see if we can\n",
    "    # nicely visualize how the modeled source profiles change across four\n",
    "    # scenarios:\n",
    "    #  1) No gas-phase species present, just seven particulate counts on\n",
    "    #     Sulfate\n",
    "    #     Nitrate\n",
    "    #     Elemental Carbon (EC)\n",
    "    #     Organic Carbon fraction 1 (OC)\n",
    "    #     Organic Carbon fraction 2 (OC2)\n",
    "    #     Organic Carbon fraction 3 (OC3)\n",
    "    #     Pyrolyzed Organic Carbon (OP)\n",
    "    #  2)Inclusion of gas-phase specie carbon monoxide (CO)\n",
    "    #  3)Inclusion of gas-phase specie ozone (O3).\n",
    "    #  4)Inclusion of both gas-phase species is present...\n",
    "    data = [\n",
    "        ['Sulfate', 'Nitrate', 'EC', 'OC1', 'OC2', 'OC3', 'OP', 'CO', 'O3'],\n",
    "        ('Basecase', [\n",
    "            [0.88, 0.01, 0.03, 0.03, 0.00, 0.06, 0.01, 0.00, 0.00],\n",
    "            [0.07, 0.95, 0.04, 0.05, 0.00, 0.02, 0.01, 0.00, 0.00],\n",
    "            [0.01, 0.02, 0.85, 0.19, 0.05, 0.10, 0.00, 0.00, 0.00],\n",
    "            [0.02, 0.01, 0.07, 0.01, 0.21, 0.12, 0.98, 0.00, 0.00],\n",
    "            [0.01, 0.01, 0.02, 0.71, 0.74, 0.70, 0.00, 0.00, 0.00]]),\n",
    "        ('With CO', [\n",
    "            [0.88, 0.02, 0.02, 0.02, 0.00, 0.05, 0.00, 0.05, 0.00],\n",
    "            [0.08, 0.94, 0.04, 0.02, 0.00, 0.01, 0.12, 0.04, 0.00],\n",
    "            [0.01, 0.01, 0.79, 0.10, 0.00, 0.05, 0.00, 0.31, 0.00],\n",
    "            [0.00, 0.02, 0.03, 0.38, 0.31, 0.31, 0.00, 0.59, 0.00],\n",
    "            [0.02, 0.02, 0.11, 0.47, 0.69, 0.58, 0.88, 0.00, 0.00]]),\n",
    "        ('With O3', [\n",
    "            [0.89, 0.01, 0.07, 0.00, 0.00, 0.05, 0.00, 0.00, 0.03],\n",
    "            [0.07, 0.95, 0.05, 0.04, 0.00, 0.02, 0.12, 0.00, 0.00],\n",
    "            [0.01, 0.02, 0.86, 0.27, 0.16, 0.19, 0.00, 0.00, 0.00],\n",
    "            [0.01, 0.03, 0.00, 0.32, 0.29, 0.27, 0.00, 0.00, 0.95],\n",
    "            [0.02, 0.00, 0.03, 0.37, 0.56, 0.47, 0.87, 0.00, 0.00]]),\n",
    "        ('CO & O3', [\n",
    "            [0.87, 0.01, 0.08, 0.00, 0.00, 0.04, 0.00, 0.00, 0.01],\n",
    "            [0.09, 0.95, 0.02, 0.03, 0.00, 0.01, 0.13, 0.06, 0.00],\n",
    "            [0.01, 0.02, 0.71, 0.24, 0.13, 0.16, 0.00, 0.50, 0.00],\n",
    "            [0.01, 0.03, 0.00, 0.28, 0.24, 0.23, 0.00, 0.44, 0.88],\n",
    "            [0.02, 0.00, 0.18, 0.45, 0.64, 0.55, 0.86, 0.00, 0.16]])\n",
    "    ]\n",
    "    return data\n",
    "\n",
    "\n",
    "if __name__ == '__main__':\n",
    "    N = 9\n",
    "    theta = radar_factory(N, frame='polygon')\n",
    "\n",
    "    data = example_data()\n",
    "    spoke_labels = data.pop(0)\n",
    "\n",
    "    fig, axs = plt.subplots(figsize=(9, 9), nrows=2, ncols=2,\n",
    "                            subplot_kw=dict(projection='radar'))\n",
    "    fig.subplots_adjust(wspace=0.25, hspace=0.20, top=0.85, bottom=0.05)\n",
    "\n",
    "    colors = ['b', 'r', 'g', 'm', 'y']\n",
    "    # Plot the four cases from the example data on separate axes\n",
    "    for ax, (title, case_data) in zip(axs.flat, data):\n",
    "        ax.set_rgrids([0.2, 0.4, 0.6, 0.8])\n",
    "        ax.set_title(title, weight='bold', size='medium', position=(0.5, 1.1),\n",
    "                     horizontalalignment='center', verticalalignment='center')\n",
    "        for d, color in zip(case_data, colors):\n",
    "            ax.plot(theta, d, color=color)\n",
    "            ax.fill(theta, d, facecolor=color, alpha=0.25, label='_nolegend_')\n",
    "        ax.set_varlabels(spoke_labels)\n",
    "\n",
    "    # add legend relative to top-left plot\n",
    "    labels = ('Factor 1', 'Factor 2', 'Factor 3', 'Factor 4', 'Factor 5')\n",
    "    legend = axs[0, 0].legend(labels, loc=(0.9, .95),\n",
    "                              labelspacing=0.1, fontsize='small')\n",
    "\n",
    "    fig.text(0.5, 0.965, '5-Factor Solution Profiles Across Four Scenarios',\n",
    "             horizontalalignment='center', color='black', weight='bold',\n",
    "             size='large')\n",
    "\n",
    "    plt.show()"
   ]
  },
  {
   "cell_type": "markdown",
   "id": "474023eb-1891-4da7-b545-57094e7f772d",
   "metadata": {},
   "source": [
    "# Parallel coordinates"
   ]
  },
  {
   "cell_type": "code",
   "execution_count": null,
   "id": "0bdf8336-1fd3-4ce2-ae8a-9b2b55ebebc5",
   "metadata": {},
   "outputs": [],
   "source": [
    "import matplotlib.pyplot as plt\n",
    "  \n",
    "# create data\n",
    "x=[1,2,3,4,5,6,7,8,9]\n",
    "y1=[2,4,1,5,3,4,2,5,2]\n",
    "y2=[3,4,3,5,2,6,4,2,3]\n",
    "  \n",
    "# make subplots\n",
    "fig, (ax1,ax2,ax3,ax4,ax5,ax6,ax7,ax8) = plt.subplots(1, 8, sharey=False)\n",
    "ax = (ax1,ax2,ax3,ax4,ax5,ax6,ax7,ax8)\n",
    "  \n",
    "# plot subplots and set xlimit\n",
    "for i in range(8):\n",
    "    ax[i].plot(x,y1,'b-',x,y2,'c--')\n",
    "    ax[i].set_xlim([ x[i],x[i+1]])\n",
    "plt.subplots_adjust(wspace=0)\n",
    "\n",
    "\n",
    "plt.show()"
   ]
  },
  {
   "cell_type": "markdown",
   "id": "0bff0688-a710-4ec8-9d60-36fc9efa172e",
   "metadata": {},
   "source": [
    "---\n",
    "# Isotype (pictogram)"
   ]
  },
  {
   "cell_type": "code",
   "execution_count": null,
   "id": "73c739b0-09ec-4665-9b40-d0f4f45b28a3",
   "metadata": {},
   "outputs": [],
   "source": [
    "import matplotlib.pyplot as plt\n",
    "from matplotlib.offsetbox import OffsetImage, AnnotationBbox\n",
    "\n",
    "plt.rcParams[\"figure.figsize\"] = [7.50, 3.50]\n",
    "plt.rcParams[\"figure.autolayout\"] = True\n",
    "\n",
    "def getImage(path):\n",
    "    return OffsetImage(plt.imread(path, format=\"png\"), zoom=.9)\n",
    "\n",
    "paths = ['img/ft_human.png'] * 5\n",
    "x = [1, 2, 3, 1, 2]\n",
    "y = [3, 3, 3, 7, 7]\n",
    "fig, ax = plt.subplots()\n",
    "for x0, y0, path in zip(x, y, paths):\n",
    "    ab = AnnotationBbox(getImage(path), (x0, y0), frameon=False)\n",
    "    ax.add_artist(ab)\n",
    "plt.xticks(range(10))\n",
    "plt.yticks(range(10))\n",
    "plt.show()"
   ]
  },
  {
   "cell_type": "markdown",
   "id": "42d1cbf0-c4ad-4906-8958-a3bcce931ddd",
   "metadata": {},
   "source": [
    "---\n",
    "# Grouped symbols"
   ]
  },
  {
   "cell_type": "code",
   "execution_count": null,
   "id": "e0b5e2cb-99cb-4d97-8f4b-a149c1418d49",
   "metadata": {},
   "outputs": [],
   "source": [
    "from matplotlib.markers import MarkerStyle\n",
    "import matplotlib.pyplot as plt\n",
    "from matplotlib.lines import Line2D\n",
    "from matplotlib.transforms import Affine2D\n",
    "\n",
    "text_style = dict(horizontalalignment='right', verticalalignment='center',\n",
    "                  fontsize=12, fontfamily='monospace')\n",
    "marker_style = dict(linestyle=':', color='0.8', markersize=10,\n",
    "                    markerfacecolor=\"tab:blue\", markeredgecolor=\"tab:blue\")\n",
    "\n",
    "def format_axes(ax):\n",
    "    ax.margins(0.2)\n",
    "    ax.set_axis_off()\n",
    "    ax.invert_yaxis()\n",
    "\n",
    "\n",
    "def split_list(a_list):\n",
    "    i_half = len(a_list) // 2\n",
    "    return a_list[:i_half], a_list[i_half:]\n",
    "\n",
    "\n",
    "\n",
    "fig, ax = plt.subplots()\n",
    "fig.suptitle('Marker fillstyle', fontsize=14)\n",
    "fig.subplots_adjust(left=0.4)\n",
    "\n",
    "filled_marker_style = dict(marker='o', linestyle=':', markersize=15,\n",
    "                           color='darkgrey',\n",
    "                           markerfacecolor='tab:blue',\n",
    "                           markerfacecoloralt='lightsteelblue',\n",
    "                           markeredgecolor='cyan')\n",
    "\n",
    "for y, fill_style in enumerate(Line2D.fillStyles):\n",
    "    ax.text(-0.5, y, repr(fill_style), **text_style)\n",
    "    ax.plot([y] * 3, fillstyle=fill_style, **filled_marker_style)\n",
    "format_axes(ax)"
   ]
  },
  {
   "cell_type": "markdown",
   "id": "9e890fa4-99d7-439e-a3d8-37288e52c2f6",
   "metadata": {},
   "source": [
    "---\n",
    "![PArtToWhole](img\\ft_partwhole.png)"
   ]
  },
  {
   "cell_type": "markdown",
   "id": "362b8dd9-0160-427d-9c0a-504455881247",
   "metadata": {},
   "source": [
    "---\n",
    "# Stacked column"
   ]
  },
  {
   "cell_type": "code",
   "execution_count": null,
   "id": "f1932cc7-8b99-4700-bf11-60ee1259d503",
   "metadata": {},
   "outputs": [],
   "source": [
    "import numpy as np\n",
    "import matplotlib.pyplot as plt\n",
    "\n",
    "N = 5\n",
    "menMeans = (20, 35, 30, 35, 27)\n",
    "womenMeans = (25, 32, 34, 20, 25)\n",
    "ind = np.arange(N) # index grupy\n",
    "width = 0.35\n",
    "fig = plt.figure();\n",
    "ax = fig.add_axes([0,0,2,1]);\n",
    "\n",
    "ax.bar(ind, menMeans, width, color='b')\n",
    "ax.bar(ind, womenMeans, width,bottom=menMeans, color='c')\n",
    "\n",
    "ax.set_ylabel('Wyniki')\n",
    "ax.set_title('Wyniki w rozbiciu na grupy i płeć')\n",
    "ax.set_xticklabels(['', 'G1', 'G2', 'G3', 'G4', 'G5']);\n",
    "ax.set_yticks(np.arange(0, 81, 10))\n",
    "ax.legend(labels=['Mężczyźni', 'Kobiety'])\n",
    "plt.show();"
   ]
  },
  {
   "cell_type": "markdown",
   "id": "e23d48d5-752d-4fa8-82fd-b707bf939c8c",
   "metadata": {},
   "source": [
    "---\n",
    "# Marimekko\n",
    "\n"
   ]
  },
  {
   "cell_type": "code",
   "execution_count": null,
   "id": "d6d17777-351f-453b-81a6-6d3a8928c74b",
   "metadata": {},
   "outputs": [],
   "source": [
    "df = pd.DataFrame(data =[menMeans, womenMeans])\n",
    "dfT = df.T\n",
    "dfT[\"suma\"]=dfT.sum(axis=1)\n",
    "dfT[0] = dfT[0]/dfT[\"suma\"]\n",
    "dfT[1] = dfT[1]/dfT[\"suma\"]\n",
    "dfT=dfT.drop('suma', axis=1)"
   ]
  },
  {
   "cell_type": "code",
   "execution_count": null,
   "id": "86a58303-8399-456e-8b51-8744b3a34e73",
   "metadata": {},
   "outputs": [],
   "source": [
    "ind = np.arange(N) # index grupy\n",
    "width = 0.35\n",
    "fig = plt.figure();\n",
    "ax = fig.add_axes([0,0,2,1]);\n",
    "\n",
    "ax.bar(ind, dfT[0], width, color='b')\n",
    "ax.bar(ind, dfT[1], width,bottom=dfT[0], color='c')\n",
    "\n",
    "ax.set_ylabel('Wyniki')\n",
    "ax.set_title('Wyniki w rozbiciu na grupy i płeć')\n",
    "ax.set_xticklabels(['', 'G1', 'G2', 'G3', 'G4', 'G5']);\n",
    "ax.legend(labels=['Mężczyźni', 'Kobiety'])\n",
    "plt.show();"
   ]
  },
  {
   "cell_type": "markdown",
   "id": "4a6193d7-f0eb-48a6-89d3-18285567c026",
   "metadata": {},
   "source": [
    "# Piechart"
   ]
  },
  {
   "cell_type": "code",
   "execution_count": null,
   "id": "d5e333a7-8d60-4754-9054-06a5bdabcd05",
   "metadata": {},
   "outputs": [],
   "source": [
    "\n",
    "\n",
    "fig, ax = plt.subplots()\n",
    "ax.pie(dfT[0], labels=[ 'G1', 'G2', 'G3', 'G4', 'G5'], colors=plt.get_cmap('GnBu')(\n",
    "        np.linspace(0.15, 0.85, 5)));"
   ]
  },
  {
   "cell_type": "code",
   "execution_count": null,
   "id": "5f8f184a-2487-4464-a2e4-4f25ac740248",
   "metadata": {},
   "outputs": [],
   "source": [
    "size=0.33\n",
    "fig, ax = plt.subplots()\n",
    "ax.pie(dfT[0], wedgeprops=dict(width=size, edgecolor='w'), radius=1, labels=[ 'G1', 'G2', 'G3', 'G4', 'G5'], colors=plt.get_cmap('Greens')(\n",
    "        np.linspace(0.15, 0.85, 5)));\n",
    "ax.pie(dfT[1],  wedgeprops=dict(width=size, edgecolor='w'), radius=1-size, labels=[ 'G1', 'G2', 'G3', 'G4', 'G5'], colors=plt.get_cmap('Blues')(\n",
    "        np.linspace(0.15, 0.85, 5)));"
   ]
  },
  {
   "cell_type": "markdown",
   "id": "e787f9d6-f87a-48b6-9f42-3ccaddd5cadb",
   "metadata": {},
   "source": [
    "---\n",
    "![Spatial](img\\ft_spacial.png)"
   ]
  }
 ],
 "metadata": {
  "kernelspec": {
   "display_name": "Python 3",
   "language": "python",
   "name": "python3"
  },
  "language_info": {
   "codemirror_mode": {
    "name": "ipython",
    "version": 3
   },
   "file_extension": ".py",
   "mimetype": "text/x-python",
   "name": "python",
   "nbconvert_exporter": "python",
   "pygments_lexer": "ipython3",
   "version": "3.9.1"
  }
 },
 "nbformat": 4,
 "nbformat_minor": 5
}
