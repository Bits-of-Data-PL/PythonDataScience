{
 "cells": [
  {
   "cell_type": "markdown",
   "id": "206185c2-ab97-40c6-a12a-8c1c7c6e51fc",
   "metadata": {},
   "source": [
    "# Warsztaty Python w Data Science"
   ]
  },
  {
   "cell_type": "markdown",
   "id": "777d2bc0-33f6-4312-8026-4ecf87a391f1",
   "metadata": {},
   "source": [
    "***"
   ]
  },
  {
   "cell_type": "markdown",
   "id": "805d3d90-c638-41ce-af27-72d4d57a597e",
   "metadata": {},
   "source": [
    "## Blok 1 - Python Wprowadzenie (2 z 2)"
   ]
  },
  {
   "cell_type": "markdown",
   "id": "ee16b996-9f64-48ca-8362-1a7dc6f9ebe0",
   "metadata": {},
   "source": [
    "***"
   ]
  },
  {
   "cell_type": "markdown",
   "id": "c4464bcc-57e0-47eb-b138-02f667fc2d26",
   "metadata": {},
   "source": [
    "## Generatory, List Comprehensions"
   ]
  },
  {
   "cell_type": "code",
   "execution_count": null,
   "id": "88e65ed3-2344-400c-9d2d-4e3a5de597fb",
   "metadata": {},
   "outputs": [],
   "source": [
    "l = list(range(5))\n",
    "l"
   ]
  },
  {
   "cell_type": "code",
   "execution_count": null,
   "id": "af4144a6-7681-423f-a0e1-ba3edd8b5ec3",
   "metadata": {},
   "outputs": [],
   "source": [
    "for i in l:\n",
    "    print(i)"
   ]
  },
  {
   "cell_type": "code",
   "execution_count": null,
   "id": "0dd83b39-475b-4233-adf2-08f3fd1d5831",
   "metadata": {},
   "outputs": [],
   "source": [
    "for i in range(5):\n",
    "    print(i)\n"
   ]
  },
  {
   "cell_type": "code",
   "execution_count": null,
   "id": "c41ad330-daea-4c76-a9a4-98e014e82f36",
   "metadata": {},
   "outputs": [],
   "source": [
    "range(10)"
   ]
  },
  {
   "cell_type": "code",
   "execution_count": null,
   "id": "e70e5509-af26-4027-9fbc-2703aba4986a",
   "metadata": {},
   "outputs": [],
   "source": [
    "list(range(10))"
   ]
  },
  {
   "cell_type": "code",
   "execution_count": null,
   "id": "267359d1-c4fa-41eb-9067-ed757da2c1c5",
   "metadata": {},
   "outputs": [],
   "source": [
    "(x * x for x in range(10))"
   ]
  },
  {
   "cell_type": "code",
   "execution_count": null,
   "id": "742d6139-ef4d-4422-80b5-51ef5dda936d",
   "metadata": {},
   "outputs": [],
   "source": [
    "[x for x in range(10)]"
   ]
  },
  {
   "cell_type": "code",
   "execution_count": null,
   "id": "19e75f2b-d8c0-4611-b04c-8725f60b071b",
   "metadata": {},
   "outputs": [],
   "source": [
    "[x * x for x in range(10)]"
   ]
  },
  {
   "cell_type": "code",
   "execution_count": null,
   "id": "def924f3-0348-40e1-9bd2-9237661a9254",
   "metadata": {},
   "outputs": [],
   "source": [
    "[x for x in range(10) if x % 2 == 0]"
   ]
  },
  {
   "cell_type": "code",
   "execution_count": null,
   "id": "722edb88-9087-4616-aee9-1f55ec223e5b",
   "metadata": {},
   "outputs": [],
   "source": [
    "[x * x for x in range(10) if x % 2 == 0]"
   ]
  },
  {
   "cell_type": "code",
   "execution_count": null,
   "id": "116ca7ca-0edb-4ebe-bd5e-a5145f13503f",
   "metadata": {},
   "outputs": [],
   "source": [
    "{x for x in range(10)}"
   ]
  },
  {
   "cell_type": "code",
   "execution_count": null,
   "id": "3482ed26-9740-4106-8dee-241f2950f52d",
   "metadata": {},
   "outputs": [],
   "source": [
    "{x // 2 for x in range(10)}"
   ]
  },
  {
   "cell_type": "code",
   "execution_count": null,
   "id": "f55c785f-50f9-428d-8559-cb3a28bfab07",
   "metadata": {},
   "outputs": [],
   "source": [
    "[x // 2 for x in range(10)]"
   ]
  },
  {
   "cell_type": "code",
   "execution_count": null,
   "id": "bf642387-6d2a-416c-8cfa-c033871f58d1",
   "metadata": {},
   "outputs": [],
   "source": [
    "{x: x * x for x in range(10) if x % 2 == 0}"
   ]
  },
  {
   "cell_type": "markdown",
   "id": "acffb3ab-4eb4-4a48-84d0-ed047ce0e106",
   "metadata": {},
   "source": [
    "## Funkcje"
   ]
  },
  {
   "cell_type": "code",
   "execution_count": null,
   "id": "81c37681-efc4-4d31-81df-09d8986efe92",
   "metadata": {},
   "outputs": [],
   "source": [
    "def dodaj_2(x):\n",
    "    wynik = x + 2\n",
    "    return wynik"
   ]
  },
  {
   "cell_type": "code",
   "execution_count": null,
   "id": "eec5d6c0-cfc0-4097-bb76-df645b133eff",
   "metadata": {},
   "outputs": [],
   "source": [
    "dodaj_2(5)"
   ]
  },
  {
   "cell_type": "code",
   "execution_count": null,
   "id": "f7590042-d457-4863-9bed-733272c8ca86",
   "metadata": {},
   "outputs": [],
   "source": [
    "def is_odd(x):\n",
    "    print (\"*\" * x)\n",
    "    return (x % 2) == 1"
   ]
  },
  {
   "cell_type": "code",
   "execution_count": null,
   "id": "42fd4931-0741-4ea9-ac8b-73c4782634ef",
   "metadata": {},
   "outputs": [],
   "source": [
    "is_odd(25)"
   ]
  },
  {
   "cell_type": "code",
   "execution_count": null,
   "id": "5be9bbb4-2998-449d-be83-877b6aace79e",
   "metadata": {},
   "outputs": [],
   "source": [
    "is_odd(8)"
   ]
  },
  {
   "cell_type": "code",
   "execution_count": null,
   "id": "b00f6e40-07bb-44d5-8be2-060dfb5668b9",
   "metadata": {},
   "outputs": [],
   "source": [
    "def slownie(n):\n",
    "    jednosci = { 0: \"zero\", 1: \"jeden\", 2: \"dwa\", 3: \"trzy\", 4: \"cztery\", 5: \"pięć\", 6: \"sześć\", 7: \"siedem\", 8: \"osiem\", 9: \"dziewięć\"}\n",
    "    return jednosci[n]"
   ]
  },
  {
   "cell_type": "code",
   "execution_count": null,
   "id": "7ba61133-cde1-4a1b-9ac2-3a4a319f5d9e",
   "metadata": {},
   "outputs": [],
   "source": [
    "slownie(6)"
   ]
  },
  {
   "cell_type": "code",
   "execution_count": null,
   "id": "61144bdb-067d-4d24-9ab5-da4ecbdca0d0",
   "metadata": {},
   "outputs": [],
   "source": [
    "def dodaj_2_slownie(n):\n",
    "    wynik = dodaj_2(n)\n",
    "    return slownie(wynik)"
   ]
  },
  {
   "cell_type": "code",
   "execution_count": null,
   "id": "b44c2eff-51b4-4ab6-81ff-baa4eab6af56",
   "metadata": {},
   "outputs": [],
   "source": [
    "dodaj_2_slownie(4)"
   ]
  },
  {
   "cell_type": "markdown",
   "id": "3aac3807-c619-4764-95b7-56df8c32bd96",
   "metadata": {},
   "source": [
    "## Funkcja jako klucz do sortowania"
   ]
  },
  {
   "cell_type": "code",
   "execution_count": null,
   "id": "60a3b764-9e5b-4ae4-9cb0-efb85006e90b",
   "metadata": {},
   "outputs": [],
   "source": [
    "my_list = list(zip(range(20), range(-10,10)))\n",
    "print(my_list)"
   ]
  },
  {
   "cell_type": "code",
   "execution_count": null,
   "id": "35170f45-ab3c-4f42-ab8e-5e11e7c1baf0",
   "metadata": {},
   "outputs": [],
   "source": [
    "def wartosc_bezwzgledna_drugiego_pola(t):\n",
    "    return abs(t[1])"
   ]
  },
  {
   "cell_type": "code",
   "execution_count": null,
   "id": "8dcc558d-57e8-42ec-9183-a4409f05b24e",
   "metadata": {},
   "outputs": [],
   "source": [
    "wartosc_bezwzgledna_drugiego_pola((-4, -7))"
   ]
  },
  {
   "cell_type": "code",
   "execution_count": null,
   "id": "6af88516-88f9-4f63-a338-d9d2d5040b4a",
   "metadata": {},
   "outputs": [],
   "source": [
    "my_list.sort(key=wartosc_bezwzgledna_drugiego_pola)\n",
    "my_list"
   ]
  },
  {
   "cell_type": "markdown",
   "id": "5a4372b0-fd8a-451f-a553-378d99ba7084",
   "metadata": {},
   "source": [
    "## \"Dziel i rządź\" - dzielimy problem na podproblemy\n",
    "### 1. Rozwiążemy problem w zakresie 0-999\n",
    "### 2. Rozwiążemy problem dodania jednostek\n",
    "### 2. Rozwiążemy problem dodania jednostek\n"
   ]
  },
  {
   "cell_type": "raw",
   "id": "52500030-086a-44d5-b20c-c7c1c92a3e48",
   "metadata": {},
   "source": [
    "Napisać funkcję co wypiszę liczbę naturalną słownie dla liczb od 0 do 999999.\n",
    "\n",
    "slownie(1984)\n",
    "'tysiąc dziewięćset osiemdziesiąt cztery'\n"
   ]
  },
  {
   "cell_type": "code",
   "execution_count": null,
   "id": "2a3d09fa-a7f1-4cb0-9d18-eb8ee063b0a9",
   "metadata": {},
   "outputs": [],
   "source": [
    "def do999(n):\n",
    "    nazwy_jednosci = { 0: \"\", 1: \"jeden\", 2: \"dwa\", 3: \"trzy\", 4: \"cztery\", 5: \"pięć\", 6: \"sześć\", 7: \"siedem\", 8: \"osiem\", 9: \"dziewięć\"}\n",
    "    nazwy_nastki = { 11: \"jedenaście\", 12: \"dwanaście\", 13: \"trzynaście\", 14: \"czternaście\", 15: \"piętnaście\", 16: \"szesnaście\", 17: \"siedemnaście\", 18: \"osiemnaście\", 19: \"dziewietnaście\"}\n",
    "    nazwy_dziesiatki = { 0: \"\", 10: \"dziesięć\", 20: \"dwadzieścia\", 30: \"trzydzieści\", 40: \"czterdzieści\", 50: \"pięćdziesiąt\", 60: \"sześćdziesiąt\", 70: \"siedemdziesiąt\", 80: \"osiemdziesiąt\", 90: \"dziewięćdziesiąt\"}\n",
    "    nazwy_setki = { 0: \"\", 100: \"sto\", 200: \"dwieście\", 300: \"trzysta\", 400: \"czterysta\", 500: \"pięćset\", 600: \"sześćset\", 700: \"siedemset\", 800: \"osiemset\", 900: \"dziewięćset\"}\n",
    "    \n",
    "    wynik = [n] \n",
    "    \n",
    "    jednosci = n % 10\n",
    "    wynik =  [ (jednosci,nazwy_jednosci[jednosci]) ]\n",
    "    \n",
    "    n = n - jednosci\n",
    "    dziesiatki = n % 100\n",
    "    \n",
    "    if dziesiatki == 10 and jednosci > 0:\n",
    "        suma = dziesiatki+jednosci\n",
    "        wynik = [ (suma, nazwy_nastki[suma]) ]\n",
    "    else:\n",
    "        wynik = [ (dziesiatki,nazwy_dziesiatki[dziesiatki]) ]  + wynik\n",
    "        \n",
    "    n = n - dziesiatki\n",
    "    setki = n % 1000\n",
    "    wynik= [ (setki,nazwy_setki[setki]) ] + wynik\n",
    "    \n",
    "    return wynik"
   ]
  },
  {
   "cell_type": "code",
   "execution_count": null,
   "id": "997de4cf-5094-4931-af96-782ce67f1799",
   "metadata": {},
   "outputs": [],
   "source": [
    "do999(0)"
   ]
  },
  {
   "cell_type": "code",
   "execution_count": null,
   "id": "5047df42-7bf3-48f5-80b9-ee9d141829ef",
   "metadata": {},
   "outputs": [],
   "source": [
    "do999(37)"
   ]
  },
  {
   "cell_type": "code",
   "execution_count": null,
   "id": "23add8a7-6795-4355-b4a5-bc10e1d3dd06",
   "metadata": {},
   "outputs": [],
   "source": [
    "do999(231)"
   ]
  },
  {
   "cell_type": "code",
   "execution_count": null,
   "id": "c56bff72-b2af-4d10-891f-ddb2a8ad6d64",
   "metadata": {},
   "outputs": [],
   "source": [
    "do999(211)"
   ]
  },
  {
   "cell_type": "code",
   "execution_count": null,
   "id": "b27eda60-757d-4189-8b28-6bcd595c2c57",
   "metadata": {},
   "outputs": [],
   "source": [
    "do999(112)"
   ]
  },
  {
   "cell_type": "code",
   "execution_count": null,
   "id": "dffb1954-c2b2-411c-be59-ee5427197f45",
   "metadata": {},
   "outputs": [],
   "source": [
    "do999(999)"
   ]
  },
  {
   "cell_type": "code",
   "execution_count": null,
   "id": "8c2f02da-f1f2-41e0-9060-b9eceb446ce2",
   "metadata": {},
   "outputs": [],
   "source": [
    "def dodaj_jednostke(lista, formy):\n",
    "    wartosc = 0\n",
    "    for i in lista:\n",
    "        wartosc += i[0] \n",
    "        \n",
    "    if wartosc==0:\n",
    "        return lista\n",
    "\n",
    "    if wartosc==1:\n",
    "        lista = [ (0, formy[0]) ]\n",
    "    elif lista[-1][0] in [2,3,4]:\n",
    "        lista.append( (lista[-1][0], formy[1]))\n",
    "    else:\n",
    "        lista.append( (lista[-1][0], formy[2]))\n",
    "    return lista"
   ]
  },
  {
   "cell_type": "code",
   "execution_count": null,
   "id": "7e887de0-ca63-4fc8-894b-927706a5df74",
   "metadata": {},
   "outputs": [],
   "source": [
    "dodaj_jednostke([(100, 'sto'), (12, 'dwanaście')], ['jabłko', 'jabłka', 'jabłek'])"
   ]
  },
  {
   "cell_type": "code",
   "execution_count": null,
   "id": "40d1fde6-097e-4b3c-b821-c59b4018ee44",
   "metadata": {},
   "outputs": [],
   "source": [
    "dodaj_jednostke(do999(112), ['jabłko', 'jabłka', 'jabłek'])"
   ]
  },
  {
   "cell_type": "code",
   "execution_count": null,
   "id": "04db1d3a-d532-4e8a-959e-0493a3c8fc89",
   "metadata": {},
   "outputs": [],
   "source": [
    "dodaj_jednostke(do999(2), ['jabłko', 'jabłka', 'jabłek'])"
   ]
  },
  {
   "cell_type": "code",
   "execution_count": null,
   "id": "fc40885d-52d6-4b47-bf25-bf429e51e2aa",
   "metadata": {},
   "outputs": [],
   "source": [
    "dodaj_jednostke(do999(5), ['jabłko', 'jabłka', 'jabłek'])"
   ]
  },
  {
   "cell_type": "code",
   "execution_count": null,
   "id": "a48beabf-3007-4e3a-8c64-424253f3f7cb",
   "metadata": {},
   "outputs": [],
   "source": [
    "def sklej(lista):\n",
    "    wynik = \"\"\n",
    "    S = \" \"\n",
    "    for i in lista:\n",
    "        if len(i[1])>0:\n",
    "            wynik += S + i[1]\n",
    "    return wynik.strip()"
   ]
  },
  {
   "cell_type": "code",
   "execution_count": null,
   "id": "a1c3b86f-b65f-41d0-8fbd-161eb53e86d2",
   "metadata": {},
   "outputs": [],
   "source": [
    "sklej(dodaj_jednostke(do999(5), ['jabłko', 'jabłka', 'jabłek']))"
   ]
  },
  {
   "cell_type": "code",
   "execution_count": null,
   "id": "c440f928-1957-4705-a30c-a4d460fd6b77",
   "metadata": {},
   "outputs": [],
   "source": [
    "sklej(dodaj_jednostke(do999(72), ['jabłko', 'jabłka', 'jabłek']))"
   ]
  },
  {
   "cell_type": "code",
   "execution_count": null,
   "id": "4e7f251d-407e-4da9-9042-9d8f3b845019",
   "metadata": {},
   "outputs": [],
   "source": [
    "sklej(dodaj_jednostke(do999(121), ['jabłko', 'jabłka', 'jabłek']))"
   ]
  },
  {
   "cell_type": "code",
   "execution_count": null,
   "id": "456fe932-6588-4912-b7c2-bdad1aa63aef",
   "metadata": {},
   "outputs": [],
   "source": [
    "sklej(dodaj_jednostke(do999(1), ['jabłko', 'jabłka', 'jabłek']))"
   ]
  },
  {
   "cell_type": "code",
   "execution_count": null,
   "id": "7951e5b5-012b-49fb-aa2f-201f073ab395",
   "metadata": {},
   "outputs": [],
   "source": [
    "def _slownie(n):\n",
    "    wynik = do999(n%1000)\n",
    "    if n>999:\n",
    "        n=n//1000\n",
    "        wynik = dodaj_jednostke(do999(n%1000), ['tysiąc', 'tysiące', 'tysięcy']) + wynik\n",
    "    if n>999:\n",
    "        n=n//1000\n",
    "        wynik = dodaj_jednostke(do999(n%1000), ['milion', 'miliony', 'milionów']) + wynik\n",
    "    if n>999:\n",
    "        n=n//1000\n",
    "        wynik = dodaj_jednostke(do999(n%1000), ['miliard', 'miliardy', 'miliardów']) + wynik\n",
    "        \n",
    "    return wynik"
   ]
  },
  {
   "cell_type": "code",
   "execution_count": null,
   "id": "96e5a708-eddb-4117-9d27-12489f857b1d",
   "metadata": {},
   "outputs": [],
   "source": [
    "_slownie(1984)"
   ]
  },
  {
   "cell_type": "code",
   "execution_count": null,
   "id": "4339937d-9968-4755-a0ab-3f77b92c657e",
   "metadata": {},
   "outputs": [],
   "source": [
    "_slownie(369017002011)"
   ]
  },
  {
   "cell_type": "raw",
   "id": "194407d6-64ad-4e50-843c-6d839156dec5",
   "metadata": {},
   "source": [
    "do999 -------------\\\n",
    "                    ------> _slownie -----> sklej -----> slownie \n",
    "dodaj_jednostke ---/"
   ]
  },
  {
   "cell_type": "code",
   "execution_count": null,
   "id": "4a22f486-8521-4016-9bd6-2707d459d3fa",
   "metadata": {},
   "outputs": [],
   "source": [
    "def slownie(n):\n",
    "    lista = _slownie(n)\n",
    "    wynik = sklej(lista)\n",
    "    return wynik.strip()"
   ]
  },
  {
   "cell_type": "code",
   "execution_count": null,
   "id": "7d5c89ba-05e5-449e-ac76-c364b4e4fb3a",
   "metadata": {},
   "outputs": [],
   "source": [
    "slownie(1984)"
   ]
  },
  {
   "cell_type": "code",
   "execution_count": null,
   "id": "e5cf807f-fb81-4dc3-8ce9-8de0067033a4",
   "metadata": {},
   "outputs": [],
   "source": [
    "slownie(1_000_000_000)"
   ]
  },
  {
   "cell_type": "code",
   "execution_count": null,
   "id": "b16493e6-5627-4ed0-8d84-9cb104e79b21",
   "metadata": {},
   "outputs": [],
   "source": [
    "slownie(369_017_002_011)"
   ]
  },
  {
   "cell_type": "markdown",
   "id": "308104a0-1d32-4614-859a-f41cdb66dc75",
   "metadata": {},
   "source": [
    "---"
   ]
  }
 ],
 "metadata": {
  "kernelspec": {
   "display_name": "Python 3 (ipykernel)",
   "language": "python",
   "name": "python3"
  },
  "language_info": {
   "codemirror_mode": {
    "name": "ipython",
    "version": 3
   },
   "file_extension": ".py",
   "mimetype": "text/x-python",
   "name": "python",
   "nbconvert_exporter": "python",
   "pygments_lexer": "ipython3",
   "version": "3.9.1"
  }
 },
 "nbformat": 4,
 "nbformat_minor": 5
}
