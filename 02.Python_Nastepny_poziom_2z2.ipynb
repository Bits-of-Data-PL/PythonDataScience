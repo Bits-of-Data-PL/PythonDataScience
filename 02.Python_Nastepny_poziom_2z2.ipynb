{
 "cells": [
  {
   "cell_type": "markdown",
   "metadata": {},
   "source": [
    "\n",
    "\n",
    "\n",
    "# <div style=\"font-size: xxx-large\">Python 2 - Następny poziom </div>\n",
    "### <div style=\"font-size: xx-large\">Wprowadzenie do <span style=\"color: cyan\">programowania funkcjonalnego</span></div>\n",
    "---\n",
    "## <div style=\"font-size: xx-large\">Paradygmaty programistycznie</div>\n",
    "- ## Programowanie imperatywne - `if`, `for`, `while`\n",
    "   - ### Programowanie proceduralne - tworzenie procedur, funkcji\n",
    "- ## Programowanie <span style=\"color: cyan\"><span style=\"color: cyan\">funkcjonalne</span>\n",
    "- ## Programowanie obiektowe\n",
    "- ## Metaprogramowanie\n",
    " \n",
    "---"
   ]
  },
  {
   "cell_type": "markdown",
   "metadata": {},
   "source": [
    "- Funkcje jako __*first-class citizens*__\n",
    "- Iteratory\n",
    "- Generatory\n",
    "- List comprehensions\n",
    "- Domknięcia/Closures\n",
    "- Wyrażenia Lambda \n",
    "- Funkcje wyższego rzędu\n",
    "  - Funkcje wyższego rzędu z biblioteki standardowej\n",
    "    - `map()`\n",
    "    - `filter()`\n",
    "    - `reduce()`\n",
    "  - Leniwa Ewaluacja\n",
    "  - `Functools`\n",
    "  - `Itertools`\n",
    "  - Currying (Schoenfinkelizacja)\n",
    "- Dekoratory funkcji"
   ]
  },
  {
   "cell_type": "markdown",
   "metadata": {},
   "source": [
    "----\n",
    "# Funkcje jako __*first-class citizens*__"
   ]
  },
  {
   "cell_type": "code",
   "execution_count": null,
   "metadata": {},
   "outputs": [],
   "source": [
    "def print_log(message):\n",
    "    print(message)\n",
    "    \n",
    "def noop_log(message):\n",
    "    pass\n",
    "\n",
    "def get_log(mode):\n",
    "    if env_mode==\"dev\":\n",
    "        return print_log\n",
    "    else: \n",
    "        return noop_log"
   ]
  },
  {
   "cell_type": "code",
   "execution_count": null,
   "metadata": {},
   "outputs": [],
   "source": [
    "env_mode=\"dev\"\n",
    "\n",
    "log=get_log(env_mode)"
   ]
  },
  {
   "cell_type": "code",
   "execution_count": null,
   "metadata": {},
   "outputs": [],
   "source": [
    "x=4\n",
    "log(f'x is {x}')\n",
    "x*=x\n",
    "log(f'x is now {x}')"
   ]
  },
  {
   "cell_type": "code",
   "execution_count": null,
   "metadata": {},
   "outputs": [],
   "source": [
    "env_mode=\"prod\"\n",
    "\n",
    "log=get_log(env_mode)"
   ]
  },
  {
   "cell_type": "code",
   "execution_count": null,
   "metadata": {},
   "outputs": [],
   "source": [
    "x=4\n",
    "log(f'x is {x}')\n",
    "x*=x\n",
    "log(f'x is now {x}')"
   ]
  },
  {
   "cell_type": "code",
   "execution_count": null,
   "metadata": {},
   "outputs": [],
   "source": [
    "import pandas as pd\n",
    "import numpy as np\n",
    "\n",
    "def between(x, low, high):\n",
    "    return x >= low and x <= high\n",
    "\n",
    "s = pd.Series(np.random.randint(0, 10, 10))\n",
    "s"
   ]
  },
  {
   "cell_type": "code",
   "execution_count": null,
   "metadata": {},
   "outputs": [],
   "source": [
    "s.apply(between, args=(3,6))"
   ]
  },
  {
   "cell_type": "code",
   "execution_count": null,
   "metadata": {},
   "outputs": [],
   "source": [
    "s.apply(between, low = 3, high = 6)"
   ]
  },
  {
   "cell_type": "markdown",
   "metadata": {},
   "source": [
    "----"
   ]
  },
  {
   "cell_type": "markdown",
   "metadata": {},
   "source": [
    "## Iterators"
   ]
  },
  {
   "cell_type": "markdown",
   "metadata": {},
   "source": [
    "- `__iter__()` jest funkcją zwracającą iterator\n",
    "- Iteratory mają metodę `next__()` \n",
    "- Kończymy iterację wyjątkiem `StopIteration` "
   ]
  },
  {
   "cell_type": "code",
   "execution_count": null,
   "metadata": {},
   "outputs": [],
   "source": [
    "l = list(range(5))\n",
    "\n",
    "for i in l:\n",
    "    print(i)"
   ]
  },
  {
   "cell_type": "code",
   "execution_count": null,
   "metadata": {},
   "outputs": [],
   "source": [
    "class Reverse():    \n",
    "    def __init__(self, data):\n",
    "        self.data = data\n",
    "        self.index = len(data)\n",
    "        \n",
    "    def __iter__(self):\n",
    "        return self\n",
    "    \n",
    "    def __next__(self):\n",
    "        if self.index == 0:\n",
    "            raise StopIteration\n",
    "        self.index = self.index-1\n",
    "        return self.data[self.index]\n",
    "    \n",
    "for char in Reverse('Python'):\n",
    "    print (char)"
   ]
  },
  {
   "cell_type": "markdown",
   "metadata": {},
   "source": [
    "## Generatory"
   ]
  },
  {
   "cell_type": "markdown",
   "metadata": {},
   "source": [
    "- tworzą iteratory\n",
    "- używają `yield`\n",
    "- Automatycznie stworzony `__next__` wraca do miejśca wyjścia"
   ]
  },
  {
   "cell_type": "code",
   "execution_count": null,
   "metadata": {},
   "outputs": [],
   "source": [
    "def reverse(data):\n",
    "    for index in range(len(data)-1, -1, -1):\n",
    "        yield data[index]\n",
    "        \n",
    "for char in reverse('Python'):\n",
    "    print (char)"
   ]
  },
  {
   "cell_type": "code",
   "execution_count": null,
   "metadata": {},
   "outputs": [],
   "source": [
    "def fib(n):\n",
    "    if n == 0 or n == 1:\n",
    "        return n\n",
    "    else:\n",
    "        return fib(n-1) + fib(n-2)\n",
    "        \n",
    "for i in range(35):\n",
    "    print (\"n=%d => %d\" % (i, fib(i)))"
   ]
  },
  {
   "cell_type": "code",
   "execution_count": null,
   "metadata": {},
   "outputs": [],
   "source": [
    "def fib(n):\n",
    "    a, b = 0, 1\n",
    "    i=0\n",
    "    while i < n:\n",
    "        yield (i, a)\n",
    "        a, b = b, a + b\n",
    "        i += 1\n",
    "\n",
    "for i, f in fib(35):\n",
    "    print (\"n=%d => %d\" % (i, f))"
   ]
  },
  {
   "cell_type": "markdown",
   "metadata": {},
   "source": [
    "### Generator expressions"
   ]
  },
  {
   "cell_type": "code",
   "execution_count": null,
   "metadata": {},
   "outputs": [],
   "source": [
    "(x*x for x in range(10))"
   ]
  },
  {
   "cell_type": "code",
   "execution_count": null,
   "metadata": {},
   "outputs": [],
   "source": [
    "(x*y for x in range(10) for y in range(5))"
   ]
  },
  {
   "cell_type": "code",
   "execution_count": null,
   "metadata": {},
   "outputs": [],
   "source": [
    "(x*x for x in range(10) if x % 2 == 0)"
   ]
  },
  {
   "cell_type": "markdown",
   "metadata": {},
   "source": [
    "##  <div style=\"text-align: center\">List + Generator Expression</div>\n",
    "\n",
    "## $$=$$\n",
    "\n",
    "##  <div style=\"text-align: center\">List comprehension</div>"
   ]
  },
  {
   "cell_type": "code",
   "execution_count": null,
   "metadata": {},
   "outputs": [],
   "source": [
    "[x*y for x in range(4) for y in range(5)]"
   ]
  },
  {
   "cell_type": "markdown",
   "metadata": {},
   "source": [
    "---"
   ]
  },
  {
   "cell_type": "markdown",
   "metadata": {},
   "source": [
    "# Domknięcia/Closures"
   ]
  },
  {
   "cell_type": "code",
   "execution_count": null,
   "metadata": {},
   "outputs": [],
   "source": [
    "def add():\n",
    "    c = 1 \n",
    "    c = c + 2\n",
    "    print(c)\n",
    "\n",
    "add()"
   ]
  },
  {
   "cell_type": "code",
   "execution_count": null,
   "metadata": {},
   "outputs": [],
   "source": [
    "c = 1 # global variable\n",
    "    \n",
    "def add():\n",
    "    c = c + 2 # ERROR!\n",
    "    print(c)\n",
    "\n",
    "add()"
   ]
  },
  {
   "cell_type": "code",
   "execution_count": null,
   "metadata": {},
   "outputs": [],
   "source": [
    "c = 1 # global variable\n",
    "    \n",
    "def add():\n",
    "    global c\n",
    "    c = c + 2 # NO ERROR!\n",
    "    print(c)\n",
    "\n",
    "add()"
   ]
  },
  {
   "cell_type": "code",
   "execution_count": null,
   "metadata": {},
   "outputs": [],
   "source": [
    "def makeinc(x):\n",
    "    def inc(y):\n",
    "        return y+x\n",
    "    return inc\n",
    "\n",
    "inc5 = makeinc(5)\n"
   ]
  },
  {
   "cell_type": "code",
   "execution_count": null,
   "metadata": {},
   "outputs": [],
   "source": [
    "inc10 = makeinc(10)"
   ]
  },
  {
   "cell_type": "code",
   "execution_count": null,
   "metadata": {},
   "outputs": [],
   "source": [
    "inc10(2)"
   ]
  },
  {
   "cell_type": "code",
   "execution_count": null,
   "metadata": {},
   "outputs": [],
   "source": [
    "inc5(2)"
   ]
  },
  {
   "cell_type": "code",
   "execution_count": null,
   "metadata": {},
   "outputs": [],
   "source": [
    "def outer():\n",
    "    y = 0\n",
    "    def inner():\n",
    "        nonlocal y\n",
    "        y=y+1\n",
    "        return y\n",
    "    return inner\n",
    "\n",
    "f = outer()\n",
    "print ( f(), f(), f() )"
   ]
  },
  {
   "cell_type": "markdown",
   "metadata": {},
   "source": [
    "---"
   ]
  },
  {
   "cell_type": "markdown",
   "metadata": {},
   "source": [
    "# Wyrażenia Lambda"
   ]
  },
  {
   "cell_type": "code",
   "execution_count": null,
   "metadata": {},
   "outputs": [],
   "source": [
    "def f():\n",
    "    print (\"!\")\n",
    "    \n",
    "g = f\n",
    "\n",
    "g()"
   ]
  },
  {
   "cell_type": "code",
   "execution_count": null,
   "metadata": {},
   "outputs": [],
   "source": [
    "g = lambda: print (\"!\")\n",
    "\n",
    "g()"
   ]
  },
  {
   "cell_type": "code",
   "execution_count": null,
   "metadata": {},
   "outputs": [],
   "source": [
    "a=list(range(-5,0,2))+list(range(0,6,2))\n",
    "print(a)"
   ]
  },
  {
   "cell_type": "code",
   "execution_count": null,
   "metadata": {},
   "outputs": [],
   "source": [
    "def square(x):\n",
    "    return x*x\n",
    "\n",
    "sorted(a,key = square)"
   ]
  },
  {
   "cell_type": "code",
   "execution_count": null,
   "metadata": {},
   "outputs": [],
   "source": [
    "sorted(a,key = lambda x: x*x)"
   ]
  },
  {
   "cell_type": "markdown",
   "metadata": {},
   "source": [
    "## Tylko jedno wyrażenie pythona w lambdzie\n",
    "---\n",
    "## ... a może więcej ?"
   ]
  },
  {
   "cell_type": "raw",
   "metadata": {},
   "source": [
    "if <cond1>: func1()\n",
    "elif <cond2>: func2()\n",
    "else: func3()\n",
    "        \n",
    "(<cond1> and func1()) or\n",
    "(<cond2> and func2()) or\n",
    "(func3())"
   ]
  },
  {
   "cell_type": "code",
   "execution_count": null,
   "metadata": {},
   "outputs": [],
   "source": [
    "pr = lambda s:s\n",
    "namenum = lambda x: (x==1 and pr(\"one\")) or (x==2 and pr(\"two\")) or (pr(\"other\"))\n",
    "\n",
    "namenum(1)"
   ]
  },
  {
   "cell_type": "code",
   "execution_count": null,
   "metadata": {},
   "outputs": [],
   "source": [
    "def echo_IMP():\n",
    "    while 1:\n",
    "        x = input(\"IMP \")\n",
    "        if x == 'quit':\n",
    "            break\n",
    "        else:\n",
    "            print (x)\n",
    "            \n",
    "echo_IMP()"
   ]
  },
  {
   "cell_type": "code",
   "execution_count": null,
   "metadata": {},
   "outputs": [],
   "source": [
    "def monadic_print(x):\n",
    "    print (x)\n",
    "    return x\n",
    "\n",
    "echo_FP = lambda: monadic_print(input(\"FP \"))=='quit' or echo_FP()\n",
    "\n",
    "echo_FP()"
   ]
  },
  {
   "cell_type": "code",
   "execution_count": null,
   "metadata": {},
   "outputs": [],
   "source": [
    "import pandas as pd\n",
    "import numpy as np\n",
    "\n",
    "N=5\n",
    "\n",
    "df = pd.DataFrame([ \n",
    "    [ row + col for col in range(1,N+1)]\n",
    "    for row in range(0,N+1)\n",
    "])\n",
    "\n",
    "df.columns = [ f'{i}' for i in range(1,N+1)]\n",
    "df = df.iloc[1:]\n",
    "df"
   ]
  },
  {
   "cell_type": "code",
   "execution_count": null,
   "metadata": {},
   "outputs": [],
   "source": [
    "df.applymap(lambda x: x*x)"
   ]
  },
  {
   "cell_type": "markdown",
   "metadata": {},
   "source": [
    "---"
   ]
  },
  {
   "cell_type": "markdown",
   "metadata": {},
   "source": [
    "# Funkcje wyższego rzędu\n",
    "\n"
   ]
  },
  {
   "cell_type": "markdown",
   "metadata": {},
   "source": [
    "## Map, filter, reduce\n",
    "\n",
    "![title](img/rossum.jpg)"
   ]
  },
  {
   "cell_type": "raw",
   "metadata": {},
   "source": [
    "Guido: “I value readability and usefulness for real code. There are some places where map() and filter() make sense, and for other places Python has list comprehensions. I ended up hating reduce() because it was almost exclusively used \n",
    "(a) to implement sum(), or \n",
    "(b) to write unreadable code. \n",
    "\n",
    "So we added built-in sum() at the same time we demoted reduce() from a built-in to something in functools (which is a dumping ground for stuff I don’t really care about :-).”"
   ]
  },
  {
   "cell_type": "code",
   "execution_count": null,
   "metadata": {},
   "outputs": [],
   "source": [
    "func = lambda x: x*x\n",
    "seq = range(15)\n",
    "\n",
    "print (list(\n",
    "    map( func, seq )\n",
    "))"
   ]
  },
  {
   "cell_type": "code",
   "execution_count": null,
   "metadata": {},
   "outputs": [],
   "source": [
    "func = lambda x: x%2 == 0\n",
    "seq = range(15)\n",
    "\n",
    "print (list(\n",
    "    filter( func, seq )\n",
    "))"
   ]
  },
  {
   "cell_type": "code",
   "execution_count": null,
   "metadata": {},
   "outputs": [],
   "source": [
    "print (list(\n",
    "    map(lambda x: x*x, filter( lambda x: x%2==0, range(15) ))\n",
    "))"
   ]
  },
  {
   "cell_type": "code",
   "execution_count": null,
   "metadata": {},
   "outputs": [],
   "source": [
    "[ x*x for x in range(15) if x%2==0]"
   ]
  },
  {
   "cell_type": "markdown",
   "metadata": {},
   "source": [
    "... ale funkcje wyższego rzędu są <span style=\"color: cyan\">LENIWE</span>"
   ]
  },
  {
   "cell_type": "markdown",
   "metadata": {},
   "source": [
    "### Leniwa Ewaluacja"
   ]
  },
  {
   "cell_type": "code",
   "execution_count": null,
   "metadata": {},
   "outputs": [],
   "source": [
    "range(15)"
   ]
  },
  {
   "cell_type": "code",
   "execution_count": null,
   "metadata": {},
   "outputs": [],
   "source": [
    "func = lambda x: x*x\n",
    "seq = range(15)\n",
    "\n",
    "print (\n",
    "    map( func, seq )\n",
    ")"
   ]
  },
  {
   "cell_type": "code",
   "execution_count": null,
   "metadata": {},
   "outputs": [],
   "source": [
    "list(map( func, seq ))"
   ]
  },
  {
   "cell_type": "code",
   "execution_count": null,
   "metadata": {},
   "outputs": [],
   "source": [
    "sum(range(15))"
   ]
  },
  {
   "cell_type": "code",
   "execution_count": null,
   "metadata": {},
   "outputs": [],
   "source": [
    "from functools import reduce\n",
    "\n",
    "func = lambda x,y: x+y\n",
    "seq = range(15)\n",
    "\n",
    "reduce( func, seq )"
   ]
  },
  {
   "cell_type": "code",
   "execution_count": null,
   "metadata": {},
   "outputs": [],
   "source": [
    "from functools import reduce\n",
    "\n",
    "def func(x, y):\n",
    "    print(f'x: {x}, y: {y}')\n",
    "    return x+y\n",
    "\n",
    "seq = range(15)\n",
    "\n",
    "reduce( func, seq )"
   ]
  },
  {
   "cell_type": "code",
   "execution_count": null,
   "metadata": {},
   "outputs": [],
   "source": [
    "f = lambda a,b: a if (a > b) else b\n",
    "reduce(f, [47,11,42,302,13])"
   ]
  },
  {
   "cell_type": "code",
   "execution_count": null,
   "metadata": {},
   "outputs": [],
   "source": [
    "reduce(lambda x,y: x+' '+y, ['a','bb','ccc','dddd'])"
   ]
  },
  {
   "cell_type": "code",
   "execution_count": null,
   "metadata": {},
   "outputs": [],
   "source": [
    "reduce(lambda x,y: x+' '+y, ['a','bb','ccc','dddd'], 'Result:')"
   ]
  },
  {
   "cell_type": "markdown",
   "metadata": {},
   "source": [
    "----\n",
    "### Operatory"
   ]
  },
  {
   "cell_type": "code",
   "execution_count": null,
   "metadata": {},
   "outputs": [],
   "source": [
    "from operator import add\n",
    "\n",
    "reduce(add, range(15))"
   ]
  },
  {
   "cell_type": "code",
   "execution_count": null,
   "metadata": {},
   "outputs": [],
   "source": [
    "from operator import itemgetter\n",
    "\n",
    "a = list(zip(range(15), range(15,0,-1)))\n",
    "print(a)"
   ]
  },
  {
   "cell_type": "code",
   "execution_count": null,
   "metadata": {},
   "outputs": [],
   "source": [
    "print(sorted(a, key = itemgetter(1)))"
   ]
  },
  {
   "cell_type": "markdown",
   "metadata": {},
   "source": [
    "---"
   ]
  },
  {
   "cell_type": "code",
   "execution_count": null,
   "metadata": {},
   "outputs": [],
   "source": [
    "from functools import partial\n",
    "\n",
    "basetwo = partial(int, base=2)\n",
    "basetwo.__doc__ = 'Convert base 2 string to an int.'\n",
    "basetwo('10010')"
   ]
  },
  {
   "cell_type": "code",
   "execution_count": null,
   "metadata": {},
   "outputs": [],
   "source": [
    "int(\"1000\", base=2)"
   ]
  },
  {
   "cell_type": "markdown",
   "metadata": {},
   "source": [
    "### Currying / Shönfinkelizacja\n",
    "\n",
    "Haskell Curry (1900-1982) → Currying\n",
    "\n",
    "Mojżesz Iljicz Schönfinkel (1889-1942)"
   ]
  },
  {
   "cell_type": "code",
   "execution_count": null,
   "metadata": {},
   "outputs": [],
   "source": [
    "import pandas as pd\n",
    "import numpy as np\n",
    "\n",
    "N=5\n",
    "\n",
    "df = pd.DataFrame([ \n",
    "    [ row * col for col in range(1,N+1)]\n",
    "    for row in range(0,N+1)\n",
    "])\n",
    "\n",
    "df.columns = [ f'{i}' for i in range(1,N+1)]\n",
    "df = df.iloc[1:]\n",
    "df"
   ]
  },
  {
   "cell_type": "code",
   "execution_count": null,
   "metadata": {},
   "outputs": [],
   "source": [
    "format(9,\"b\")"
   ]
  },
  {
   "cell_type": "code",
   "execution_count": null,
   "metadata": {},
   "outputs": [],
   "source": [
    "from operator import pow\n",
    "\n",
    "def my_format(value, sformat):\n",
    "    return format(value, sformat)\n",
    "\n",
    "def my_pow(base, exponant):\n",
    "    return pow(base, exponant)"
   ]
  },
  {
   "cell_type": "code",
   "execution_count": null,
   "metadata": {},
   "outputs": [],
   "source": [
    "import functools\n",
    "\n",
    "def compose(*functions):\n",
    "    return functools.reduce(lambda f, g: lambda x: f(g(x)), functions, lambda x: x)"
   ]
  },
  {
   "cell_type": "markdown",
   "metadata": {},
   "source": [
    "$$\n",
    "compose(f, g, h) = f \\circ g \\circ h\n",
    "$$\n",
    "\n",
    "$$\n",
    "(f \\circ g \\circ h)(x) = f(g(h(x)))\n",
    "$$"
   ]
  },
  {
   "cell_type": "code",
   "execution_count": null,
   "metadata": {},
   "outputs": [],
   "source": [
    "df.applymap(functools.partial(my_format, sformat=\"b\"))"
   ]
  },
  {
   "cell_type": "code",
   "execution_count": null,
   "metadata": {},
   "outputs": [],
   "source": [
    "df.applymap(\n",
    "    compose(\n",
    "        functools.partial(\n",
    "            my_format, sformat=\"b\"\n",
    "        ), \n",
    "        np.square\n",
    "    )\n",
    ")"
   ]
  },
  {
   "cell_type": "code",
   "execution_count": null,
   "metadata": {},
   "outputs": [],
   "source": [
    "df.applymap(\n",
    "    compose(\n",
    "        partial(\n",
    "            my_format, sformat=\"b\"\n",
    "        ), \n",
    "        np.square\n",
    "    )\n",
    ")"
   ]
  },
  {
   "cell_type": "code",
   "execution_count": null,
   "metadata": {},
   "outputs": [],
   "source": [
    "df.applymap(\n",
    "    compose(\n",
    "        partial(\n",
    "            my_format, sformat=\"b\"\n",
    "        ), \n",
    "        partial(\n",
    "            my_pow, exponant=2\n",
    "        )\n",
    "    )\n",
    ")"
   ]
  },
  {
   "cell_type": "markdown",
   "metadata": {},
   "source": [
    "---\n",
    "### Itertools package"
   ]
  },
  {
   "cell_type": "code",
   "execution_count": null,
   "metadata": {},
   "outputs": [],
   "source": [
    "from itertools import product\n",
    "\n",
    "print (list(product('ABCD', repeat=2)))"
   ]
  },
  {
   "cell_type": "code",
   "execution_count": null,
   "metadata": {},
   "outputs": [],
   "source": [
    "from itertools import permutations\n",
    "\n",
    "print (list(permutations('ABCD',  2)))"
   ]
  },
  {
   "cell_type": "code",
   "execution_count": null,
   "metadata": {},
   "outputs": [],
   "source": [
    "from itertools import combinations\n",
    "\n",
    "print (list(combinations('ABCD',  2)))"
   ]
  },
  {
   "cell_type": "code",
   "execution_count": null,
   "metadata": {},
   "outputs": [],
   "source": [
    "from itertools import dropwhile, chain, starmap, takewhile"
   ]
  },
  {
   "cell_type": "code",
   "execution_count": null,
   "metadata": {},
   "outputs": [],
   "source": [
    "list(dropwhile(lambda x: x<5, [1,4,6,4,1]))"
   ]
  },
  {
   "cell_type": "code",
   "execution_count": null,
   "metadata": {},
   "outputs": [],
   "source": [
    "list(chain('ABC', 'DEF'))"
   ]
  },
  {
   "cell_type": "code",
   "execution_count": null,
   "metadata": {},
   "outputs": [],
   "source": [
    "list(starmap(pow, [(2,5), (3,2), (10,3)]))"
   ]
  },
  {
   "cell_type": "code",
   "execution_count": null,
   "metadata": {},
   "outputs": [],
   "source": [
    "list(takewhile(lambda x: x<5, [1,4,6,4,1]))"
   ]
  },
  {
   "cell_type": "code",
   "execution_count": null,
   "metadata": {},
   "outputs": [],
   "source": [
    "list(zip(\"abcd\",range(4)))"
   ]
  },
  {
   "cell_type": "markdown",
   "metadata": {},
   "source": [
    "---"
   ]
  },
  {
   "cell_type": "markdown",
   "metadata": {},
   "source": [
    "# Dekoratory"
   ]
  },
  {
   "cell_type": "markdown",
   "metadata": {},
   "source": [
    "```python\n",
    "@dec2\n",
    "@dec1\n",
    "def func(arg1, arg2, ...):\n",
    "    pass\n",
    "\n",
    "# is the same as:\n",
    "\n",
    "def func(arg1, arg2, ...):\n",
    "    pass\n",
    "\n",
    "func = dec2(dec1(func))\n",
    "```"
   ]
  },
  {
   "cell_type": "code",
   "execution_count": null,
   "metadata": {},
   "outputs": [],
   "source": [
    "def entryExit(f):\n",
    "    def new_f():\n",
    "        print (\"Entering\", f.__name__)\n",
    "        f()\n",
    "        print (\"Exited\", f.__name__)\n",
    "    return new_f\n",
    "\n",
    "@entryExit\n",
    "def func1():\n",
    "    print (\"inside func1()\")\n",
    "    return \n",
    "    \n",
    "func1()"
   ]
  },
  {
   "cell_type": "code",
   "execution_count": null,
   "metadata": {},
   "outputs": [],
   "source": [
    "import time \n",
    "import math \n",
    "  \n",
    "def calculate_time(func): \n",
    "    def inner1(*args, **kwargs): \n",
    "        begin = time.time() \n",
    "        func(*args, **kwargs) \n",
    "        end = time.time() \n",
    "        print(\"Total time taken in : \", func.__name__, end - begin) \n",
    "    return inner1 \n",
    "  \n",
    "@calculate_time\n",
    "def factorial(num): \n",
    "    time.sleep(2) \n",
    "    print(math.factorial(num)) \n",
    "\n",
    "    \n",
    "factorial(10) "
   ]
  },
  {
   "cell_type": "code",
   "execution_count": null,
   "metadata": {},
   "outputs": [],
   "source": [
    "class C_entryExit():\n",
    "    def __init__(self, f):\n",
    "        self.f = f\n",
    "        self.n = 0\n",
    "    def __call__(self):\n",
    "        self.n+=1\n",
    "        print (\"Entering\", self.f.__name__)\n",
    "        self.f()\n",
    "        print (\"Exited\", self.f.__name__)\n",
    "        print (\"Run times:\", self.n)\n",
    "\n",
    "@C_entryExit\n",
    "def func1():\n",
    "    print (\"inside func1()\")\n",
    "    \n",
    "func1()\n",
    "func1()\n",
    "func1()"
   ]
  },
  {
   "cell_type": "markdown",
   "metadata": {},
   "source": [
    "```python\n",
    "@decorator(arg)\n",
    "f()\n",
    "\n",
    "# to samo co:\n",
    "\n",
    "\n",
    "f = (decorator(arg))(f)\n",
    "```"
   ]
  },
  {
   "cell_type": "code",
   "execution_count": null,
   "metadata": {},
   "outputs": [],
   "source": [
    "from functools import wraps\n",
    "def user_has_permission(permission):\n",
    "    return permission=='ADMIN'\n",
    "\n",
    "class PermissionException(Exception):\n",
    "    def __init__(self, message):\n",
    "        super().__init__(message)\n",
    "\n",
    "def authorize(permission=None):\n",
    "    def _authorize(_func):\n",
    "        @wraps(_func)\n",
    "        def wrapper(*args, **kwargs):\n",
    "            if permission:\n",
    "                if user_has_permission(permission):\n",
    "                    return _func(*args, **kwargs)\n",
    "                else:\n",
    "                    raise PermissionException(f\"No {permission} rights\")\n",
    "        return wrapper\n",
    "    return _authorize\n",
    "                "
   ]
  },
  {
   "cell_type": "code",
   "execution_count": null,
   "metadata": {},
   "outputs": [],
   "source": [
    "@authorize(\"ADMIN\")\n",
    "def f():\n",
    "    print(\"I am ROOT\")\n",
    "    \n",
    "@authorize(\"SUPERADMIN\")\n",
    "def g():\n",
    "    print(\"I am GROOT\")"
   ]
  },
  {
   "cell_type": "code",
   "execution_count": null,
   "metadata": {},
   "outputs": [],
   "source": [
    "f()"
   ]
  },
  {
   "cell_type": "code",
   "execution_count": null,
   "metadata": {},
   "outputs": [],
   "source": [
    "g() # Błąd!!"
   ]
  },
  {
   "cell_type": "code",
   "execution_count": null,
   "metadata": {},
   "outputs": [],
   "source": [
    "print(f.__name__)"
   ]
  },
  {
   "cell_type": "markdown",
   "metadata": {},
   "source": [
    "---\n",
    "\n",
    "# Różniczkowanie numeryczne korzystając z dekoratorów\n",
    "\n",
    "### <span style=\"color: cyan\">Epsilon maszynowy</span> to różnica między `1` a następną liczbą zmiennoprzecinkową\n",
    "\n"
   ]
  },
  {
   "cell_type": "code",
   "execution_count": null,
   "metadata": {},
   "outputs": [],
   "source": [
    "epsilon = 1.0 \n",
    "while (1.0 + 0.5 * epsilon) != 1.0:\n",
    "    epsilon = 0.5 * epsilon\n",
    "\n",
    "epsilon"
   ]
  },
  {
   "cell_type": "code",
   "execution_count": null,
   "metadata": {},
   "outputs": [],
   "source": [
    "import numpy as np\n",
    "\n",
    "print(np.finfo(float).eps)"
   ]
  },
  {
   "cell_type": "code",
   "execution_count": null,
   "metadata": {},
   "outputs": [],
   "source": [
    "np.power(2.0,-52)"
   ]
  },
  {
   "cell_type": "markdown",
   "metadata": {},
   "source": [
    "## Pochodne funkcji\n",
    "\n",
    "$$\n",
    " f'(x) = \\lim_{ \\epsilon \\to 0} \\frac{f(x+\\epsilon) -f(x)}{\\epsilon}\n",
    "$$\n",
    "\n",
    "\n",
    "![Differential](img/Derivative.svg.png)\n",
    "\n",
    "https://en.wikipedia.org/wiki/Numerical_differentiation\n",
    "\n",
    "$$\n",
    "f'(x) \\approx \\frac{f(x+h) -f(x)}{h}\n",
    "$$\n",
    "\n",
    "## Lepiej:\n",
    "\n",
    "$$\n",
    "f'(x) \\approx \\frac{f(x+h) - f(x-h)}{2h}\n",
    "$$\n",
    "\n",
    "## Definicja `h`\n",
    "$$\n",
    "h = \\sqrt\\epsilon \\, |x|\n",
    "$$\n",
    "\n",
    "## Albo (dla uniknięcia dzielenia przez `0`)\n",
    "\n",
    "$$\n",
    "h = \\sqrt\\epsilon \\; max(\\,|x|\\,+\\sqrt\\epsilon\\,)\n",
    "$$\n",
    "\n"
   ]
  },
  {
   "cell_type": "code",
   "execution_count": null,
   "metadata": {},
   "outputs": [],
   "source": [
    "import numpy as np\n",
    "\n",
    "eps = np.finfo(float).eps\n",
    "sqrteps = np.sqrt(eps)\n",
    "\n",
    "def derivative(f):\n",
    "    def inner(x):        \n",
    "        h = sqrteps * max( abs(x), sqrteps )\n",
    "        return ( f(x+h) - f(x-h) ) / (2*h)\n",
    "    return inner\n",
    "\n",
    "@derivative    \n",
    "def square(x):\n",
    "    return x*x"
   ]
  },
  {
   "cell_type": "code",
   "execution_count": null,
   "metadata": {},
   "outputs": [],
   "source": [
    "square(1)"
   ]
  },
  {
   "cell_type": "code",
   "execution_count": null,
   "metadata": {
    "tags": []
   },
   "outputs": [],
   "source": [
    "%matplotlib inline\n",
    "import matplotlib.pyplot as plt\n",
    "import numpy as np\n",
    "import matplotlib.ticker as tck\n",
    "\n",
    "fig = plt.figure(figsize=(16,6))\n",
    "plt.style.use(\"dark_background\")\n",
    "ax = fig.gca()\n",
    "plt.rc('grid', linestyle=\"-\", color='white')\n",
    "x = np.linspace(-0.5, 2, 100)\n",
    "plt.grid(True)\n",
    "ax.set_yticks(np.arange(0, 1., 2))\n",
    "\n",
    "ax.xaxis.grid(True,'major',linewidth=1)\n",
    "ax.yaxis.grid(True,'minor',linewidth=1)\n",
    "ax.xaxis.grid(True,'major',linestyle=\"--\")\n",
    "\n",
    "ax.xaxis.set_major_formatter(tck.FormatStrFormatter('%g $\\pi$'))\n",
    "ax.xaxis.set_major_locator(tck.MultipleLocator(base=0.5))\n",
    "\n",
    "line, = plt.plot(x, np.sin(x*np.pi))\n",
    "line.set_label('sin(x)')\n",
    "line, = plt.plot(x, np.cos(x*np.pi))\n",
    "line.set_label('cos(x)')\n",
    "ax.legend();\n"
   ]
  },
  {
   "cell_type": "code",
   "execution_count": null,
   "metadata": {},
   "outputs": [],
   "source": [
    "@derivative    \n",
    "def sine_derivative(x):\n",
    "    return np.sin(x)"
   ]
  },
  {
   "cell_type": "code",
   "execution_count": null,
   "metadata": {},
   "outputs": [],
   "source": [
    "sine_derivative(np.pi/2)"
   ]
  },
  {
   "cell_type": "code",
   "execution_count": null,
   "metadata": {},
   "outputs": [],
   "source": [
    "sine_derivative(0)"
   ]
  },
  {
   "cell_type": "markdown",
   "metadata": {},
   "source": [
    "https://realpython.com/primer-on-python-decorators/#more-real-world-examples"
   ]
  }
 ],
 "metadata": {
  "kernelspec": {
   "display_name": "Python 3",
   "language": "python",
   "name": "python3"
  },
  "language_info": {
   "codemirror_mode": {
    "name": "ipython",
    "version": 3
   },
   "file_extension": ".py",
   "mimetype": "text/x-python",
   "name": "python",
   "nbconvert_exporter": "python",
   "pygments_lexer": "ipython3",
   "version": "3.9.1"
  }
 },
 "nbformat": 4,
 "nbformat_minor": 4
}
