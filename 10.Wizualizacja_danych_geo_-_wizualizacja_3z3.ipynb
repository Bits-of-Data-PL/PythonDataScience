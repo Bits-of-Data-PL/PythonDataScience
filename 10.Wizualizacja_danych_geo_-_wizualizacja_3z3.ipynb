{
 "cells": [
  {
   "cell_type": "markdown",
   "id": "f0d37ad4-c3d7-4dee-91ef-8873055eeefa",
   "metadata": {},
   "source": [
    "# Wizualizacja (3 z 3)\n",
    "\n",
    "## Wizualizacja danych geoprzestrzenych \n",
    "## Korzystając z  [Cartopy](https://scitools.org.uk/cartopy/docs/latest/)\n",
    "\n",
    "\n",
    "- ### Odwzorowania (*projections*) i transformacje\n",
    "- ### Mapy w Cartopy\n",
    "- ### Kreślenie danych na mapie\n",
    "- ### `Tiles` - kładzenie płytek\n",
    "- ### Pobieranie danych zewnętrznych -  `Shape Readers`\n",
    "\n",
    "---"
   ]
  },
  {
   "cell_type": "markdown",
   "id": "5e444e3e-adca-4d1a-97ec-5398311de5a4",
   "metadata": {},
   "source": [
    "Instalation: `conda install -c conda-forge cartopy`"
   ]
  },
  {
   "cell_type": "code",
   "execution_count": null,
   "id": "33346ba5-84f0-459e-8780-631b0bcd39ee",
   "metadata": {},
   "outputs": [],
   "source": [
    "import matplotlib.pyplot as plt\n",
    "import cartopy.crs as ccrs\n",
    "import warnings\n",
    "warnings.simplefilter(\"ignore\")\n",
    "plt.style.use(\"dark_background\")\n",
    "\n",
    "fig = plt.figure(figsize=(20, 10))\n",
    "ax = fig.add_subplot(1, 1, 1, projection=ccrs.Orthographic())\n",
    "ax.set_global()\n",
    "ax.stock_img()\n",
    "\n",
    "plt.show()"
   ]
  },
  {
   "cell_type": "markdown",
   "id": "bae867e0-cf30-4078-8e93-db26a0e156e5",
   "metadata": {},
   "source": [
    "## Blue Marble\n",
    "\n",
    "https://neo.gsfc.nasa.gov/view.php?datasetId=BlueMarbleNG-TB\n",
    "\n",
    "![](img/blue_marble.png)"
   ]
  },
  {
   "cell_type": "code",
   "execution_count": null,
   "id": "3652a23d-e11f-4e1a-aa43-cc06d4cf5467",
   "metadata": {},
   "outputs": [],
   "source": [
    "import matplotlib.pyplot as plt\n",
    "import cartopy.crs as ccrs\n",
    "\n",
    "fig = plt.figure(figsize=(20, 10))\n",
    "ax = fig.add_subplot(1, 1, 1, projection=ccrs.Orthographic())\n",
    "ax.set_global()\n",
    "img = plt.imread('img/blue_marble.png') # August 2004\n",
    "img_extent = (-180, 180, -90, 90)\n",
    "ax.imshow(img, origin='upper', extent=img_extent, transform=ccrs.PlateCarree())\n",
    "plt.show()"
   ]
  },
  {
   "cell_type": "markdown",
   "id": "b2beb58b-a058-40db-bfce-1312ce5394e6",
   "metadata": {},
   "source": [
    "## ETOPO1\n",
    "\n",
    "ETOPO1 is a 1 arc-minute global relief model of Earth's surface that integrates land topography and ocean bathymetry.\n",
    "\n",
    "https://www.ngdc.noaa.gov/mgg/global/global.html\n",
    "\n",
    "![](img/etopo.png)"
   ]
  },
  {
   "cell_type": "code",
   "execution_count": null,
   "id": "e4d5a4fc-c0ee-4c81-8366-bca36afc845a",
   "metadata": {},
   "outputs": [],
   "source": [
    "import matplotlib.pyplot as plt\n",
    "import cartopy.crs as ccrs\n",
    "\n",
    "fig = plt.figure(figsize=(20, 10))\n",
    "ax = fig.add_subplot(1, 1, 1, projection=ccrs.Orthographic())\n",
    "ax.set_global()\n",
    "img = plt.imread('img/etopo.png')\n",
    "img_extent = (-180, 180, -90, 90)\n",
    "ax.imshow(img, origin='upper', extent=img_extent, transform=ccrs.PlateCarree())\n",
    "plt.show()"
   ]
  },
  {
   "cell_type": "markdown",
   "id": "d1ff35a9-2bbd-4631-952f-2f1a86631bf2",
   "metadata": {},
   "source": [
    "---\n",
    "# Odwzorowania (*projections*) i transformacje\n"
   ]
  },
  {
   "cell_type": "code",
   "execution_count": null,
   "id": "663492d4-e00b-4351-961f-c63156038be8",
   "metadata": {},
   "outputs": [],
   "source": [
    "import matplotlib.pyplot as plt\n",
    "import matplotlib.ticker as mticker\n",
    "import cartopy.crs as ccrs\n",
    "from cartopy.mpl.gridliner import LONGITUDE_FORMATTER, LATITUDE_FORMATTER\n",
    "\n",
    "fig = plt.figure(figsize=(20, 10))\n",
    "ax = fig.add_subplot(1, 1, 1, projection=ccrs.InterruptedGoodeHomolosine()) \n",
    "ax.set_global()\n",
    "ax.stock_img()\n",
    "ax.coastlines()\n",
    "\n",
    "gl = ax.gridlines(crs=ccrs.PlateCarree(), draw_labels=True,\n",
    "                  linewidth=2, color='gray', alpha=0.5, linestyle='--')\n",
    "gl.xlabels_top = False\n",
    "gl.ylabels_left = False\n",
    "gl.xlines = True\n",
    "gl.xlocator = mticker.FixedLocator(range(-180,200,15))\n",
    "gl.xformatter = LONGITUDE_FORMATTER\n",
    "gl.ylocator = mticker.FixedLocator(range(-90,100,15))\n",
    "gl.yformatter = LATITUDE_FORMATTER\n",
    "gl.xlabel_style = {'size': 15, 'color': 'gray'}\n",
    "gl.xlabel_style = {'color': 'gray', 'weight': 'bold'}\n",
    "gl.ylabel_style = {'size': 15, 'color': 'gray'}\n",
    "gl.ylabel_style = {'color': 'gray', 'weight': 'bold'}\n",
    "\n",
    "plt.show()"
   ]
  },
  {
   "cell_type": "code",
   "execution_count": null,
   "id": "1618c1b3-5211-432c-b725-faac30e0252b",
   "metadata": {},
   "outputs": [],
   "source": [
    "import matplotlib.pyplot as plt\n",
    "import matplotlib.ticker as mticker\n",
    "import cartopy.crs as ccrs\n",
    "from cartopy.mpl.gridliner import LONGITUDE_FORMATTER, LATITUDE_FORMATTER\n",
    "\n",
    "fig = plt.figure(figsize=(20, 10))\n",
    "ax = fig.add_subplot(1, 1, 1, projection=ccrs.Mercator()) # Odwzorowanie równokątne (Conformal) - zachowuje kąty\n",
    "ax.set_global()\n",
    "ax.stock_img()\n",
    "ax.coastlines()\n",
    "\n",
    "gl = ax.gridlines(crs=ccrs.PlateCarree(), draw_labels=True,\n",
    "                  linewidth=2, color='gray', alpha=0.5, linestyle='--')\n",
    "gl.xlabels_top = False\n",
    "gl.ylabels_left = False\n",
    "gl.xlines = True\n",
    "gl.xlocator = mticker.FixedLocator(range(-180,200,15))\n",
    "gl.xformatter = LONGITUDE_FORMATTER\n",
    "gl.ylocator = mticker.FixedLocator(range(-90,100,15))\n",
    "gl.yformatter = LATITUDE_FORMATTER\n",
    "gl.xlabel_style = {'size': 15, 'color': 'gray'}\n",
    "gl.xlabel_style = {'color': 'gray', 'weight': 'bold'}\n",
    "gl.ylabel_style = {'size': 15, 'color': 'gray'}\n",
    "gl.ylabel_style = {'color': 'gray', 'weight': 'bold'}\n",
    "\n",
    "plt.show()"
   ]
  },
  {
   "cell_type": "code",
   "execution_count": null,
   "id": "0c6a00dc-8b9c-4bf7-928e-c5fc83436ebf",
   "metadata": {},
   "outputs": [],
   "source": [
    "import matplotlib.pyplot as plt\n",
    "import matplotlib.ticker as mticker\n",
    "import cartopy.crs as ccrs\n",
    "from cartopy.mpl.gridliner import LONGITUDE_FORMATTER, LATITUDE_FORMATTER\n",
    "\n",
    "fig = plt.figure(figsize=(20, 10))\n",
    "ax = fig.add_subplot(1, 1, 1, projection=ccrs.PlateCarree()) # Odwzorowanie walcowe równoodległościowe (Equirectangular)\n",
    "ax.set_global()\n",
    "ax.stock_img()\n",
    "ax.coastlines()\n",
    "\n",
    "gl = ax.gridlines(crs=ccrs.PlateCarree(), draw_labels=True,\n",
    "                  linewidth=2, color='gray', alpha=0.5, linestyle='--')\n",
    "gl.xlabels_top = False\n",
    "gl.ylabels_left = False\n",
    "gl.xlines = True\n",
    "gl.xlocator = mticker.FixedLocator(range(-180,200,15))\n",
    "gl.xformatter = LONGITUDE_FORMATTER\n",
    "gl.ylocator = mticker.FixedLocator(range(-90,100,15))\n",
    "gl.yformatter = LATITUDE_FORMATTER\n",
    "gl.xlabel_style = {'size': 15, 'color': 'gray'}\n",
    "gl.xlabel_style = {'color': 'gray', 'weight': 'bold'}\n",
    "gl.ylabel_style = {'size': 15, 'color': 'gray'}\n",
    "gl.ylabel_style = {'color': 'gray', 'weight': 'bold'}\n",
    "\n",
    "plt.show()"
   ]
  },
  {
   "cell_type": "code",
   "execution_count": null,
   "id": "c40467d5-3be5-4c12-836f-5ced41be15ae",
   "metadata": {},
   "outputs": [],
   "source": [
    "import matplotlib.pyplot as plt\n",
    "import matplotlib.ticker as mticker\n",
    "import cartopy.crs as ccrs\n",
    "from cartopy.mpl.gridliner import LONGITUDE_FORMATTER, LATITUDE_FORMATTER\n",
    "\n",
    "fig = plt.figure(figsize=(20, 10))\n",
    "ax = fig.add_subplot(1, 1, 1, projection=ccrs.LambertCylindrical())  # Odwzorowanie równopowierzchniowe (equal-area)\n",
    "ax.set_global()\n",
    "ax.stock_img()\n",
    "ax.coastlines()\n",
    "\n",
    "gl = ax.gridlines(crs=ccrs.PlateCarree(), draw_labels=True,\n",
    "                  linewidth=2, color='gray', alpha=0.5, linestyle='--')\n",
    "gl.xlabels_top = False\n",
    "gl.ylabels_left = False\n",
    "gl.xlines = True\n",
    "gl.xlocator = mticker.FixedLocator(range(-180,200,15))\n",
    "gl.xformatter = LONGITUDE_FORMATTER\n",
    "gl.ylocator = mticker.FixedLocator(range(-90,100,15))\n",
    "gl.yformatter = LATITUDE_FORMATTER\n",
    "gl.xlabel_style = {'size': 15, 'color': 'gray'}\n",
    "gl.xlabel_style = {'color': 'gray', 'weight': 'bold'}\n",
    "gl.ylabel_style = {'size': 15, 'color': 'gray'}\n",
    "gl.ylabel_style = {'color': 'gray', 'weight': 'bold'}\n",
    "\n",
    "plt.show()"
   ]
  },
  {
   "cell_type": "code",
   "execution_count": null,
   "id": "0455253c-1cd8-4370-a5c1-0d40c1fd8152",
   "metadata": {},
   "outputs": [],
   "source": [
    "import matplotlib.pyplot as plt\n",
    "import matplotlib.ticker as mticker\n",
    "import cartopy.crs as ccrs\n",
    "from cartopy.mpl.gridliner import LONGITUDE_FORMATTER, LATITUDE_FORMATTER\n",
    "\n",
    "fig = plt.figure(figsize=(20, 10))\n",
    "ax = fig.add_subplot(1, 1, 1, projection=ccrs.LambertConformal()) #  równoodległościowe ORAZ równokątne \n",
    "ax.set_global()\n",
    "ax.stock_img()\n",
    "ax.coastlines()\n",
    "\n",
    "gl = ax.gridlines(crs=ccrs.PlateCarree(), draw_labels=True,\n",
    "                  linewidth=2, color='gray', alpha=0.5, linestyle='--')\n",
    "gl.xlabels_top = False\n",
    "gl.ylabels_left = False\n",
    "gl.xlines = True\n",
    "gl.xlocator = mticker.FixedLocator(range(-180,200,15))\n",
    "gl.xformatter = LONGITUDE_FORMATTER\n",
    "gl.ylocator = mticker.FixedLocator(range(-90,100,15))\n",
    "gl.yformatter = LATITUDE_FORMATTER\n",
    "gl.xlabel_style = {'size': 15, 'color': 'gray'}\n",
    "gl.xlabel_style = {'color': 'gray', 'weight': 'bold'}\n",
    "gl.ylabel_style = {'size': 15, 'color': 'gray'}\n",
    "gl.ylabel_style = {'color': 'gray', 'weight': 'bold'}\n",
    "\n",
    "plt.show()"
   ]
  },
  {
   "cell_type": "markdown",
   "id": "ca7fe7e0-236a-4d32-8bdb-4208512ed1ac",
   "metadata": {},
   "source": [
    "## Transformacje"
   ]
  },
  {
   "cell_type": "code",
   "execution_count": null,
   "id": "ae820360-0ee3-4dbc-b9e3-088594408f58",
   "metadata": {},
   "outputs": [],
   "source": [
    "import numpy as np\n",
    "\n",
    "\n",
    "lon = np.linspace(-80, 80, 25)\n",
    "lat = np.linspace(30, 70, 25)\n",
    "lon2d, lat2d = np.meshgrid(lon, lat)\n",
    "\n",
    "data = np.cos(np.deg2rad(lat2d) * 4) + np.sin(np.deg2rad(lon2d) * 4)\n",
    "data[:3]"
   ]
  },
  {
   "cell_type": "code",
   "execution_count": null,
   "id": "3a2b54f9-f47c-4bee-b125-744e15de1baf",
   "metadata": {},
   "outputs": [],
   "source": [
    "import cartopy.crs as ccrs\n",
    "import matplotlib.pyplot as plt\n",
    "\n",
    "plt.figure(figsize=(10, 10))\n",
    "ax = plt.axes(projection=ccrs.PlateCarree())\n",
    "ax.set_global()\n",
    "ax.coastlines()\n",
    "ax.stock_img()\n",
    "ax.contourf(lon, lat, data)  # No transformation so far\n",
    "plt.show()"
   ]
  },
  {
   "cell_type": "code",
   "execution_count": null,
   "id": "2f5b9749-2a5e-40f8-9b68-9f4fc09e598e",
   "metadata": {},
   "outputs": [],
   "source": [
    "import cartopy.crs as ccrs\n",
    "import matplotlib.pyplot as plt\n",
    "\n",
    "projection = ccrs.RotatedPole(pole_longitude=-177.5, pole_latitude=37.5)\n",
    "plt.figure(figsize=(10, 10))\n",
    "ax = plt.axes(projection=projection)\n",
    "ax.set_global()\n",
    "ax.coastlines()\n",
    "ax.stock_img()\n",
    "ax.contourf(lon, lat, data)  # No transformation so far - does not look good\n",
    "plt.show()"
   ]
  },
  {
   "cell_type": "code",
   "execution_count": null,
   "id": "8d53c728-9896-4c66-86cd-44eb425ac17a",
   "metadata": {},
   "outputs": [],
   "source": [
    "import cartopy.crs as ccrs\n",
    "import matplotlib.pyplot as plt\n",
    "\n",
    "\n",
    "projection = ccrs.RotatedPole(pole_longitude=-177.5, pole_latitude=37.5)\n",
    "plt.figure(figsize=(10, 10))\n",
    "ax = plt.axes(projection=projection)\n",
    "ax.set_global()\n",
    "ax.coastlines()\n",
    "ax.stock_img()\n",
    "\n",
    "# Transform\n",
    "ax.contourf(lon, lat, data, transform=ccrs.PlateCarree())\n",
    "plt.show()"
   ]
  },
  {
   "cell_type": "code",
   "execution_count": null,
   "id": "4fc3b994-55c4-4ff6-8de7-5ea656444c64",
   "metadata": {},
   "outputs": [],
   "source": [
    "import matplotlib.pyplot as plt\n",
    "\n",
    "import cartopy.crs as ccrs\n",
    "\n",
    "Londyn = [-0.08, 139.66]\n",
    "Tokio =  [51.53, 35.66]\n",
    "\n",
    "fig = plt.figure(figsize=(15, 15))\n",
    "ax = fig.add_subplot(1, 1, 1, projection=ccrs.PlateCarree())\n",
    "\n",
    "ax.set_global()\n",
    "\n",
    "ax.stock_img()\n",
    "ax.coastlines()\n",
    "\n",
    "ax.plot(-0.08, 51.53, 'o', transform=ccrs.PlateCarree(), color=\"k\")\n",
    "ax.plot(139.66, 35.66, 'o', transform=ccrs.PlateCarree(), color=\"k\")\n",
    "ax.plot(Londyn, Tokio, transform=ccrs.PlateCarree(), color=\"r\")\n",
    "ax.plot(Londyn, Tokio, transform=ccrs.Geodetic(), color=\"g\")\n",
    "\n",
    "plt.show()"
   ]
  },
  {
   "cell_type": "markdown",
   "id": "746ab8cc-4ba6-41a6-ab1d-2eea362cdd81",
   "metadata": {},
   "source": [
    "## Mapy w Cartopy"
   ]
  },
  {
   "cell_type": "code",
   "execution_count": null,
   "id": "e826cd79-e601-4b98-997c-12562f3318c5",
   "metadata": {},
   "outputs": [],
   "source": [
    "import cartopy.crs as ccrs\n",
    "import cartopy.feature as cfeature\n",
    "import matplotlib.pyplot as plt\n",
    "\n",
    "fig = plt.figure(figsize=(20, 10))\n",
    "ax = fig.add_subplot(1, 1, 1, projection=ccrs.PlateCarree())\n",
    "ax.set_extent([-20, 60, -40, 45], crs=ccrs.PlateCarree())\n",
    "\n",
    "ax.add_feature(cfeature.LAND)\n",
    "ax.add_feature(cfeature.OCEAN)\n",
    "\n",
    "plt.show()"
   ]
  },
  {
   "cell_type": "code",
   "execution_count": null,
   "id": "2a552100-1fb6-4d37-a184-1650b8900ab3",
   "metadata": {},
   "outputs": [],
   "source": [
    "import cartopy.crs as ccrs\n",
    "import cartopy.feature as cfeature\n",
    "import matplotlib.pyplot as plt\n",
    "\n",
    "fig = plt.figure(figsize=(10, 10))\n",
    "ax = fig.add_subplot(1, 1, 1, projection=ccrs.PlateCarree())\n",
    "ax.set_extent([-20, 60, -40, 45], crs=ccrs.PlateCarree())\n",
    "\n",
    "ax.add_feature(cfeature.LAND)\n",
    "ax.add_feature(cfeature.OCEAN)\n",
    "ax.add_feature(cfeature.COASTLINE)\n",
    "ax.add_feature(cfeature.BORDERS, linestyle='-',  alpha=0.8)\n",
    "ax.add_feature(cfeature.LAKES, alpha=0.5)\n",
    "ax.add_feature(cfeature.RIVERS)\n",
    "\n",
    "\n",
    "plt.show()"
   ]
  },
  {
   "cell_type": "code",
   "execution_count": null,
   "id": "01016910-6c58-47bc-8f4a-e37c2555fbfb",
   "metadata": {},
   "outputs": [],
   "source": [
    "import cartopy.crs as ccrs\n",
    "import cartopy.feature as cfeature\n",
    "import matplotlib.pyplot as plt\n",
    "\n",
    "fig = plt.figure(figsize=(10, 10))\n",
    "ax = fig.add_subplot(1, 1, 1, projection=ccrs.PlateCarree())\n",
    "ax.set_extent([14, 24.5, 48.5, 55], crs=ccrs.PlateCarree())\n",
    "\n",
    "ax.add_feature(cfeature.LAND)\n",
    "ax.add_feature(cfeature.OCEAN)\n",
    "ax.add_feature(cfeature.COASTLINE)\n",
    "ax.add_feature(cfeature.RIVERS)\n",
    "ax.add_feature(cfeature.BORDERS, linestyle='-.',  alpha=0.4)\n",
    "ax.add_feature(cfeature.LAKES, alpha=0.5)\n",
    "\n",
    "plt.show()"
   ]
  },
  {
   "cell_type": "code",
   "execution_count": null,
   "id": "b2e955ab-8318-48f4-9557-145fb3ffb5be",
   "metadata": {},
   "outputs": [],
   "source": [
    "import cartopy.crs as ccrs\n",
    "import cartopy.feature as cfeature\n",
    "import matplotlib.pyplot as plt\n",
    "\n",
    "fig = plt.figure(figsize=(20, 10))\n",
    "ax = fig.add_subplot(1, 1, 1, projection=ccrs.Mercator())\n",
    "ax.set_extent([14, 24.5, 48.5, 55], crs=ccrs.PlateCarree())\n",
    "\n",
    "ax.add_feature(cfeature.LAND)\n",
    "ax.add_feature(cfeature.OCEAN)\n",
    "ax.add_feature(cfeature.COASTLINE)\n",
    "ax.add_feature(cfeature.RIVERS)\n",
    "ax.add_feature(cfeature.BORDERS, linestyle='-.',  alpha=0.4)\n",
    "ax.add_feature(cfeature.LAKES, alpha=0.5)\n",
    "\n",
    "plt.show()"
   ]
  },
  {
   "cell_type": "markdown",
   "id": "e41acc8f-64bd-4aad-8bc7-d53968ba507c",
   "metadata": {},
   "source": [
    "---\n",
    "## Kreślenie danych na mapie\n",
    "\n",
    "### Użyjemy:\n",
    "\n",
    "#### Dla współrzędnych GPS\n",
    "http://astronomia.zagan.pl/art/wspolrzedne.html\n",
    "\n",
    "#### Dla danych na temat ludności miast\n",
    "https://pl.wikipedia.org/wiki/Dane_statystyczne_o_miastach_w_Polsce\n",
    "    \n",
    "    "
   ]
  },
  {
   "cell_type": "code",
   "execution_count": null,
   "id": "c10bc564-3e2b-49fc-b0f2-c635601ca3ea",
   "metadata": {},
   "outputs": [],
   "source": [
    "import pandas as pd\n",
    "from bs4 import BeautifulSoup as bs4\n",
    "import requests"
   ]
  },
  {
   "cell_type": "raw",
   "id": "8aa35e43-f5eb-448f-8f11-1f5d2d62c4e7",
   "metadata": {},
   "source": [
    "cities = pd.read_csv('data\\pl_miasta.csv', delimiter='\\t')\n",
    "\n",
    "cities"
   ]
  },
  {
   "cell_type": "code",
   "execution_count": null,
   "id": "c5ca4856-6268-4a20-a30c-d0b3acec6a34",
   "metadata": {},
   "outputs": [],
   "source": [
    "cities = pd.DataFrame((pd.read_html(str(bs4(\n",
    "              requests.get('https://pl.wikipedia.org/wiki/Dane_statystyczne_o_miastach_w_Polsce').content\n",
    "             ).table)))[0])\n",
    "cities"
   ]
  },
  {
   "cell_type": "code",
   "execution_count": null,
   "id": "bc0b9933-9a9f-4262-b4a8-c1a0b9c0c554",
   "metadata": {},
   "outputs": [],
   "source": [
    "columns = list(cities.columns)"
   ]
  },
  {
   "cell_type": "code",
   "execution_count": null,
   "id": "21a775aa-a26b-4009-8520-5e71cf230516",
   "metadata": {},
   "outputs": [],
   "source": [
    "columns[0]='city'\n",
    "columns[3]='area'\n",
    "columns[4]='population'\n",
    "columns[5]='density'\n",
    "cities.columns=columns\n",
    "cities.head()"
   ]
  },
  {
   "cell_type": "code",
   "execution_count": null,
   "id": "87bae27c-036e-46fb-816d-31f1684f4c87",
   "metadata": {},
   "outputs": [],
   "source": [
    "cities50=cities.nlargest(50, ['population']).reset_index(drop=True).reset_index()\n",
    "cities50"
   ]
  },
  {
   "cell_type": "code",
   "execution_count": null,
   "id": "677b6c96-e0ed-4995-9654-f3414863b624",
   "metadata": {},
   "outputs": [],
   "source": [
    "import numpy as np\n",
    "import seaborn as sns\n",
    "import matplotlib.pyplot as plt\n",
    "import matplotlib.dates as mdates"
   ]
  },
  {
   "cell_type": "code",
   "execution_count": null,
   "id": "c92c1280-7d14-4a21-a19b-42f91cd76e5f",
   "metadata": {},
   "outputs": [],
   "source": [
    "plt.figure(figsize=(20,10))\n",
    "plt.style.use(\"dark_background\")\n",
    "\n",
    "chart = sns.lineplot(x='index',\n",
    "                     y='population',\n",
    "                     linestyle='-', marker='o',\n",
    "                     palette='bright',  markeredgecolor=\"black\",   \n",
    "                     data=cities50\n",
    "                    )\n",
    "chart.set_ylabel('Ludność')\n",
    "chart.set_xlabel('Rank miasta')\n",
    "chart.ticklabel_format(useOffset=False, style='plain')\n",
    "chart.set_title('Miasta w Polsce')\n",
    "plt.show();"
   ]
  },
  {
   "cell_type": "code",
   "execution_count": null,
   "id": "c93cc9ba-d2de-4e17-bea4-7e326d1256bf",
   "metadata": {},
   "outputs": [],
   "source": [
    "plt.figure(figsize=(20,10))\n",
    "plt.style.use(\"dark_background\")\n",
    "\n",
    "chart = sns.lineplot(x='index',\n",
    "                     y='population',\n",
    "                     linestyle='-', marker='o',\n",
    "                     palette='bright',  markeredgecolor=\"black\",   \n",
    "                     data=cities50\n",
    "                    )\n",
    "plt.yscale('log')\n",
    "chart.set_ylabel('Ludność (Skala logarytmiczna)')\n",
    "chart.set_xlabel('Rank miasta')\n",
    "chart.set_title('Miasta w Polsce')\n",
    "\n",
    "plt.show();"
   ]
  },
  {
   "cell_type": "code",
   "execution_count": null,
   "id": "5125c130-1006-4bb4-a576-293a2bcc5bd6",
   "metadata": {},
   "outputs": [],
   "source": [
    "from io import StringIO\n",
    "import requests\n",
    "import ssl\n",
    "ssl._create_default_https_context = ssl._create_unverified_context\n",
    "\n",
    "coordinates=pd.read_fwf(\n",
    "    StringIO(\n",
    "        \" \".join([ tag.text for tag in \n",
    "              bs4(\n",
    "                     requests.get('https://astronomia.zagan.pl/art/wspolrzedne.html').content\n",
    "                 ).find_all('pre')\n",
    "            ])\n",
    "    ),infer_nrows=3, colspecs=[(0,23),(24,33),(-8,-1)], encoding_errors='ignore')\n",
    "coordinates"
   ]
  },
  {
   "cell_type": "raw",
   "id": "190d0cef-2d35-42bc-a678-3f7437ad20c9",
   "metadata": {},
   "source": [
    "coordinates = pd.read_fwf('data\\pl_wspolrzedne.csv',infer_nrows=3, colspecs='infer', encoding='utf8')"
   ]
  },
  {
   "cell_type": "code",
   "execution_count": null,
   "id": "61711fb7-1f61-4966-b687-af6a814e8c37",
   "metadata": {},
   "outputs": [],
   "source": [
    "coordinates.columns=['city', 'longitude', 'latitude']\n",
    "coordinates = coordinates.iloc[1: , :]\n",
    "coordinates.head()"
   ]
  },
  {
   "cell_type": "code",
   "execution_count": null,
   "id": "a7dfd9b5-b7be-4be8-ae20-9b7d9a2edd48",
   "metadata": {},
   "outputs": [],
   "source": [
    "df=cities50.set_index('city').join(coordinates.set_index('city'))"
   ]
  },
  {
   "cell_type": "code",
   "execution_count": null,
   "id": "2bb1efcb-18cd-4f0f-b476-22365d7ffca8",
   "metadata": {},
   "outputs": [],
   "source": [
    "df.reset_index(inplace=True, drop=False)"
   ]
  },
  {
   "cell_type": "code",
   "execution_count": null,
   "id": "9f314145-c4ec-449b-8565-ada4dc64c8b0",
   "metadata": {},
   "outputs": [],
   "source": [
    "df"
   ]
  },
  {
   "cell_type": "code",
   "execution_count": null,
   "id": "4402f09e-8558-4f1f-9972-81f3d8a7f7fc",
   "metadata": {},
   "outputs": [],
   "source": [
    "def geo2float(s):\n",
    "    s=str(s)\n",
    "    s=s.replace('°','.')\n",
    "    s=s[:5]\n",
    "    degrees = int(s[:2])\n",
    "    minutes = float(s)-degrees\n",
    "    minutes *= (100/60)\n",
    "    return float(degrees+minutes)"
   ]
  },
  {
   "cell_type": "code",
   "execution_count": null,
   "id": "52b8c70b-0635-47ff-98fe-5b5f87dc8c2e",
   "metadata": {},
   "outputs": [],
   "source": [
    "geo2float(\"19°30'E\")"
   ]
  },
  {
   "cell_type": "code",
   "execution_count": null,
   "id": "5b3407f0-fd59-4f07-af5f-15521cc0d0ee",
   "metadata": {},
   "outputs": [],
   "source": [
    "df['latitude'] = df['latitude'].apply(geo2float)\n",
    "df['longitude'] = df['longitude'].apply(geo2float)"
   ]
  },
  {
   "cell_type": "code",
   "execution_count": null,
   "id": "a89d9c4c-eb7a-4948-8441-5b855bc3fd90",
   "metadata": {},
   "outputs": [],
   "source": [
    "df"
   ]
  },
  {
   "cell_type": "code",
   "execution_count": null,
   "id": "6c11bc24-e97b-407d-8b43-930f302bfbd0",
   "metadata": {},
   "outputs": [],
   "source": [
    "import numpy as np\n",
    "\n",
    "df['scaled_pop'] = df['population'].apply(np.sqrt)\n",
    "df['scaled_pop'] = (df['scaled_pop'])/10\n",
    "df"
   ]
  },
  {
   "cell_type": "code",
   "execution_count": null,
   "id": "0b8a9445-c6c5-4f6a-80ea-d50f732d5970",
   "metadata": {},
   "outputs": [],
   "source": [
    "import cartopy.crs as ccrs\n",
    "import cartopy.feature as cfeature\n",
    "import matplotlib.pyplot as plt\n",
    "\n",
    "proj = ccrs.Mercator()\n",
    "fig = plt.figure(figsize=(20,10))\n",
    "\n",
    "ax = plt.axes(projection=ccrs.Mercator())\n",
    "plt.scatter(\n",
    "    x=df[\"longitude\"],\n",
    "    y=df[\"latitude\"],\n",
    "    color=\"red\",\n",
    "    s=df['scaled_pop'],\n",
    "    alpha=1,\n",
    "    transform=ccrs.PlateCarree()\n",
    ")\n",
    "\n",
    "ax.set_extent([14, 24.5, 48.5, 55], crs=ccrs.PlateCarree())\n",
    "\n",
    "ax.add_feature(cfeature.LAND)\n",
    "ax.add_feature(cfeature.OCEAN)\n",
    "ax.add_feature(cfeature.COASTLINE)\n",
    "ax.add_feature(cfeature.RIVERS)\n",
    "ax.add_feature(cfeature.BORDERS, linestyle='-.',  alpha=0.4)\n",
    "ax.add_feature(cfeature.LAKES, alpha=0.5)\n",
    "\n",
    "plt.show()"
   ]
  },
  {
   "cell_type": "code",
   "execution_count": null,
   "id": "509c5531-e721-4f7d-9c95-e925eb510b55",
   "metadata": {},
   "outputs": [],
   "source": [
    "import cartopy.crs as ccrs\n",
    "import cartopy.feature as cfeature\n",
    "import matplotlib.pyplot as plt\n",
    "\n",
    "proj = ccrs.Mercator()\n",
    "fig = plt.figure(figsize=(20,10))\n",
    "\n",
    "ax = plt.axes(projection=ccrs.Mercator())\n",
    "plt.scatter(\n",
    "    x=df[\"longitude\"],\n",
    "    y=df[\"latitude\"],\n",
    "    color=\"red\",\n",
    "    s=df['scaled_pop'],\n",
    "    alpha=1,\n",
    "    transform=ccrs.PlateCarree()\n",
    ")\n",
    "extents = proj.transform_points(ccrs.Geodetic(),np.array([14, 24.5]),np.array([ 48.5, 55]) )\n",
    "\n",
    "ax.set_extent([14, 24.5, 48.5, 55], crs=ccrs.PlateCarree())\n",
    "\n",
    "ax.add_feature(cfeature.LAND)\n",
    "ax.add_feature(cfeature.OCEAN)\n",
    "ax.add_feature(cfeature.COASTLINE)\n",
    "ax.add_feature(cfeature.RIVERS)\n",
    "ax.add_feature(cfeature.BORDERS, linestyle='-.',  alpha=0.4)\n",
    "ax.add_feature(cfeature.LAKES, alpha=0.5)\n",
    "\n",
    "cities=df.nlargest(16, ['population'])\n",
    "for row in cities.reset_index().itertuples():\n",
    "    ax.annotate(row.city, xy=(row.longitude, row.latitude-0.05), xycoords=ccrs.PlateCarree()._as_mpl_transform(ax),\n",
    "            ha='center', va='top', color='black')\n",
    "\n",
    "# First `savefig` then `show`\n",
    "plt.savefig('polska.png')\n",
    "plt.show()"
   ]
  },
  {
   "cell_type": "code",
   "execution_count": null,
   "id": "407e5d99-9759-4d67-9bc4-d0793ebb5095",
   "metadata": {},
   "outputs": [],
   "source": [
    "import cartopy.crs as ccrs\n",
    "import cartopy.feature as cfeature\n",
    "import matplotlib.pyplot as plt\n",
    "\n",
    "proj = ccrs.Mercator()\n",
    "fig = plt.figure(figsize=(20,10))\n",
    "\n",
    "ax = plt.axes(projection=ccrs.Mercator())\n",
    "plt.scatter(\n",
    "    x=df[\"longitude\"],\n",
    "    y=df[\"latitude\"],\n",
    "    color=\"blue\",\n",
    "    s=df['scaled_pop'],\n",
    "    alpha=1,\n",
    "    transform=ccrs.PlateCarree()\n",
    ")\n",
    "extents = proj.transform_points(ccrs.Geodetic(),np.array([14, 24.5]),np.array([ 48.5, 55]) )\n",
    "\n",
    "ax.set_extent([14, 24.5, 48.5, 55], crs=ccrs.PlateCarree())\n",
    "\n",
    "ax.add_feature(cfeature.LAND)\n",
    "ax.add_feature(cfeature.OCEAN)\n",
    "ax.add_feature(cfeature.COASTLINE)\n",
    "ax.add_feature(cfeature.RIVERS)\n",
    "ax.add_feature(cfeature.BORDERS, linestyle='-.',  alpha=0.4)\n",
    "ax.add_feature(cfeature.LAKES, alpha=0.5)\n",
    "\n",
    "ax.stock_img()\n",
    "\n",
    "cities=df.nlargest(16, ['population'])\n",
    "for row in cities.reset_index().itertuples():\n",
    "    ax.annotate(row.city, xy=(row.longitude, row.latitude-0.05), xycoords=ccrs.PlateCarree()._as_mpl_transform(ax),\n",
    "            ha='center', va='top', color='black')\n",
    "\n"
   ]
  },
  {
   "cell_type": "markdown",
   "id": "c465cc16-c4d8-4d6a-abf6-7d4ec442eca4",
   "metadata": {},
   "source": [
    "https://www.ngdc.noaa.gov/mgg/topo/data/pictures/"
   ]
  },
  {
   "cell_type": "code",
   "execution_count": null,
   "id": "9bc07dfe-2c9d-436d-bf5f-037aa53eb20b",
   "metadata": {},
   "outputs": [],
   "source": [
    "import cartopy.crs as ccrs\n",
    "import cartopy.feature as cfeature\n",
    "import matplotlib.pyplot as plt\n",
    "\n",
    "proj = ccrs.Mercator()\n",
    "fig = plt.figure(figsize=(20,10))\n",
    "\n",
    "ax = plt.axes(projection=ccrs.Mercator())\n",
    "plt.scatter(\n",
    "    x=df[\"longitude\"],\n",
    "    y=df[\"latitude\"],\n",
    "    color=\"blue\",\n",
    "    s=df['scaled_pop'],\n",
    "    alpha=1,\n",
    "    transform=ccrs.PlateCarree()\n",
    ")\n",
    "extents = proj.transform_points(ccrs.Geodetic(),np.array([14, 24.5]),np.array([ 48.5, 55]) )\n",
    "\n",
    "ax.set_extent([14, 24.5, 48.5, 55], crs=ccrs.PlateCarree())\n",
    "\n",
    "ax.add_feature(cfeature.LAND)\n",
    "ax.add_feature(cfeature.OCEAN)\n",
    "ax.add_feature(cfeature.COASTLINE)\n",
    "ax.add_feature(cfeature.RIVERS)\n",
    "ax.add_feature(cfeature.BORDERS, linestyle='-.',  alpha=0.4)\n",
    "ax.add_feature(cfeature.LAKES, alpha=0.5)\n",
    "img = plt.imread('img/GLOBALeb3colshade.jpg')\n",
    "img_extent = (-180, 180, -90, 90)\n",
    "\n",
    "ax.imshow(img, origin='upper', extent=img_extent, transform=ccrs.PlateCarree())\n",
    "\n",
    "cities=df.nlargest(16, ['population'])\n",
    "for row in cities.reset_index().itertuples():\n",
    "    ax.annotate(row.city, xy=(row.longitude, row.latitude-0.05), xycoords=ccrs.PlateCarree()._as_mpl_transform(ax),\n",
    "            ha='center', va='top', color='yellow')\n",
    "\n"
   ]
  },
  {
   "cell_type": "markdown",
   "id": "3ea29aa5-ee2c-4996-9522-92d8f73b6fc3",
   "metadata": {},
   "source": [
    "---\n",
    "## `Tiles` - kładzenie płytek"
   ]
  },
  {
   "cell_type": "code",
   "execution_count": null,
   "id": "c0963156-7323-4bed-8bc5-b8d7bd484b85",
   "metadata": {},
   "outputs": [],
   "source": [
    "import cartopy.crs as ccrs\n",
    "import cartopy.feature as cfeature\n",
    "import matplotlib.pyplot as plt\n",
    "from cartopy.io.img_tiles import Stamen\n",
    "\n",
    "proj = ccrs.Mercator()\n",
    "fig = plt.figure(figsize=(20,10))\n",
    "\n",
    "ax = plt.axes(projection=ccrs.Mercator())\n",
    "plt.scatter(\n",
    "    x=df[\"longitude\"],\n",
    "    y=df[\"latitude\"],\n",
    "    color=\"blue\",\n",
    "    s=df['scaled_pop'],\n",
    "    alpha=1,\n",
    "    transform=ccrs.PlateCarree()\n",
    ")\n",
    "extents = proj.transform_points(ccrs.Geodetic(),np.array([14, 24.5]),np.array([ 48.5, 55]) )\n",
    "\n",
    "tiler = Stamen(style=\"terrain-background\")\n",
    "ax = plt.axes(projection=ccrs.Mercator())\n",
    "ax.set_extent([14, 24.5, 48.5, 55])\n",
    "\n",
    "ax.add_image(tiler, 6)\n",
    "\n",
    "\n",
    "ax.set_extent([14, 24.5, 48.5, 55], crs=ccrs.PlateCarree())\n",
    "\n",
    "ax.add_feature(cfeature.LAND)\n",
    "ax.add_feature(cfeature.OCEAN)\n",
    "ax.add_feature(cfeature.COASTLINE)\n",
    "ax.add_feature(cfeature.RIVERS)\n",
    "ax.add_feature(cfeature.BORDERS, linestyle='-.',  alpha=0.4)\n",
    "ax.add_feature(cfeature.LAKES, alpha=0.5)\n",
    "\n",
    "cities=df.nlargest(16, ['population'])\n",
    "for row in cities.reset_index().itertuples():\n",
    "    ax.annotate(row.city, xy=(row.longitude, row.latitude-0.05), xycoords=ccrs.PlateCarree()._as_mpl_transform(ax),\n",
    "            ha='center', va='top', color='red')"
   ]
  },
  {
   "cell_type": "code",
   "execution_count": null,
   "id": "4cf108b9-ab3a-4194-9d66-02fe0c7b85d4",
   "metadata": {},
   "outputs": [],
   "source": [
    "import cartopy.crs as ccrs\n",
    "import cartopy.feature as cfeature\n",
    "import matplotlib.pyplot as plt\n",
    "from cartopy.io.img_tiles import GoogleTiles\n",
    "\n",
    "proj = ccrs.Mercator()\n",
    "fig = plt.figure(figsize=(20,10))\n",
    "\n",
    "ax = plt.axes(projection=ccrs.Mercator())\n",
    "plt.scatter(\n",
    "    x=df[\"longitude\"],\n",
    "    y=df[\"latitude\"],\n",
    "    color=\"blue\",\n",
    "    s=df['scaled_pop'],\n",
    "    alpha=1,\n",
    "    transform=ccrs.PlateCarree()\n",
    ")\n",
    "extents = proj.transform_points(ccrs.Geodetic(),np.array([14, 24.5]),np.array([ 48.5, 55]) )\n",
    "\n",
    "tiler = GoogleTiles(style=\"street\")\n",
    "ax = plt.axes(projection=ccrs.Mercator())\n",
    "ax.set_extent([14, 24.5, 48.5, 55])\n",
    "\n",
    "ax.add_image(tiler, 6)\n",
    "\n",
    "\n",
    "ax.set_extent([14, 24.5, 48.5, 55], crs=ccrs.PlateCarree())\n",
    "\n",
    "ax.add_feature(cfeature.LAND)\n",
    "ax.add_feature(cfeature.OCEAN)\n",
    "ax.add_feature(cfeature.COASTLINE)\n",
    "ax.add_feature(cfeature.RIVERS)\n",
    "ax.add_feature(cfeature.BORDERS, linestyle='-.',  alpha=0.4)\n",
    "ax.add_feature(cfeature.LAKES, alpha=0.5)\n",
    "\n",
    "cities=df.nlargest(16, ['population'])\n"
   ]
  },
  {
   "cell_type": "code",
   "execution_count": null,
   "id": "46500e3b-5021-4119-b732-ce75b14b4796",
   "metadata": {},
   "outputs": [],
   "source": [
    "import cartopy.crs as ccrs\n",
    "import cartopy.feature as cfeature\n",
    "import matplotlib.pyplot as plt\n",
    "from cartopy.io.img_tiles import Stamen\n",
    "\n",
    "proj = ccrs.Mercator()\n",
    "fig = plt.figure(figsize=(20,10))\n",
    "\n",
    "ax = plt.axes(projection=ccrs.Mercator())\n",
    "plt.scatter(\n",
    "    x=df[\"longitude\"],\n",
    "    y=df[\"latitude\"],\n",
    "    color=\"blue\",\n",
    "    s=df['scaled_pop'],\n",
    "    alpha=1,\n",
    "    transform=ccrs.PlateCarree()\n",
    ")\n",
    "extents = proj.transform_points(ccrs.Geodetic(),np.array([14, 24.5]),np.array([ 48.5, 55]) )\n",
    "\n",
    "tiler = GoogleTiles(style=\"satellite\")\n",
    "ax = plt.axes(projection=ccrs.Mercator())\n",
    "ax.set_extent([14, 24.5, 48.5, 55])\n",
    "\n",
    "ax.add_image(tiler, 6)\n",
    "\n",
    "\n",
    "ax.set_extent([14, 24.5, 48.5, 55], crs=ccrs.PlateCarree())\n",
    "\n",
    "ax.add_feature(cfeature.LAND)\n",
    "ax.add_feature(cfeature.OCEAN)\n",
    "ax.add_feature(cfeature.COASTLINE)\n",
    "ax.add_feature(cfeature.RIVERS)\n",
    "ax.add_feature(cfeature.BORDERS, linestyle='-.',  alpha=0.4)\n",
    "ax.add_feature(cfeature.LAKES, alpha=0.5)\n",
    "\n",
    "cities=df.nlargest(16, ['population'])\n",
    "for row in cities.reset_index().itertuples():\n",
    "    ax.annotate(row.city, xy=(row.longitude, row.latitude-0.05), xycoords=ccrs.PlateCarree()._as_mpl_transform(ax),\n",
    "            ha='center', va='top', color='white')"
   ]
  },
  {
   "cell_type": "markdown",
   "id": "ad822f97-2b88-4252-9f05-c2f65c897fd5",
   "metadata": {},
   "source": [
    "---\n",
    "## Pobieranie danych zewnętrznych -  `Shape Readers`"
   ]
  },
  {
   "cell_type": "code",
   "execution_count": null,
   "id": "6e4d8d85-e351-452e-822f-377d31c40665",
   "metadata": {},
   "outputs": [],
   "source": [
    "import cartopy.io.shapereader as shpreader\n",
    "\n",
    "shpfilename = shpreader.natural_earth(resolution='110m',\n",
    "                                      category='cultural',\n",
    "                                      name='admin_0_countries')\n",
    "reader = shpreader.Reader(shpfilename)\n",
    "countries = reader.records()\n",
    "\n",
    "country = next(countries)"
   ]
  },
  {
   "cell_type": "code",
   "execution_count": null,
   "id": "217d1a83-90a6-461a-a0b5-c5cc1443d2e2",
   "metadata": {},
   "outputs": [],
   "source": [
    "print(country.attributes)"
   ]
  },
  {
   "cell_type": "code",
   "execution_count": null,
   "id": "c53d320b-d0af-41b1-9ae0-5a16f7db3430",
   "metadata": {},
   "outputs": [],
   "source": [
    "print(country.geometry)"
   ]
  },
  {
   "cell_type": "code",
   "execution_count": null,
   "id": "f0729145-49d9-4989-9419-3fb580b53409",
   "metadata": {},
   "outputs": [],
   "source": [
    "import cartopy.io.shapereader as shpreader\n",
    "\n",
    "shpfilename = shpreader.natural_earth(resolution='10m',\n",
    "                                      category='cultural',\n",
    "                                      name='admin_0_countries')\n",
    "reader = shpreader.Reader(shpfilename)\n",
    "countries_gen = reader.records()\n",
    "countries = [country for country in countries_gen]\n"
   ]
  },
  {
   "cell_type": "code",
   "execution_count": null,
   "id": "89eb0db0-18cf-4bee-a5b5-e82c76328f78",
   "metadata": {},
   "outputs": [],
   "source": [
    "europe = [ country for country in countries if (country.attributes[\"CONTINENT\"]=='Europe') and (country.attributes[\"GDP_MD\"] > 100) ]"
   ]
  },
  {
   "cell_type": "code",
   "execution_count": null,
   "id": "d97227df-0758-4a0a-99af-1e473bd551cc",
   "metadata": {},
   "outputs": [],
   "source": [
    "len(europe)"
   ]
  },
  {
   "cell_type": "code",
   "execution_count": null,
   "id": "5bda8daa-9d96-4c5a-9b35-d9405d80d130",
   "metadata": {},
   "outputs": [],
   "source": [
    "data = { key: [ country.attributes[key] for country in europe ] for key in [ 'NAME', 'GDP_MD', 'POP_EST']}\n",
    "df = pd.DataFrame(data)\n",
    "df"
   ]
  },
  {
   "cell_type": "code",
   "execution_count": null,
   "id": "f67d1cca-adfc-4c0e-b65e-6d0423ab5d6b",
   "metadata": {},
   "outputs": [],
   "source": [
    "df['GDP_PER_CAPITA'] = round(1_000_000.0 * df.GDP_MD / df.POP_EST)\n",
    "df = df.sort_values(by=['GDP_PER_CAPITA'], ascending=False).reset_index(drop=True)\n",
    "df.reset_index(inplace=True)\n",
    "df"
   ]
  },
  {
   "cell_type": "code",
   "execution_count": null,
   "id": "ab677183-2286-42df-b502-afd790e6663d",
   "metadata": {},
   "outputs": [],
   "source": [
    "category_colors = plt.get_cmap('GnBu')(\n",
    "    np.linspace(0.1, 0.9, df.shape[0]))\n",
    "\n",
    "category_colors[:5]"
   ]
  },
  {
   "cell_type": "code",
   "execution_count": null,
   "id": "a21a5172-e103-4e87-904d-b416737f7ee3",
   "metadata": {},
   "outputs": [],
   "source": [
    "import cartopy.crs as ccrs\n",
    "import cartopy.feature as cfeature\n",
    "import matplotlib.pyplot as plt\n",
    "import matplotlib.cm as cm\n",
    "import cartopy.io.shapereader as shpreader\n",
    "\n",
    "proj = ccrs.Mercator()\n",
    "fig = plt.figure(figsize=(20,10))\n",
    "\n",
    "ax = plt.axes(projection=ccrs.Mercator())\n",
    "extents = proj.transform_points(ccrs.Geodetic(),np.array([-25, 50]),np.array([ 35, 72]) )\n",
    "\n",
    "ax.set_extent([-25, 50, 35, 72], crs=ccrs.PlateCarree())\n",
    "\n",
    "ax.add_feature(cfeature.LAND)\n",
    "ax.add_feature(cfeature.OCEAN)\n",
    "\n",
    "ax.add_feature(cfeature.BORDERS, linestyle='-.',  alpha=0.4)\n",
    "\n",
    "category_colors = plt.get_cmap('RdYlBu')(\n",
    "    np.linspace(0.1, 0.9, df.shape[0]))\n",
    "\n",
    "\n",
    "for country in europe:\n",
    "    row = df.loc[df['NAME'] == country.attributes['NAME']]\n",
    "    color = category_colors[row.values[0][0]]\n",
    "    ax.add_geometries([country.geometry], ccrs.PlateCarree(), facecolor=color, label=country.attributes['ADM0_A3'])\n"
   ]
  },
  {
   "cell_type": "markdown",
   "id": "58405c4e-5b3f-4838-81f0-809ee9dbfcc8",
   "metadata": {},
   "source": [
    "https://www.naturalearthdata.com/"
   ]
  },
  {
   "cell_type": "code",
   "execution_count": null,
   "id": "f93f7e06-96fc-435f-ae85-153f8bb878eb",
   "metadata": {},
   "outputs": [],
   "source": [
    "import cartopy.io.shapereader as shpreader\n",
    "\n",
    "reader = shpreader.Reader('data/naturalearth/ne_10m_admin_0_countries_arg')\n",
    "countries_gen = reader.records()\n",
    "countries = [country for country in countries_gen]\n"
   ]
  },
  {
   "cell_type": "code",
   "execution_count": null,
   "id": "dc646819-17b3-4e6d-9d48-4309bc477345",
   "metadata": {},
   "outputs": [],
   "source": [
    "europe = [ country for country in countries if (country.attributes[\"CONTINENT\"]=='Europe') and (country.attributes[\"GDP_MD\"] > 100) ]\n",
    "data = { key: [ country.attributes[key] for country in europe ] for key in [ 'NAME', 'GDP_MD', 'POP_EST']}\n",
    "df = pd.DataFrame(data)\n",
    "df['GDP_PER_CAPITA'] = round(1_000_000.0 * df.GDP_MD / df.POP_EST)\n",
    "df = df.sort_values(by=['GDP_PER_CAPITA'], ascending=False).reset_index(drop=True)\n",
    "df.reset_index(inplace=True)"
   ]
  },
  {
   "cell_type": "code",
   "execution_count": null,
   "id": "7b698f35-95fd-4e35-8c35-1d92be77876f",
   "metadata": {},
   "outputs": [],
   "source": [
    "import cartopy.crs as ccrs\n",
    "import cartopy.feature as cfeature\n",
    "import matplotlib.pyplot as plt\n",
    "import matplotlib.cm as cm\n",
    "import cartopy.io.shapereader as shpreader\n",
    "\n",
    "proj = ccrs.Mercator()\n",
    "fig = plt.figure(figsize=(20,10))\n",
    "\n",
    "ax = plt.axes(projection=ccrs.Mercator())\n",
    "extents = proj.transform_points(ccrs.Geodetic(),np.array([-25, 50]),np.array([ 35, 72]) )\n",
    "\n",
    "ax.set_extent([-25, 50, 35, 72], crs=ccrs.PlateCarree())\n",
    "\n",
    "ax.add_feature(cfeature.LAND)\n",
    "ax.add_feature(cfeature.OCEAN)\n",
    "\n",
    "ax.add_feature(cfeature.BORDERS, linestyle='-.',  alpha=0.4)\n",
    "\n",
    "category_colors = plt.get_cmap('RdYlBu')(\n",
    "    np.linspace(0.1, 0.9, df.shape[0]))\n",
    "\n",
    "\n",
    "for country in europe:\n",
    "    row = df.loc[df['NAME'] == country.attributes['NAME']]\n",
    "    color = category_colors[row.values[0][0]]\n",
    "    ax.add_geometries([country.geometry], ccrs.PlateCarree(), facecolor=color, label=country.attributes['ADM0_A3'])\n"
   ]
  },
  {
   "cell_type": "code",
   "execution_count": null,
   "id": "eb124cc9-9e90-4245-8f7f-5a2f2af41b31",
   "metadata": {},
   "outputs": [],
   "source": [
    "import cartopy.io.shapereader as shpreader\n",
    "reader = shpreader.Reader('data/states/ne_10m_admin_1_states_provinces')\n",
    "\n",
    "provinces = reader.records()\n",
    "voivodships = [ province for province in provinces if province.attributes[\"admin\"] == \"Poland\"\n",
    "              ]"
   ]
  },
  {
   "cell_type": "code",
   "execution_count": null,
   "id": "57ba577a-f372-4696-acac-8cbe4f1c5077",
   "metadata": {},
   "outputs": [],
   "source": [
    "len(voivodships)"
   ]
  },
  {
   "cell_type": "code",
   "execution_count": null,
   "id": "ad680dba-162f-4dfa-af59-efd127dea343",
   "metadata": {},
   "outputs": [],
   "source": [
    "voivodships[0]"
   ]
  },
  {
   "cell_type": "code",
   "execution_count": null,
   "id": "f4067a77-29c4-41b1-bb9a-33b97cc7f60c",
   "metadata": {},
   "outputs": [],
   "source": [
    "import cartopy.crs as ccrs\n",
    "import cartopy.feature as cfeature\n",
    "import matplotlib.pyplot as plt\n",
    "from cartopy.io.img_tiles import GoogleTiles\n",
    "\n",
    "proj = ccrs.Mercator()\n",
    "fig = plt.figure(figsize=(20,10))\n",
    "\n",
    "ax = plt.axes(projection=ccrs.Mercator())\n",
    "extents = proj.transform_points(ccrs.Geodetic(),np.array([14, 24.5]),np.array([ 48.5, 55]) )\n",
    "\n",
    "ax.set_extent([14, 24.5, 48.5, 55], crs=ccrs.PlateCarree())\n",
    "\n",
    "ax.add_feature(cfeature.LAND)\n",
    "ax.add_feature(cfeature.OCEAN)\n",
    "ax.add_feature(cfeature.COASTLINE)\n",
    "ax.add_feature(cfeature.BORDERS, linestyle='-.',  alpha=0.4)\n",
    "ax.add_feature(cfeature.LAKES, alpha=0.5)\n",
    "\n",
    "category_colors = plt.get_cmap('viridis')(\n",
    "    np.linspace(0.1, 0.9, len(voivodships)))\n",
    "n=0\n",
    "for v in voivodships:\n",
    "    color = category_colors[n]\n",
    "    n+=1\n",
    "    ax.add_geometries([v.geometry], ccrs.PlateCarree(), facecolor=color)"
   ]
  }
 ],
 "metadata": {
  "kernelspec": {
   "display_name": "Python 3",
   "language": "python",
   "name": "python3"
  },
  "language_info": {
   "codemirror_mode": {
    "name": "ipython",
    "version": 3
   },
   "file_extension": ".py",
   "mimetype": "text/x-python",
   "name": "python",
   "nbconvert_exporter": "python",
   "pygments_lexer": "ipython3",
   "version": "3.9.1"
  }
 },
 "nbformat": 4,
 "nbformat_minor": 5
}
