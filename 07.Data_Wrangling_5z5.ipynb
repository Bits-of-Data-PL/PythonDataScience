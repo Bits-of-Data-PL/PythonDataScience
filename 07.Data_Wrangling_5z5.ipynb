{
 "cells": [
  {
   "cell_type": "markdown",
   "metadata": {},
   "source": [
    "# Warsztaty Python w Data Science"
   ]
  },
  {
   "cell_type": "markdown",
   "metadata": {},
   "source": [
    "***"
   ]
  },
  {
   "cell_type": "markdown",
   "metadata": {},
   "source": [
    "## Data Wrangling z Biblioteką Pandas \n",
    "### Część 5 z 5 - Wszystkie sztuczki razem\n",
    "\n",
    "---\n",
    "\n",
    "# https://grouplens.org/datasets/movielens/\n",
    "\n",
    "## Small: 100,000 ratings and 3,600 tag applications applied to 9,000 movies by 600 users. Last updated 9/2018.\n",
    "\n",
    "\n",
    "## Pandas Chaining"
   ]
  },
  {
   "cell_type": "markdown",
   "metadata": {},
   "source": [
    "***"
   ]
  },
  {
   "cell_type": "markdown",
   "metadata": {},
   "source": [
    "# https://github.com/Bits-of-Data-PL/PythonDataScience"
   ]
  },
  {
   "cell_type": "markdown",
   "metadata": {},
   "source": [
    "---"
   ]
  },
  {
   "cell_type": "code",
   "execution_count": null,
   "metadata": {},
   "outputs": [],
   "source": [
    "import pandas as pd\n",
    "\n",
    "movies = pd.read_csv('data/ml-latest-small/movies.csv')\n",
    "movies"
   ]
  },
  {
   "cell_type": "code",
   "execution_count": null,
   "metadata": {},
   "outputs": [],
   "source": [
    "movies[movies['genres']=='(no genres listed)']"
   ]
  },
  {
   "cell_type": "code",
   "execution_count": null,
   "metadata": {},
   "outputs": [],
   "source": [
    "movies= movies[movies['genres']!='(no genres listed)']\n"
   ]
  },
  {
   "cell_type": "code",
   "execution_count": null,
   "metadata": {},
   "outputs": [],
   "source": [
    "movies[movies['genres'].str.contains('-')]"
   ]
  },
  {
   "cell_type": "code",
   "execution_count": null,
   "metadata": {},
   "outputs": [],
   "source": [
    "movies.genres = movies.genres.apply(lambda genre: genre.replace('-',''))\n",
    "movies[movies['genres'].str.contains('-')]"
   ]
  },
  {
   "cell_type": "code",
   "execution_count": null,
   "metadata": {},
   "outputs": [],
   "source": [
    "movies.genres.str.split('|')"
   ]
  },
  {
   "cell_type": "code",
   "execution_count": null,
   "metadata": {},
   "outputs": [],
   "source": [
    "genres = movies.genres.str.split('|', expand=True)\n",
    "genres"
   ]
  },
  {
   "cell_type": "code",
   "execution_count": null,
   "metadata": {},
   "outputs": [],
   "source": [
    "movies_with_genres = pd.concat([movies, genres], axis=1)\n",
    "movies_with_genres"
   ]
  },
  {
   "cell_type": "code",
   "execution_count": null,
   "metadata": {},
   "outputs": [],
   "source": [
    "movies_with_genres.drop('genres', axis=1, inplace=True)\n",
    "movies_with_genres"
   ]
  },
  {
   "cell_type": "code",
   "execution_count": null,
   "metadata": {},
   "outputs": [],
   "source": [
    "movies_with_genres.melt(id_vars=['movieId', 'title'], value_name='genre')"
   ]
  },
  {
   "cell_type": "code",
   "execution_count": null,
   "metadata": {},
   "outputs": [],
   "source": [
    "genres = movies_with_genres.melt(id_vars=['movieId', 'title'], value_name='feature').drop('variable', axis=1)\n",
    "genres"
   ]
  },
  {
   "cell_type": "code",
   "execution_count": null,
   "metadata": {},
   "outputs": [],
   "source": [
    "genres['feature'].unique()"
   ]
  },
  {
   "cell_type": "code",
   "execution_count": null,
   "metadata": {},
   "outputs": [],
   "source": [
    "genres"
   ]
  },
  {
   "cell_type": "code",
   "execution_count": null,
   "metadata": {},
   "outputs": [],
   "source": [
    "genres[genres.movieId==1]"
   ]
  },
  {
   "cell_type": "code",
   "execution_count": null,
   "metadata": {},
   "outputs": [],
   "source": [
    "movies_with_genres.melt(id_vars=['movieId', 'title'], value_name='feature').drop('variable', axis=1).dropna().reset_index(drop=True)"
   ]
  },
  {
   "cell_type": "code",
   "execution_count": null,
   "metadata": {},
   "outputs": [],
   "source": [
    "ratings = pd.read_csv('data/ml-latest-small/ratings.csv')\n",
    "ratings.head(10)"
   ]
  },
  {
   "cell_type": "code",
   "execution_count": null,
   "metadata": {},
   "outputs": [],
   "source": [
    "import matplotlib.pyplot as plt\n",
    "plt.figure(figsize=(12,6))\n",
    "plt.style.use(\"dark_background\")\n",
    "\n",
    "plt.hist(ratings['rating'], 10,\n",
    "         density=True,\n",
    "         histtype='bar',\n",
    "         facecolor='b',\n",
    "         alpha=0.9)\n",
    "\n",
    "plt.show()"
   ]
  },
  {
   "cell_type": "code",
   "execution_count": null,
   "metadata": {},
   "outputs": [],
   "source": [
    "ratings = ratings.drop('timestamp', axis=1)"
   ]
  },
  {
   "cell_type": "code",
   "execution_count": null,
   "metadata": {},
   "outputs": [],
   "source": [
    "ratings"
   ]
  },
  {
   "cell_type": "code",
   "execution_count": null,
   "metadata": {},
   "outputs": [],
   "source": [
    "melted_movies_with_genres = movies_with_genres.melt(id_vars=['movieId', 'title'], value_name='feature').drop(['variable', 'title'], axis=1).dropna().reset_index(drop=True)\n",
    "melted_movies_with_genres.columns"
   ]
  },
  {
   "cell_type": "code",
   "execution_count": null,
   "metadata": {},
   "outputs": [],
   "source": [
    "melted_movies_with_genres = movies_with_genres.melt(id_vars=['movieId', 'title'], value_name='feature').drop(['variable', 'title'], axis=1).dropna().reset_index(drop=True)\n",
    "melted_movies_with_genres.feature = melted_movies_with_genres.feature.apply(lambda feat: feat.replace('-',''))\n",
    "ratings_and_movies = pd.merge(ratings, melted_movies_with_genres, on='movieId', how='inner')\n",
    "ratings_and_movies"
   ]
  },
  {
   "cell_type": "code",
   "execution_count": null,
   "metadata": {},
   "outputs": [],
   "source": [
    "grouped_features = ratings_and_movies.drop('movieId', axis=1).groupby(['userId', 'feature']).sum()\n",
    "grouped_features"
   ]
  },
  {
   "cell_type": "code",
   "execution_count": null,
   "metadata": {},
   "outputs": [],
   "source": [
    "grouped_features.reset_index(inplace=True)"
   ]
  },
  {
   "cell_type": "code",
   "execution_count": null,
   "metadata": {},
   "outputs": [],
   "source": [
    "df.columns"
   ]
  },
  {
   "cell_type": "code",
   "execution_count": null,
   "metadata": {},
   "outputs": [],
   "source": [
    "grouped_features.pivot(index='userId', columns=['feature'])['rating']"
   ]
  },
  {
   "cell_type": "code",
   "execution_count": null,
   "metadata": {},
   "outputs": [],
   "source": [
    "grouped_features.pivot(index='userId', columns=['feature'])['rating'].fillna(0).reset_index()"
   ]
  },
  {
   "cell_type": "code",
   "execution_count": null,
   "metadata": {},
   "outputs": [],
   "source": [
    "df = grouped_features.reset_index().pivot(index='userId', columns=['feature'])['rating'].fillna(0).reset_index()\n",
    "df"
   ]
  },
  {
   "cell_type": "code",
   "execution_count": null,
   "metadata": {},
   "outputs": [],
   "source": [
    "df[\"total\"] = df.drop(\"userId\", axis=1).sum(axis=1)"
   ]
  },
  {
   "cell_type": "code",
   "execution_count": null,
   "metadata": {},
   "outputs": [],
   "source": [
    "df"
   ]
  },
  {
   "cell_type": "code",
   "execution_count": null,
   "metadata": {},
   "outputs": [],
   "source": [
    "df.iloc[:,1:] = df.iloc[:,1:].div(df.total, axis=0)"
   ]
  },
  {
   "cell_type": "code",
   "execution_count": null,
   "metadata": {},
   "outputs": [],
   "source": [
    "df"
   ]
  },
  {
   "cell_type": "code",
   "execution_count": null,
   "metadata": {},
   "outputs": [],
   "source": [
    "user2 = df[df.userId==2].melt().drop(df. index[0])\n",
    "user2.style.format({'value':'{:,.2%}'})"
   ]
  },
  {
   "cell_type": "markdown",
   "metadata": {},
   "source": [
    "---\n",
    "\n",
    "# Pandas Chaining"
   ]
  },
  {
   "cell_type": "code",
   "execution_count": null,
   "metadata": {},
   "outputs": [],
   "source": [
    "grouped_features.reset_index().pivot(index='userId', columns=['feature'])['rating'].fillna(0).reset_index().assign(total=lambda d: d.drop(\"userId\", axis=1).sum(axis=1))"
   ]
  },
  {
   "cell_type": "code",
   "execution_count": null,
   "metadata": {},
   "outputs": [],
   "source": [
    "grouped_features.reset_index(\n",
    "               ).pivot(index='userId', columns=['feature'])['rating']\\\n",
    "                .fillna(0\n",
    "               ).reset_index(\n",
    "               ).assign(total=lambda d: d.drop(\"userId\", axis=1).sum(axis=1)\n",
    "               ).set_index('userId'\n",
    "               ).pipe(lambda df: df.iloc[:,1:].div(df.total, axis=0)\n",
    "               ).reset_index()"
   ]
  },
  {
   "cell_type": "code",
   "execution_count": null,
   "metadata": {},
   "outputs": [],
   "source": [
    "(grouped_features\n",
    "               .reset_index()\n",
    "               .pivot(index='userId', columns=['feature'])['rating']\n",
    "               .fillna(0)\n",
    "               .reset_index()\n",
    "               .assign(total=lambda d: d.drop(\"userId\", axis=1)\n",
    "                                        .sum(axis=1))\n",
    "               .set_index('userId')\n",
    "               .pipe(lambda df: df.iloc[:,1:].div(df.total, axis=0))\n",
    "               .reset_index())"
   ]
  },
  {
   "cell_type": "code",
   "execution_count": null,
   "metadata": {},
   "outputs": [],
   "source": [
    "(ratings_and_movies.drop('movieId', axis=1)\n",
    "                        .groupby(['userId', 'feature'])\n",
    "                        .sum()\n",
    "                        .reset_index()\n",
    "                        .pivot(index='userId', columns=['feature'])['rating']\n",
    "                        .fillna(0)\n",
    "                        .reset_index()\n",
    "                        .assign(total=lambda d: d.drop(\"userId\", axis=1)\n",
    "                                                 .sum(axis=1))\n",
    "                        .set_index('userId')\n",
    "                        .pipe(lambda df: df.iloc[:,1:]\n",
    "                                           .div(df.total, axis=0))\n",
    "                        .reset_index())"
   ]
  },
  {
   "cell_type": "code",
   "execution_count": null,
   "metadata": {},
   "outputs": [],
   "source": [
    "(pd.merge(\n",
    "    pd.read_csv('data/ml-latest-small/ratings.csv').drop(\"timestamp\", axis=1), \n",
    "    melted_movies_with_genres, on='movieId', how='inner'\n",
    "  ).drop('movieId', axis=1)\n",
    "   .groupby(['userId', 'feature'])\n",
    "   .sum()\n",
    "   .reset_index()\n",
    "   .pivot(index='userId', columns=['feature'])['rating']\n",
    "   .fillna(0)\n",
    "   .reset_index()\n",
    "   .assign(total=lambda d: d.drop(\"userId\", axis=1)\n",
    "                            .sum(axis=1)\n",
    "   ).set_index('userId')\n",
    "    .pipe(lambda df: df.iloc[:,1:]\n",
    "                       .div(df.total, axis=0))\n",
    "    .reset_index())"
   ]
  },
  {
   "cell_type": "code",
   "execution_count": null,
   "metadata": {},
   "outputs": [],
   "source": [
    "(pd.merge(\n",
    "    pd.read_csv('data/ml-latest-small/ratings.csv').drop(\"timestamp\", axis=1), \n",
    "    pd.concat([movies, movies.genres.str.split('|', expand=True)], axis=1)\n",
    "             .drop('genres', axis=1)\n",
    "             .melt(id_vars=['movieId', 'title'], value_name='feature')\n",
    "             .assign(feature=lambda df: df.feature.replace('-',''))\n",
    "             .drop(['variable', 'title'], axis=1)\n",
    "             .dropna()\n",
    "             .reset_index(drop=True), \n",
    "    on='movieId', how='inner'\n",
    ")\n",
    "  .drop('movieId', axis=1)\n",
    "  .groupby(['userId', 'feature'])\n",
    "  .sum()\n",
    "  .reset_index()\n",
    "  .pivot(index='userId', columns=['feature'])['rating']\n",
    "  .fillna(0)\n",
    "  .reset_index()\n",
    "  .assign(total=lambda d: d.drop(\"userId\", axis=1)\n",
    "                           .sum(axis=1))\n",
    "  .set_index('userId')\n",
    "  .pipe(lambda df: df.iloc[:,1:]\n",
    "                     .div(df.total, axis=0))\n",
    "  .reset_index()\n",
    ")"
   ]
  },
  {
   "cell_type": "code",
   "execution_count": null,
   "metadata": {},
   "outputs": [],
   "source": [
    "import pandas as pd\n",
    "\n",
    "pd.read_csv('data/ml-latest-small/movies.csv').pipe(lambda df:  pd.concat([df, df.genres.str.split('|', expand=True)], axis=1))"
   ]
  },
  {
   "cell_type": "code",
   "execution_count": null,
   "metadata": {},
   "outputs": [],
   "source": [
    "(pd.merge(\n",
    "    pd.read_csv('data/ml-latest-small/ratings.csv').drop(\"timestamp\", axis=1), \n",
    "    pd.read_csv('data/ml-latest-small/movies.csv').pipe(lambda df:\n",
    "                                                        df[df['genres']!='(no genres listed)'])\n",
    "                                                  .assign(genres=lambda df: df.genres.apply(\n",
    "                                                                                    lambda genre: genre.replace('-','')\n",
    "                                                                             ) \n",
    "                                                         )\n",
    "                                                  .pipe(lambda df:  \n",
    "                                                        pd.concat([df, \n",
    "                                                                   df.genres.str.split('|', expand=True)], axis=1))\n",
    "             .drop('genres', axis=1)\n",
    "             .melt(id_vars=['movieId', 'title'], value_name='feature')\n",
    "             .assign(feature=lambda df: df.feature.replace('-',''))\n",
    "             .drop(['variable', 'title'], axis=1)\n",
    "             .dropna()\n",
    "             .reset_index(drop=True), \n",
    "    on='movieId', how='inner'\n",
    ")\n",
    "  .drop('movieId', axis=1)\n",
    "  .groupby(['userId', 'feature'])\n",
    "  .sum()\n",
    "  .reset_index()\n",
    "  .pivot(index='userId', columns=['feature'])['rating']\n",
    "  .fillna(0)\n",
    "  .reset_index()\n",
    "  .assign(total=lambda d: d.drop(\"userId\", axis=1)\n",
    "                           .sum(axis=1))\n",
    "  .set_index('userId')\n",
    "  .pipe(lambda df: df.iloc[:,1:]\n",
    "                     .div(df.total, axis=0))\n",
    "  .reset_index()\n",
    ")"
   ]
  },
  {
   "cell_type": "code",
   "execution_count": null,
   "metadata": {},
   "outputs": [],
   "source": [
    "(pd.merge(\n",
    "    pd.read_csv('data/ml-latest-small/ratings.csv').drop(\"timestamp\", axis=1), \n",
    "    pd.read_csv('data/ml-latest-small/movies.csv').pipe(lambda df:\n",
    "                                                        df[df['genres']!='(no genres listed)'])\n",
    "                                                  .assign(genres=lambda df: df.genres.apply(\n",
    "                                                                                    lambda genre: genre.replace('-','')\n",
    "                                                                             ) \n",
    "                                                         )\n",
    "                                                  .pipe(lambda df:  \n",
    "                                                        pd.concat([df, \n",
    "                                                                   df.genres.str.split('|', expand=True)], axis=1))\n",
    "             .drop('genres', axis=1)\n",
    "             .melt(id_vars=['movieId', 'title'], value_name='feature')\n",
    "             .assign(feature=lambda df: df.feature.replace('-',''))\n",
    "             .drop(['variable', 'title'], axis=1)\n",
    "             .dropna()\n",
    "             .reset_index(drop=True), \n",
    "    on='movieId', how='inner'\n",
    ")\n",
    "  .drop('movieId', axis=1)\n",
    "  .groupby(['userId', 'feature'])\n",
    "  .sum()\n",
    "  .reset_index()\n",
    "  .pivot(index='userId', columns=['feature'])['rating']\n",
    "  .fillna(0)\n",
    "  .reset_index()\n",
    "  .assign(total=lambda d: d.drop(\"userId\", axis=1)\n",
    "                           .sum(axis=1))\n",
    "  .set_index('userId')\n",
    "  .pipe(lambda df: df.div(df.total, axis=0))\n",
    "  .assign(**{k : lambda df, col=k: df[col].mul(100.0) for k in ['Action', 'Adventure', 'SciFi', 'Thriller', 'Animation', 'Children', 'Comedy', 'Fantasy', 'Documentary'\n",
    "                                                          'Drama', 'Crime', 'Horror', 'Western', 'Musical', 'Mystery', 'IMAX', 'Romance', 'War', 'FilmNoir', 'total',]   })\n",
    "  .pipe(lambda df: df.round(2))\n",
    "  .reset_index()\n",
    ")"
   ]
  },
  {
   "cell_type": "code",
   "execution_count": null,
   "metadata": {},
   "outputs": [],
   "source": [
    "pd.read_csv('data/ml-latest-small/ratings.csv').drop(\"timestamp\", axis=1)"
   ]
  },
  {
   "cell_type": "code",
   "execution_count": null,
   "metadata": {},
   "outputs": [],
   "source": [
    "df = pd.read_csv('data/ml-latest-small/ratings.csv')\n",
    "df.drop(\"timestamp\", axis=1, inplace=True)\n",
    "df"
   ]
  },
  {
   "cell_type": "code",
   "execution_count": null,
   "metadata": {},
   "outputs": [],
   "source": [
    "movies = pd.read_csv('data/ml-latest-small/movies.csv')\n",
    "movies = movies[movies['genres']!='(no genres listed)']\n",
    "genres = movies.genres.str.split('|', expand=True)\n",
    "movies_with_genres = pd.concat([movies, genres], axis=1).drop('genres', axis=1)\n",
    "ratings = pd.read_csv('data/ml-latest-small/ratings.csv')\n",
    "ratings = ratings.drop('timestamp', axis=1)\n",
    "\n",
    "melted_movies_with_genres = movies_with_genres.melt(id_vars=['movieId', 'title'], value_name='feature').drop(['variable', 'title'], axis=1).dropna().reset_index(drop=True)\n",
    "melted_movies_with_genres.feature = melted_movies_with_genres.feature.apply(lambda feat: feat.replace('-',''))\n",
    "\n",
    "ratings_and_movies = pd.merge(ratings, melted_movies_with_genres, on='movieId', how='inner')\n",
    "ratings_and_movies\n",
    "\n",
    "grouped_features = ratings_and_movies.drop('movieId', axis=1).groupby(['userId', 'feature']).agg(['sum', 'count'])\n",
    "grouped_features"
   ]
  },
  {
   "cell_type": "code",
   "execution_count": null,
   "metadata": {},
   "outputs": [],
   "source": [
    "(pd.merge(\n",
    "    pd.read_csv('data/ml-latest-small/ratings.csv').drop(\"timestamp\", axis=1), \n",
    "    pd.read_csv('data/ml-latest-small/movies.csv').pipe(lambda df:\n",
    "                                                        df[df['genres']!='(no genres listed)'])\n",
    "                                                  .assign(genres=lambda df: df.genres.apply(\n",
    "                                                                                    lambda genre: genre.replace('-','')\n",
    "                                                                             ) \n",
    "                                                         )\n",
    "                                                  .pipe(lambda df:  \n",
    "                                                        pd.concat([df, \n",
    "                                                                   df.genres.str.split('|', expand=True)], axis=1))\n",
    "             .drop('genres', axis=1)\n",
    "             .melt(id_vars=['movieId', 'title'], value_name='feature')\n",
    "             .assign(feature=lambda df: df.feature.replace('-',''))\n",
    "             .drop(['variable', 'title'], axis=1)\n",
    "             .dropna()\n",
    "             .reset_index(drop=True), \n",
    "    on='movieId', how='inner'\n",
    ")\n",
    "  .drop('movieId', axis=1)\n",
    "  .groupby(['userId', 'feature'])\n",
    "  .agg(['sum', 'count'])\n",
    "  .reset_index()\n",
    "  .pivot(index='userId', columns=['feature'])['rating']\n",
    "  .fillna(0)\n",
    "  .reset_index()\n",
    ")"
   ]
  },
  {
   "cell_type": "code",
   "execution_count": null,
   "metadata": {},
   "outputs": [],
   "source": [
    "(pd.merge(\n",
    "    pd.read_csv('data/ml-latest-small/ratings.csv').drop(\"timestamp\", axis=1), \n",
    "    pd.read_csv('data/ml-latest-small/movies.csv').pipe(lambda df:\n",
    "                                                        df[df['genres']!='(no genres listed)'])\n",
    "                                                  .assign(genres=lambda df: df.genres.apply(\n",
    "                                                                                    lambda genre: genre.replace('-','')\n",
    "                                                                             ) \n",
    "                                                    )\n",
    "                                                  .pipe(lambda df:  \n",
    "                                                        pd.concat([df, \n",
    "                                                                   df.genres.str.split('|', expand=True)], axis=1))\n",
    "             .drop('genres', axis=1)\n",
    "             .melt(id_vars=['movieId', 'title'], value_name='feature')\n",
    "             .assign(feature=lambda df: df.feature.replace('-',''))\n",
    "             .drop(['variable', 'title'], axis=1)\n",
    "             .dropna()\n",
    "             .reset_index(drop=True), \n",
    "    on='movieId', how='inner'\n",
    ")\n",
    "  .drop('movieId', axis=1)\n",
    "  .groupby(['userId', 'feature'])\n",
    "  .agg(['sum', 'count'])\n",
    "  .reset_index()\n",
    "  .pivot(index='userId', columns=['feature'])['rating']\n",
    "  .fillna(0)\n",
    "  .reset_index()\n",
    "  .pipe( lambda df: df.astype({k:'int' for k in df.columns[1+len(df.columns)//2:] }))\n",
    "  .pipe( lambda df: df.set_axis(df.columns.to_flat_index(), axis=1))\n",
    "  .rename( mapper = lambda ind: \"_\".join(ind[::-1]) , axis=1)\n",
    "  .assign(**{\"total_sum\": lambda d: d.iloc[:, 1:1+len(d.columns)//2].sum(axis=1),\n",
    "             \"total_count\": lambda d: d.iloc[:, 2+len(d.columns)//2:-1].sum(axis=1)\n",
    "            })\n",
    ")"
   ]
  },
  {
   "cell_type": "code",
   "execution_count": null,
   "metadata": {},
   "outputs": [],
   "source": [
    "(pd.merge(\n",
    "    pd.read_csv('data/ml-latest-small/ratings.csv').drop(\"timestamp\", axis=1), \n",
    "    pd.read_csv('data/ml-latest-small/movies.csv').pipe(lambda df:\n",
    "                                                        df[df['genres']!='(no genres listed)'])\n",
    "                                                  .assign(genres=lambda df: df.genres.apply(\n",
    "                                                                                    lambda genre: genre.replace('-','')\n",
    "                                                                             ) \n",
    "                                                    )\n",
    "                                                  .pipe(lambda df:  \n",
    "                                                        pd.concat([df, \n",
    "                                                                   df.genres.str.split('|', expand=True)], axis=1))\n",
    "             .drop('genres', axis=1)\n",
    "             .melt(id_vars=['movieId', 'title'], value_name='feature')\n",
    "             .assign(feature=lambda df: df.feature.replace('-',''))\n",
    "             .drop(['variable', 'title'], axis=1)\n",
    "             .dropna()\n",
    "             .reset_index(drop=True), \n",
    "    on='movieId', how='inner'\n",
    ")\n",
    "  .drop('movieId', axis=1)\n",
    "  .groupby(['userId', 'feature'])\n",
    "  .agg(['sum', 'count'])\n",
    "  .reset_index()\n",
    "  .pivot(index='userId', columns=['feature'])['rating']\n",
    "  .fillna(0)\n",
    "  .reset_index()\n",
    "  .pipe( lambda df: df.astype({k:'int' for k in df.columns[1+len(df.columns)//2:] }))\n",
    "  .pipe( lambda df: df.set_axis(df.columns.to_flat_index(), axis=1))\n",
    "  .rename( mapper = lambda ind: \"_\".join(ind[::-1]) , axis=1)\n",
    "  .assign(**{\"total_sum\": lambda d: d.filter(like='_sum', axis=1).sum(axis=1),\n",
    "             \"total_count\":  lambda d: d.filter(like='_count', axis=1).sum(axis=1)\n",
    "            })\n",
    ")"
   ]
  },
  {
   "cell_type": "code",
   "execution_count": null,
   "metadata": {},
   "outputs": [],
   "source": [
    "(pd.merge(\n",
    "    pd.read_csv('data/ml-latest-small/ratings.csv').drop(\"timestamp\", axis=1), \n",
    "    pd.read_csv('data/ml-latest-small/movies.csv').pipe(lambda df:\n",
    "                                                        df[df['genres']!='(no genres listed)'])\n",
    "                                                  .assign(genres=lambda df: df.genres.apply(\n",
    "                                                                                    lambda genre: genre.replace('-','')\n",
    "                                                                             ) \n",
    "                                                    )\n",
    "                                                  .pipe(lambda df:  \n",
    "                                                        pd.concat([df, \n",
    "                                                                   df.genres.str.split('|', expand=True)], axis=1))\n",
    "             .drop('genres', axis=1)\n",
    "             .melt(id_vars=['movieId', 'title'], value_name='feature')\n",
    "             .assign(feature=lambda df: df.feature.replace('-',''))\n",
    "             .drop(['variable', 'title'], axis=1)\n",
    "             .dropna()\n",
    "             .reset_index(drop=True), \n",
    "    on='movieId', how='inner'\n",
    ")\n",
    "  .drop('movieId', axis=1)\n",
    "  .groupby(['userId', 'feature'])\n",
    "  .agg(['sum', 'count'])\n",
    "  .reset_index()\n",
    "  .pivot(index='userId', columns=['feature'])['rating']\n",
    "  .fillna(0)\n",
    "  .reset_index()\n",
    "  .pipe( lambda df: df.astype({k:'int' for k in df.columns[1+len(df.columns)//2:] }))\n",
    "  .pipe( lambda df: df.set_axis(df.columns.to_flat_index(), axis=1))\n",
    "  .rename( mapper = lambda ind: \"_\".join(ind[::-1]) , axis=1)\n",
    "  .assign(**{\"total_sum\": lambda d: d.filter(like='_sum', axis=1).sum(axis=1),\n",
    "             \"total_count\":  lambda d: d.filter(like='_count', axis=1).sum(axis=1)\n",
    "            })\n",
    ").columns"
   ]
  },
  {
   "cell_type": "code",
   "execution_count": null,
   "metadata": {},
   "outputs": [],
   "source": [
    "result = (pd.merge(\n",
    "    pd.read_csv('data/ml-latest-small/ratings.csv').drop(\"timestamp\", axis=1), \n",
    "    pd.read_csv('data/ml-latest-small/movies.csv').pipe(lambda df:\n",
    "                                                        df[df['genres']!='(no genres listed)'])\n",
    "                                                  .assign(genres=lambda df: df.genres.apply(\n",
    "                                                                                    lambda genre: genre.replace('-','')\n",
    "                                                                             ) \n",
    "                                                    )\n",
    "                                                  .pipe(lambda df:  \n",
    "                                                        pd.concat([df, \n",
    "                                                                   df.genres.str.split('|', expand=True)], axis=1))\n",
    "             .drop('genres', axis=1)\n",
    "             .melt(id_vars=['movieId', 'title'], value_name='feature')\n",
    "             .assign(feature=lambda df: df.feature.replace('-',''))\n",
    "             .drop(['variable', 'title'], axis=1)\n",
    "             .dropna()\n",
    "             .reset_index(drop=True), \n",
    "    on='movieId', how='inner'\n",
    ")\n",
    "  .drop('movieId', axis=1)\n",
    "  .groupby(['userId', 'feature'])\n",
    "  .agg(['sum', 'count'])\n",
    "  .reset_index()\n",
    "  .pivot(index='userId', columns=['feature'])['rating']\n",
    "  .fillna(0)\n",
    "  .reset_index()\n",
    "  .pipe( lambda df: df.astype({k:'int' for k in df.columns[1+len(df.columns)//2:] }))\n",
    "  .pipe( lambda df: df.set_axis(df.columns.to_flat_index(), axis=1))\n",
    "  .rename( mapper = lambda ind: \"_\".join(ind[::-1]) , axis=1)\n",
    "  .assign(**{\"total_sum\": lambda d: d.filter(like='_sum', axis=1).sum(axis=1),\n",
    "             \"total_count\":  lambda d: d.filter(like='_count', axis=1).sum(axis=1)})\n",
    "  .assign(**{k : lambda df, col=k: df[col].div(df.total_sum) for k in [l+'_sum' for l in ['Action', 'Adventure', 'SciFi', 'Thriller', 'Animation', 'Children', 'Comedy', 'Fantasy', \n",
    "                                                          'Drama', 'Crime', 'Horror', 'Western', 'Musical', 'Mystery', 'IMAX', 'Romance', 'War', 'FilmNoir', 'total']]})\n",
    ")\n",
    "result"
   ]
  },
  {
   "cell_type": "code",
   "execution_count": null,
   "metadata": {},
   "outputs": [],
   "source": [
    "(pd.concat([result.iloc[1:2,:].melt().iloc[1:-21,:].reset_index(drop=True), \n",
    "                result.iloc[1:2,:].melt().iloc[20:,:].reset_index(drop=True).rename(columns={x:x+\"_c\" for x in result.iloc[1:2,:].melt().columns})], axis=1)\n",
    "    \n",
    "  .pipe(lambda d: d.append(d.sum(numeric_only=True), ignore_index=True))\n",
    "\n",
    ")"
   ]
  },
  {
   "cell_type": "code",
   "execution_count": null,
   "metadata": {},
   "outputs": [],
   "source": [
    "result = (pd.merge(\n",
    "    pd.read_csv('data/ml-latest-small/ratings.csv').drop(\"timestamp\", axis=1), \n",
    "    pd.read_csv('data/ml-latest-small/movies.csv').pipe(lambda df:\n",
    "                                                        df[df['genres']!='(no genres listed)'])\n",
    "                                                  .assign(genres=lambda df: df.genres.apply(\n",
    "                                                                                    lambda genre: genre.replace('-','')\n",
    "                                                                             ) \n",
    "                                                    )\n",
    "                                                  .pipe(lambda df:  \n",
    "                                                        pd.concat([df, \n",
    "                                                                   df.genres.str.split('|', expand=True)], axis=1))\n",
    "             .drop('genres', axis=1)\n",
    "             .melt(id_vars=['movieId', 'title'], value_name='feature')\n",
    "             .assign(feature=lambda df: df.feature.replace('-',''))\n",
    "             .drop(['variable', 'title'], axis=1)\n",
    "             .dropna()\n",
    "             .reset_index(drop=True), \n",
    "    on='movieId', how='inner'\n",
    ")\n",
    "  .drop('movieId', axis=1)\n",
    "  .groupby(['userId', 'feature'])\n",
    "  .agg(['sum', 'count'])\n",
    "  .reset_index()\n",
    "  .pivot(index='userId', columns=['feature'])['rating']\n",
    "  .fillna(0)\n",
    "  .reset_index()\n",
    "  .pipe( lambda df: df.astype({k:'int' for k in df.columns[1+len(df.columns)//2:] }))\n",
    "  .pipe( lambda df: df.set_axis(df.columns.to_flat_index(), axis=1))\n",
    "  .rename( mapper = lambda ind: \"_\".join(ind[::-1]) , axis=1)\n",
    "  .assign(**{\"total_sum\": lambda d: d.filter(like='_sum', axis=1).sum(axis=1),\n",
    "             \"total_count\":  lambda d: d.filter(like='_count', axis=1).sum(axis=1)})\n",
    "  .assign(**{k : lambda df, col=k: 100.0*df[col].div(df.total_sum) for k in [l+'_sum' for l in ['Action', 'Adventure', 'SciFi', 'Thriller', 'Documentary',  'Animation', 'Children', 'Comedy', 'Fantasy', \n",
    "                                                          'Drama', 'Crime', 'Horror', 'Western', 'Musical', 'Mystery', 'IMAX', 'Romance', 'War', 'FilmNoir', 'total',]]})\n",
    "  .assign(**{k : lambda df, col=k: 100.0*df[col].div(df.total_count) for k in [l+'_count' for l in ['Action', 'Adventure', 'SciFi', 'Thriller', 'Documentary', 'Animation', 'Children', 'Comedy', 'Fantasy', \n",
    "                                                          'Drama', 'Crime', 'Horror', 'Western', 'Musical', 'Mystery', 'IMAX', 'Romance', 'War', 'FilmNoir', 'total']]})\n",
    "  .pipe(lambda df: df.round(2))\n",
    ")\n",
    "result"
   ]
  },
  {
   "cell_type": "code",
   "execution_count": null,
   "metadata": {},
   "outputs": [],
   "source": [
    "(pd.concat([result.iloc[1:2,:].melt().iloc[1:-21,:].reset_index(drop=True), \n",
    "                result.iloc[1:2,:].melt().iloc[20:-2,:].reset_index(drop=True).rename(columns={x:x+\"_c\" for x in result.iloc[1:2,:].melt().columns})], axis=1)\n",
    "    \n",
    "  .pipe(lambda d:d.append(d.sum(numeric_only=True), ignore_index=True))\n",
    "\n",
    ")"
   ]
  },
  {
   "cell_type": "code",
   "execution_count": null,
   "metadata": {},
   "outputs": [],
   "source": []
  }
 ],
 "metadata": {
  "kernelspec": {
   "display_name": "Python 3",
   "language": "python",
   "name": "python3"
  },
  "language_info": {
   "codemirror_mode": {
    "name": "ipython",
    "version": 3
   },
   "file_extension": ".py",
   "mimetype": "text/x-python",
   "name": "python",
   "nbconvert_exporter": "python",
   "pygments_lexer": "ipython3",
   "version": "3.9.1"
  }
 },
 "nbformat": 4,
 "nbformat_minor": 4
}
